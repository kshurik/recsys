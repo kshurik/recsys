{
 "cells": [
  {
   "attachments": {},
   "cell_type": "markdown",
   "metadata": {},
   "source": [
    "# 0. Configuration"
   ]
  },
  {
   "cell_type": "code",
   "execution_count": 1,
   "metadata": {},
   "outputs": [],
   "source": [
    "# links to shared data MovieLens\n",
    "# source on kaggle: https://www.kaggle.com/code/quangnhatbui/movie-recommender/data\n",
    "INTERACTIONS_PATH = '/Users/s.khalilbekov/Downloads/data_kion/interactions_df.csv'\n",
    "ITEMS_METADATA_PATH = 'https://drive.google.com/file/d/12a80lS3vXQOl6i6ENgz-WqWw3Wms0nqB/view?usp=share_link'\n",
    "USERS_DATA_PATH = 'https://drive.google.com/file/d/1MwPaye0cRi53czLqCnH0bOuvIhOeNlAx/view?usp=share_link'"
   ]
  },
  {
   "attachments": {},
   "cell_type": "markdown",
   "metadata": {},
   "source": [
    "# 1. Modules and functions"
   ]
  },
  {
   "cell_type": "code",
   "execution_count": 77,
   "metadata": {},
   "outputs": [],
   "source": [
    "# just to make it available to download w/o SSL verification\n",
    "import ssl\n",
    "ssl._create_default_https_context = ssl._create_unverified_context\n",
    "\n",
    "import shap\n",
    "import numpy as np\n",
    "import pandas as pd\n",
    "import datetime as dt\n",
    "\n",
    "from sklearn.utils import shuffle\n",
    "from sklearn.model_selection import train_test_split\n",
    "\n",
    "from lightfm.data import Dataset\n",
    "from lightfm import LightFM\n",
    "\n",
    "from catboost import CatBoostClassifier\n",
    "\n",
    "from tqdm import tqdm_notebook\n",
    "import warnings\n",
    "warnings.filterwarnings('ignore')\n",
    "\n",
    "pd.set_option('display.float_format', lambda x: '%.3f' % x)"
   ]
  },
  {
   "attachments": {},
   "cell_type": "markdown",
   "metadata": {},
   "source": [
    "## 1. 1. Helper functions to avoid copy paste"
   ]
  },
  {
   "cell_type": "code",
   "execution_count": 3,
   "metadata": {},
   "outputs": [],
   "source": [
    "def read_csv_from_gdrive(url):\n",
    "    \"\"\"\n",
    "    gets csv data from a given url (taken from file -> share -> copy link)\n",
    "    :url: example https://drive.google.com/file/d/1BlZfCLLs5A13tbNSJZ1GPkHLWQOnPlE4/view?usp=share_link\n",
    "    \"\"\"\n",
    "    file_id = url.split('/')[-2]\n",
    "    file_path = 'https://drive.google.com/uc?export=download&id=' + file_id\n",
    "    data = pd.read_csv(file_path)\n",
    "\n",
    "    return data"
   ]
  },
  {
   "attachments": {},
   "cell_type": "markdown",
   "metadata": {},
   "source": [
    "# 2. Main"
   ]
  },
  {
   "attachments": {},
   "cell_type": "markdown",
   "metadata": {},
   "source": [
    "## 2.1. Load Data"
   ]
  },
  {
   "attachments": {},
   "cell_type": "markdown",
   "metadata": {},
   "source": [
    "`interactions` dataset shows list of movies that users watched, along with given `total_dur` in seconds and `watched_pct` proportion:"
   ]
  },
  {
   "cell_type": "code",
   "execution_count": 4,
   "metadata": {},
   "outputs": [
    {
     "data": {
      "text/html": [
       "<div>\n",
       "<style scoped>\n",
       "    .dataframe tbody tr th:only-of-type {\n",
       "        vertical-align: middle;\n",
       "    }\n",
       "\n",
       "    .dataframe tbody tr th {\n",
       "        vertical-align: top;\n",
       "    }\n",
       "\n",
       "    .dataframe thead th {\n",
       "        text-align: right;\n",
       "    }\n",
       "</style>\n",
       "<table border=\"1\" class=\"dataframe\">\n",
       "  <thead>\n",
       "    <tr style=\"text-align: right;\">\n",
       "      <th></th>\n",
       "      <th>user_id</th>\n",
       "      <th>item_id</th>\n",
       "      <th>last_watch_dt</th>\n",
       "      <th>total_dur</th>\n",
       "      <th>watched_pct</th>\n",
       "    </tr>\n",
       "  </thead>\n",
       "  <tbody>\n",
       "    <tr>\n",
       "      <th>0</th>\n",
       "      <td>176549</td>\n",
       "      <td>9506</td>\n",
       "      <td>2021-05-11</td>\n",
       "      <td>4250</td>\n",
       "      <td>72.000</td>\n",
       "    </tr>\n",
       "    <tr>\n",
       "      <th>1</th>\n",
       "      <td>699317</td>\n",
       "      <td>1659</td>\n",
       "      <td>2021-05-29</td>\n",
       "      <td>8317</td>\n",
       "      <td>100.000</td>\n",
       "    </tr>\n",
       "    <tr>\n",
       "      <th>2</th>\n",
       "      <td>656683</td>\n",
       "      <td>7107</td>\n",
       "      <td>2021-05-09</td>\n",
       "      <td>10</td>\n",
       "      <td>0.000</td>\n",
       "    </tr>\n",
       "    <tr>\n",
       "      <th>3</th>\n",
       "      <td>864613</td>\n",
       "      <td>7638</td>\n",
       "      <td>2021-07-05</td>\n",
       "      <td>14483</td>\n",
       "      <td>100.000</td>\n",
       "    </tr>\n",
       "    <tr>\n",
       "      <th>4</th>\n",
       "      <td>964868</td>\n",
       "      <td>9506</td>\n",
       "      <td>2021-04-30</td>\n",
       "      <td>6725</td>\n",
       "      <td>100.000</td>\n",
       "    </tr>\n",
       "  </tbody>\n",
       "</table>\n",
       "</div>"
      ],
      "text/plain": [
       "   user_id  item_id last_watch_dt  total_dur  watched_pct\n",
       "0   176549     9506    2021-05-11       4250       72.000\n",
       "1   699317     1659    2021-05-29       8317      100.000\n",
       "2   656683     7107    2021-05-09         10        0.000\n",
       "3   864613     7638    2021-07-05      14483      100.000\n",
       "4   964868     9506    2021-04-30       6725      100.000"
      ]
     },
     "execution_count": 4,
     "metadata": {},
     "output_type": "execute_result"
    }
   ],
   "source": [
    "# interactions data\n",
    "interactions = pd.read_csv(INTERACTIONS_PATH)\n",
    "interactions.head()"
   ]
  },
  {
   "attachments": {},
   "cell_type": "markdown",
   "metadata": {},
   "source": [
    "`movies_metadata` dataset shows the list of movies existing on OKKO platform:"
   ]
  },
  {
   "cell_type": "code",
   "execution_count": 5,
   "metadata": {},
   "outputs": [
    {
     "data": {
      "text/html": [
       "<div>\n",
       "<style scoped>\n",
       "    .dataframe tbody tr th:only-of-type {\n",
       "        vertical-align: middle;\n",
       "    }\n",
       "\n",
       "    .dataframe tbody tr th {\n",
       "        vertical-align: top;\n",
       "    }\n",
       "\n",
       "    .dataframe thead th {\n",
       "        text-align: right;\n",
       "    }\n",
       "</style>\n",
       "<table border=\"1\" class=\"dataframe\">\n",
       "  <thead>\n",
       "    <tr style=\"text-align: right;\">\n",
       "      <th></th>\n",
       "      <th>item_id</th>\n",
       "      <th>content_type</th>\n",
       "      <th>title</th>\n",
       "      <th>title_orig</th>\n",
       "      <th>release_year</th>\n",
       "      <th>genres</th>\n",
       "      <th>countries</th>\n",
       "      <th>for_kids</th>\n",
       "      <th>age_rating</th>\n",
       "      <th>studios</th>\n",
       "      <th>directors</th>\n",
       "      <th>actors</th>\n",
       "      <th>description</th>\n",
       "      <th>keywords</th>\n",
       "    </tr>\n",
       "  </thead>\n",
       "  <tbody>\n",
       "    <tr>\n",
       "      <th>0</th>\n",
       "      <td>10711</td>\n",
       "      <td>film</td>\n",
       "      <td>Поговори с ней</td>\n",
       "      <td>Hable con ella</td>\n",
       "      <td>2002.000</td>\n",
       "      <td>драмы, зарубежные, детективы, мелодрамы</td>\n",
       "      <td>Испания</td>\n",
       "      <td>NaN</td>\n",
       "      <td>16.000</td>\n",
       "      <td>NaN</td>\n",
       "      <td>Педро Альмодовар</td>\n",
       "      <td>Адольфо Фернандес, Ана Фернандес, Дарио Гранди...</td>\n",
       "      <td>Мелодрама легендарного Педро Альмодовара «Пого...</td>\n",
       "      <td>Поговори, ней, 2002, Испания, друзья, любовь, ...</td>\n",
       "    </tr>\n",
       "    <tr>\n",
       "      <th>1</th>\n",
       "      <td>2508</td>\n",
       "      <td>film</td>\n",
       "      <td>Голые перцы</td>\n",
       "      <td>Search Party</td>\n",
       "      <td>2014.000</td>\n",
       "      <td>зарубежные, приключения, комедии</td>\n",
       "      <td>США</td>\n",
       "      <td>NaN</td>\n",
       "      <td>16.000</td>\n",
       "      <td>NaN</td>\n",
       "      <td>Скот Армстронг</td>\n",
       "      <td>Адам Палли, Брайан Хаски, Дж.Б. Смув, Джейсон ...</td>\n",
       "      <td>Уморительная современная комедия на популярную...</td>\n",
       "      <td>Голые, перцы, 2014, США, друзья, свадьбы, прео...</td>\n",
       "    </tr>\n",
       "    <tr>\n",
       "      <th>2</th>\n",
       "      <td>10716</td>\n",
       "      <td>film</td>\n",
       "      <td>Тактическая сила</td>\n",
       "      <td>Tactical Force</td>\n",
       "      <td>2011.000</td>\n",
       "      <td>криминал, зарубежные, триллеры, боевики, комедии</td>\n",
       "      <td>Канада</td>\n",
       "      <td>NaN</td>\n",
       "      <td>16.000</td>\n",
       "      <td>NaN</td>\n",
       "      <td>Адам П. Калтраро</td>\n",
       "      <td>Адриан Холмс, Даррен Шалави, Джерри Вассерман,...</td>\n",
       "      <td>Профессиональный рестлер Стив Остин («Все или ...</td>\n",
       "      <td>Тактическая, сила, 2011, Канада, бандиты, ганг...</td>\n",
       "    </tr>\n",
       "  </tbody>\n",
       "</table>\n",
       "</div>"
      ],
      "text/plain": [
       "   item_id content_type             title      title_orig  release_year  \\\n",
       "0    10711         film    Поговори с ней  Hable con ella      2002.000   \n",
       "1     2508         film       Голые перцы    Search Party      2014.000   \n",
       "2    10716         film  Тактическая сила  Tactical Force      2011.000   \n",
       "\n",
       "                                             genres countries  for_kids  \\\n",
       "0           драмы, зарубежные, детективы, мелодрамы   Испания       NaN   \n",
       "1                  зарубежные, приключения, комедии       США       NaN   \n",
       "2  криминал, зарубежные, триллеры, боевики, комедии    Канада       NaN   \n",
       "\n",
       "   age_rating studios         directors  \\\n",
       "0      16.000     NaN  Педро Альмодовар   \n",
       "1      16.000     NaN    Скот Армстронг   \n",
       "2      16.000     NaN  Адам П. Калтраро   \n",
       "\n",
       "                                              actors  \\\n",
       "0  Адольфо Фернандес, Ана Фернандес, Дарио Гранди...   \n",
       "1  Адам Палли, Брайан Хаски, Дж.Б. Смув, Джейсон ...   \n",
       "2  Адриан Холмс, Даррен Шалави, Джерри Вассерман,...   \n",
       "\n",
       "                                         description  \\\n",
       "0  Мелодрама легендарного Педро Альмодовара «Пого...   \n",
       "1  Уморительная современная комедия на популярную...   \n",
       "2  Профессиональный рестлер Стив Остин («Все или ...   \n",
       "\n",
       "                                            keywords  \n",
       "0  Поговори, ней, 2002, Испания, друзья, любовь, ...  \n",
       "1  Голые, перцы, 2014, США, друзья, свадьбы, прео...  \n",
       "2  Тактическая, сила, 2011, Канада, бандиты, ганг...  "
      ]
     },
     "execution_count": 5,
     "metadata": {},
     "output_type": "execute_result"
    }
   ],
   "source": [
    "# information about films etc\n",
    "movies_metadata = read_csv_from_gdrive(ITEMS_METADATA_PATH)\n",
    "movies_metadata.head(3)"
   ]
  },
  {
   "cell_type": "code",
   "execution_count": 6,
   "metadata": {},
   "outputs": [
    {
     "data": {
      "text/html": [
       "<div>\n",
       "<style scoped>\n",
       "    .dataframe tbody tr th:only-of-type {\n",
       "        vertical-align: middle;\n",
       "    }\n",
       "\n",
       "    .dataframe tbody tr th {\n",
       "        vertical-align: top;\n",
       "    }\n",
       "\n",
       "    .dataframe thead th {\n",
       "        text-align: right;\n",
       "    }\n",
       "</style>\n",
       "<table border=\"1\" class=\"dataframe\">\n",
       "  <thead>\n",
       "    <tr style=\"text-align: right;\">\n",
       "      <th></th>\n",
       "      <th>user_id</th>\n",
       "      <th>age</th>\n",
       "      <th>income</th>\n",
       "      <th>sex</th>\n",
       "      <th>kids_flg</th>\n",
       "    </tr>\n",
       "  </thead>\n",
       "  <tbody>\n",
       "    <tr>\n",
       "      <th>0</th>\n",
       "      <td>973171</td>\n",
       "      <td>age_25_34</td>\n",
       "      <td>income_60_90</td>\n",
       "      <td>М</td>\n",
       "      <td>1</td>\n",
       "    </tr>\n",
       "    <tr>\n",
       "      <th>1</th>\n",
       "      <td>962099</td>\n",
       "      <td>age_18_24</td>\n",
       "      <td>income_20_40</td>\n",
       "      <td>М</td>\n",
       "      <td>0</td>\n",
       "    </tr>\n",
       "    <tr>\n",
       "      <th>2</th>\n",
       "      <td>1047345</td>\n",
       "      <td>age_45_54</td>\n",
       "      <td>income_40_60</td>\n",
       "      <td>Ж</td>\n",
       "      <td>0</td>\n",
       "    </tr>\n",
       "    <tr>\n",
       "      <th>3</th>\n",
       "      <td>721985</td>\n",
       "      <td>age_45_54</td>\n",
       "      <td>income_20_40</td>\n",
       "      <td>Ж</td>\n",
       "      <td>0</td>\n",
       "    </tr>\n",
       "    <tr>\n",
       "      <th>4</th>\n",
       "      <td>704055</td>\n",
       "      <td>age_35_44</td>\n",
       "      <td>income_60_90</td>\n",
       "      <td>Ж</td>\n",
       "      <td>0</td>\n",
       "    </tr>\n",
       "  </tbody>\n",
       "</table>\n",
       "</div>"
      ],
      "text/plain": [
       "   user_id        age        income sex  kids_flg\n",
       "0   973171  age_25_34  income_60_90   М         1\n",
       "1   962099  age_18_24  income_20_40   М         0\n",
       "2  1047345  age_45_54  income_40_60   Ж         0\n",
       "3   721985  age_45_54  income_20_40   Ж         0\n",
       "4   704055  age_35_44  income_60_90   Ж         0"
      ]
     },
     "execution_count": 6,
     "metadata": {},
     "output_type": "execute_result"
    }
   ],
   "source": [
    "users_data = read_csv_from_gdrive(USERS_DATA_PATH)\n",
    "users_data.head()"
   ]
  },
  {
   "attachments": {},
   "cell_type": "markdown",
   "metadata": {},
   "source": [
    "## 2.2. Train/test split"
   ]
  },
  {
   "attachments": {},
   "cell_type": "markdown",
   "metadata": {},
   "source": [
    "## 2.3 Data preparation using LightFM Dataset (first-level model)"
   ]
  },
  {
   "attachments": {},
   "cell_type": "markdown",
   "metadata": {},
   "source": [
    "To use implicit kNN method `fit` we need a sparse matrix in COOrdinate format. To achieve that we will use `scipy.sparse.coo_matrix` from scipy;\n"
   ]
  },
  {
   "cell_type": "code",
   "execution_count": 7,
   "metadata": {},
   "outputs": [],
   "source": [
    "# remove redundant data points\n",
    "interactions_filtered = interactions.loc[interactions['total_dur'] > 300].reset_index(drop = True)"
   ]
  },
  {
   "cell_type": "code",
   "execution_count": 8,
   "metadata": {},
   "outputs": [
    {
     "name": "stdout",
     "output_type": "stream",
     "text": [
      "(5476251, 5) (4195689, 5)\n"
     ]
    }
   ],
   "source": [
    "print(interactions.shape, interactions_filtered.shape)"
   ]
  },
  {
   "cell_type": "code",
   "execution_count": 9,
   "metadata": {},
   "outputs": [],
   "source": [
    "interactions_filtered['last_watch_dt'] = pd.to_datetime(interactions_filtered['last_watch_dt'])"
   ]
  },
  {
   "cell_type": "code",
   "execution_count": 10,
   "metadata": {},
   "outputs": [
    {
     "name": "stdout",
     "output_type": "stream",
     "text": [
      "min date in filtered interactions: 2021-08-22 00:00:00\n",
      "max date in filtered interactions:: 2021-03-13 00:00:00\n"
     ]
    }
   ],
   "source": [
    "# set dates params for filter\n",
    "MAX_DATE = interactions_filtered['last_watch_dt'].max()\n",
    "MIN_DATE = interactions_filtered['last_watch_dt'].min()\n",
    "TEST_INTERVAL_DAYS = 14\n",
    "\n",
    "print(f\"min date in filtered interactions: {MAX_DATE}\")\n",
    "print(f\"max date in filtered interactions:: {MIN_DATE}\")"
   ]
  },
  {
   "cell_type": "code",
   "execution_count": 11,
   "metadata": {},
   "outputs": [],
   "source": [
    "TEST_MAX_DATE = MAX_DATE - dt.timedelta(days = TEST_INTERVAL_DAYS)"
   ]
  },
  {
   "cell_type": "code",
   "execution_count": 12,
   "metadata": {},
   "outputs": [
    {
     "name": "stdout",
     "output_type": "stream",
     "text": [
      "(3530674, 5) (665015, 5)\n"
     ]
    }
   ],
   "source": [
    "# define global train and test\n",
    "global_train = interactions_filtered.loc[interactions_filtered['last_watch_dt'] < TEST_MAX_DATE]\n",
    "global_test = interactions_filtered.loc[interactions_filtered['last_watch_dt'] >= TEST_MAX_DATE]\n",
    "\n",
    "print(global_train.shape, global_test.shape)"
   ]
  },
  {
   "cell_type": "code",
   "execution_count": 13,
   "metadata": {},
   "outputs": [
    {
     "name": "stdout",
     "output_type": "stream",
     "text": [
      "2021-07-11 00:00:00\n"
     ]
    }
   ],
   "source": [
    "# now, we define \"local\" train and test to use some part of the global train for ranker\n",
    "local_train_thresh = global_train['last_watch_dt'].quantile(q = .7, interpolation = 'nearest')\n",
    "print(local_train_thresh)"
   ]
  },
  {
   "cell_type": "code",
   "execution_count": 14,
   "metadata": {},
   "outputs": [],
   "source": [
    "global_train = global_train.dropna().reset_index(drop = True)"
   ]
  },
  {
   "cell_type": "code",
   "execution_count": 15,
   "metadata": {},
   "outputs": [
    {
     "name": "stdout",
     "output_type": "stream",
     "text": [
      "(2451040, 5) (1079183, 5)\n"
     ]
    }
   ],
   "source": [
    "local_train = global_train.loc[global_train['last_watch_dt'] < local_train_thresh]\n",
    "local_test = global_train.loc[global_train['last_watch_dt'] >= local_train_thresh]\n",
    "\n",
    "print(local_train.shape, local_test.shape)"
   ]
  },
  {
   "cell_type": "code",
   "execution_count": 16,
   "metadata": {},
   "outputs": [
    {
     "name": "stdout",
     "output_type": "stream",
     "text": [
      "(579382, 5)\n"
     ]
    }
   ],
   "source": [
    "# finally, we will focus on warm start -- remove cold start users\n",
    "local_test = local_test.loc[local_test['user_id'].isin(local_train['user_id'].unique())]\n",
    "print(local_test.shape)"
   ]
  },
  {
   "cell_type": "code",
   "execution_count": 17,
   "metadata": {},
   "outputs": [],
   "source": [
    "# init class\n",
    "dataset = Dataset()\n",
    "\n",
    "# fit tuple of user and movie interactions\n",
    "dataset.fit(local_train['user_id'].unique(), local_train['item_id'].unique())"
   ]
  },
  {
   "cell_type": "code",
   "execution_count": 18,
   "metadata": {},
   "outputs": [],
   "source": [
    "# now, we define lightfm mapper to use it later for checks\n",
    "lightfm_mapping = dataset.mapping()\n",
    "# lightfm_mapping"
   ]
  },
  {
   "cell_type": "code",
   "execution_count": 19,
   "metadata": {},
   "outputs": [
    {
     "name": "stdout",
     "output_type": "stream",
     "text": [
      "user mapper length -  539173\n",
      "user features mapper length -  539173\n",
      "movies mapper length -  13006\n",
      "Users movie features mapper length -  13006\n"
     ]
    }
   ],
   "source": [
    "lightfm_mapping = {\n",
    "    'users_mapping': lightfm_mapping[0],\n",
    "    'user_features_mapping': lightfm_mapping[1],\n",
    "    'items_mapping': lightfm_mapping[2],\n",
    "    'item_features_mapping': lightfm_mapping[3],\n",
    "}\n",
    "print('user mapper length - ', len(lightfm_mapping['users_mapping']))\n",
    "print('user features mapper length - ', len(lightfm_mapping['user_features_mapping']))\n",
    "print('movies mapper length - ', len(lightfm_mapping['items_mapping']))\n",
    "print('Users movie features mapper length - ', len(lightfm_mapping['item_features_mapping']))"
   ]
  },
  {
   "cell_type": "code",
   "execution_count": 20,
   "metadata": {},
   "outputs": [],
   "source": [
    "# here we create inverted mappers to check recommendations later\n",
    "lightfm_mapping['users_inv_mapping'] = {v: k for k, v in lightfm_mapping['users_mapping'].items()}\n",
    "lightfm_mapping['items_inv_mapping'] = {v: k for k, v in lightfm_mapping['items_mapping'].items()}"
   ]
  },
  {
   "cell_type": "code",
   "execution_count": 21,
   "metadata": {},
   "outputs": [],
   "source": [
    "# special iterator to use with lightfm\n",
    "def df_to_tuple_iterator(df: pd.DataFrame):\n",
    "    '''\n",
    "    :df: pd.DataFrame, interactions dataframe\n",
    "    returs iterator\n",
    "    '''\n",
    "    return zip(*df.values.T)\n",
    "\n",
    "def concat_last_to_list(t):\n",
    "    return (t[0], list(t[1:])[0])\n",
    "\n",
    "def df_to_tuple_list_iterator(df):\n",
    "    return map(concat_last_to_list, zip(*df.values.T))"
   ]
  },
  {
   "cell_type": "code",
   "execution_count": 22,
   "metadata": {},
   "outputs": [],
   "source": [
    "# defining train set on the whole interactions dataset (as HW you will have to split into test and train for evaluation)\n",
    "train_mat, train_mat_weights = dataset.build_interactions(df_to_tuple_iterator(local_train[['user_id', 'item_id']]))"
   ]
  },
  {
   "cell_type": "code",
   "execution_count": 23,
   "metadata": {},
   "outputs": [
    {
     "data": {
      "text/plain": [
       "<539173x13006 sparse matrix of type '<class 'numpy.int32'>'\n",
       "\twith 2451040 stored elements in COOrdinate format>"
      ]
     },
     "execution_count": 23,
     "metadata": {},
     "output_type": "execute_result"
    }
   ],
   "source": [
    "train_mat"
   ]
  },
  {
   "cell_type": "code",
   "execution_count": 24,
   "metadata": {},
   "outputs": [
    {
     "data": {
      "text/plain": [
       "<539173x13006 sparse matrix of type '<class 'numpy.float32'>'\n",
       "\twith 2451040 stored elements in COOrdinate format>"
      ]
     },
     "execution_count": 24,
     "metadata": {},
     "output_type": "execute_result"
    }
   ],
   "source": [
    "train_mat_weights"
   ]
  },
  {
   "attachments": {},
   "cell_type": "markdown",
   "metadata": {},
   "source": [
    "## 2.4. Train LigthFM model"
   ]
  },
  {
   "cell_type": "code",
   "execution_count": 25,
   "metadata": {},
   "outputs": [],
   "source": [
    "# set params\n",
    "NO_COMPONENTS = 64\n",
    "LEARNING_RATE = .03\n",
    "LOSS = 'warp'\n",
    "MAX_SAMPLED = 5\n",
    "RANDOM_STATE = 42\n",
    "EPOCHS = 20"
   ]
  },
  {
   "cell_type": "code",
   "execution_count": 26,
   "metadata": {},
   "outputs": [],
   "source": [
    "# init model\n",
    "lfm_model = LightFM(\n",
    "    no_components = NO_COMPONENTS,\n",
    "    learning_rate = LEARNING_RATE,\n",
    "    loss = LOSS,\n",
    "    max_sampled = MAX_SAMPLED,\n",
    "    random_state = RANDOM_STATE\n",
    "    )"
   ]
  },
  {
   "cell_type": "code",
   "execution_count": 27,
   "metadata": {},
   "outputs": [
    {
     "data": {
      "application/vnd.jupyter.widget-view+json": {
       "model_id": "7569d1e3149a459bbda4295ea6b1df70",
       "version_major": 2,
       "version_minor": 0
      },
      "text/plain": [
       "  0%|          | 0/20 [00:00<?, ?it/s]"
      ]
     },
     "metadata": {},
     "output_type": "display_data"
    }
   ],
   "source": [
    "# execute training\n",
    "for _ in tqdm_notebook(range(EPOCHS), total = EPOCHS):\n",
    "    lfm_model.fit_partial(\n",
    "        train_mat,\n",
    "        num_threads = 4\n",
    "    )"
   ]
  },
  {
   "cell_type": "code",
   "execution_count": 28,
   "metadata": {},
   "outputs": [
    {
     "name": "stdout",
     "output_type": "stream",
     "text": [
      "Rekko for user 713676, row number in matrix - 62\n"
     ]
    }
   ],
   "source": [
    "# let's make sense-check\n",
    "top_N = 10\n",
    "user_id = local_train['user_id'][100]\n",
    "row_id = lightfm_mapping['users_mapping'][user_id]\n",
    "print(f'Rekko for user {user_id}, row number in matrix - {row_id}')"
   ]
  },
  {
   "cell_type": "code",
   "execution_count": 29,
   "metadata": {},
   "outputs": [
    {
     "data": {
      "text/plain": [
       "13006"
      ]
     },
     "execution_count": 29,
     "metadata": {},
     "output_type": "execute_result"
    }
   ],
   "source": [
    "all_cols = list(lightfm_mapping['items_mapping'].values())\n",
    "len(all_cols)"
   ]
  },
  {
   "cell_type": "code",
   "execution_count": 30,
   "metadata": {},
   "outputs": [
    {
     "data": {
      "text/plain": [
       "(array([ 2.2222135,  1.4464369, -1.9280975, ..., -2.1294303, -1.9549031,\n",
       "        -2.0654202], dtype=float32),\n",
       " (13006,))"
      ]
     },
     "execution_count": 30,
     "metadata": {},
     "output_type": "execute_result"
    }
   ],
   "source": [
    "pred = lfm_model.predict(\n",
    "    row_id,\n",
    "    all_cols,\n",
    "    num_threads = 4)\n",
    "pred, pred.shape"
   ]
  },
  {
   "cell_type": "code",
   "execution_count": 31,
   "metadata": {},
   "outputs": [
    {
     "data": {
      "text/plain": [
       "array([ 87,   5, 298, 506, 435, 302,  20, 168, 146, 675])"
      ]
     },
     "execution_count": 31,
     "metadata": {},
     "output_type": "execute_result"
    }
   ],
   "source": [
    "top_cols = np.argpartition(pred, -np.arange(top_N))[-top_N:][::-1]\n",
    "top_cols"
   ]
  },
  {
   "cell_type": "code",
   "execution_count": 32,
   "metadata": {},
   "outputs": [],
   "source": [
    "# crate mapper for movieId and title names\n",
    "item_name_mapper = dict(zip(movies_metadata['item_id'], movies_metadata['title']))"
   ]
  },
  {
   "cell_type": "code",
   "execution_count": 33,
   "metadata": {},
   "outputs": [
    {
     "data": {
      "text/html": [
       "<div>\n",
       "<style scoped>\n",
       "    .dataframe tbody tr th:only-of-type {\n",
       "        vertical-align: middle;\n",
       "    }\n",
       "\n",
       "    .dataframe tbody tr th {\n",
       "        vertical-align: top;\n",
       "    }\n",
       "\n",
       "    .dataframe thead th {\n",
       "        text-align: right;\n",
       "    }\n",
       "</style>\n",
       "<table border=\"1\" class=\"dataframe\">\n",
       "  <thead>\n",
       "    <tr style=\"text-align: right;\">\n",
       "      <th></th>\n",
       "      <th>col_id</th>\n",
       "      <th>item_id</th>\n",
       "      <th>title</th>\n",
       "    </tr>\n",
       "  </thead>\n",
       "  <tbody>\n",
       "    <tr>\n",
       "      <th>0</th>\n",
       "      <td>87</td>\n",
       "      <td>16166</td>\n",
       "      <td>Зверополис</td>\n",
       "    </tr>\n",
       "    <tr>\n",
       "      <th>1</th>\n",
       "      <td>5</td>\n",
       "      <td>7571</td>\n",
       "      <td>100% волк</td>\n",
       "    </tr>\n",
       "    <tr>\n",
       "      <th>2</th>\n",
       "      <td>298</td>\n",
       "      <td>13915</td>\n",
       "      <td>Вперёд</td>\n",
       "    </tr>\n",
       "    <tr>\n",
       "      <th>3</th>\n",
       "      <td>506</td>\n",
       "      <td>10761</td>\n",
       "      <td>Моана</td>\n",
       "    </tr>\n",
       "    <tr>\n",
       "      <th>4</th>\n",
       "      <td>435</td>\n",
       "      <td>13018</td>\n",
       "      <td>Король лев (2019)</td>\n",
       "    </tr>\n",
       "    <tr>\n",
       "      <th>5</th>\n",
       "      <td>302</td>\n",
       "      <td>12173</td>\n",
       "      <td>Мстители: Финал</td>\n",
       "    </tr>\n",
       "    <tr>\n",
       "      <th>6</th>\n",
       "      <td>20</td>\n",
       "      <td>7626</td>\n",
       "      <td>Мстители: Война бесконечности</td>\n",
       "    </tr>\n",
       "    <tr>\n",
       "      <th>7</th>\n",
       "      <td>168</td>\n",
       "      <td>3182</td>\n",
       "      <td>Ральф против Интернета</td>\n",
       "    </tr>\n",
       "    <tr>\n",
       "      <th>8</th>\n",
       "      <td>146</td>\n",
       "      <td>11310</td>\n",
       "      <td>Аладдин</td>\n",
       "    </tr>\n",
       "    <tr>\n",
       "      <th>9</th>\n",
       "      <td>675</td>\n",
       "      <td>13159</td>\n",
       "      <td>Рататуй</td>\n",
       "    </tr>\n",
       "  </tbody>\n",
       "</table>\n",
       "</div>"
      ],
      "text/plain": [
       "   col_id  item_id                          title\n",
       "0      87    16166                     Зверополис\n",
       "1       5     7571                      100% волк\n",
       "2     298    13915                         Вперёд\n",
       "3     506    10761                          Моана\n",
       "4     435    13018              Король лев (2019)\n",
       "5     302    12173                Мстители: Финал\n",
       "6      20     7626  Мстители: Война бесконечности\n",
       "7     168     3182         Ральф против Интернета\n",
       "8     146    11310                        Аладдин\n",
       "9     675    13159                        Рататуй"
      ]
     },
     "execution_count": 33,
     "metadata": {},
     "output_type": "execute_result"
    }
   ],
   "source": [
    "recs = pd.DataFrame({'col_id': top_cols})\n",
    "recs['item_id'] = recs['col_id'].map(lightfm_mapping['items_inv_mapping'].get)\n",
    "recs['title'] = recs['item_id'].map(item_name_mapper)\n",
    "recs"
   ]
  },
  {
   "cell_type": "code",
   "execution_count": 34,
   "metadata": {},
   "outputs": [
    {
     "name": "stdout",
     "output_type": "stream",
     "text": [
      "Rekko for user 869219, row number in matrix - 675\n"
     ]
    }
   ],
   "source": [
    "# let's make sense-check\n",
    "top_N = 10\n",
    "user_id = local_train['user_id'][1000]\n",
    "row_id = lightfm_mapping['users_mapping'][user_id]\n",
    "print(f'Rekko for user {user_id}, row number in matrix - {row_id}')"
   ]
  },
  {
   "cell_type": "code",
   "execution_count": 35,
   "metadata": {},
   "outputs": [
    {
     "data": {
      "text/plain": [
       "(array([-0.19702657, -0.38245714, -2.658608  , ..., -3.2753859 ,\n",
       "        -3.0609252 , -2.8367202 ], dtype=float32),\n",
       " (13006,))"
      ]
     },
     "execution_count": 35,
     "metadata": {},
     "output_type": "execute_result"
    }
   ],
   "source": [
    "pred = lfm_model.predict(\n",
    "    row_id,\n",
    "    all_cols,\n",
    "    num_threads = 4)\n",
    "pred, pred.shape\n"
   ]
  },
  {
   "cell_type": "code",
   "execution_count": 36,
   "metadata": {},
   "outputs": [
    {
     "data": {
      "text/plain": [
       "array([ 222,  682,   52,  207,  962,  333, 2935, 2059,  306, 5235])"
      ]
     },
     "execution_count": 36,
     "metadata": {},
     "output_type": "execute_result"
    }
   ],
   "source": [
    "top_cols = np.argpartition(pred, -np.arange(top_N))[-top_N:][::-1]\n",
    "top_cols"
   ]
  },
  {
   "cell_type": "code",
   "execution_count": 37,
   "metadata": {},
   "outputs": [
    {
     "data": {
      "text/html": [
       "<div>\n",
       "<style scoped>\n",
       "    .dataframe tbody tr th:only-of-type {\n",
       "        vertical-align: middle;\n",
       "    }\n",
       "\n",
       "    .dataframe tbody tr th {\n",
       "        vertical-align: top;\n",
       "    }\n",
       "\n",
       "    .dataframe thead th {\n",
       "        text-align: right;\n",
       "    }\n",
       "</style>\n",
       "<table border=\"1\" class=\"dataframe\">\n",
       "  <thead>\n",
       "    <tr style=\"text-align: right;\">\n",
       "      <th></th>\n",
       "      <th>col_id</th>\n",
       "      <th>item_id</th>\n",
       "      <th>title</th>\n",
       "    </tr>\n",
       "  </thead>\n",
       "  <tbody>\n",
       "    <tr>\n",
       "      <th>0</th>\n",
       "      <td>222</td>\n",
       "      <td>676</td>\n",
       "      <td>Человек-невидимка</td>\n",
       "    </tr>\n",
       "    <tr>\n",
       "      <th>1</th>\n",
       "      <td>682</td>\n",
       "      <td>16361</td>\n",
       "      <td>Doom: Аннигиляция</td>\n",
       "    </tr>\n",
       "    <tr>\n",
       "      <th>2</th>\n",
       "      <td>52</td>\n",
       "      <td>2647</td>\n",
       "      <td>Идеальный пациент</td>\n",
       "    </tr>\n",
       "    <tr>\n",
       "      <th>3</th>\n",
       "      <td>207</td>\n",
       "      <td>11143</td>\n",
       "      <td>На пятьдесят оттенков темнее</td>\n",
       "    </tr>\n",
       "    <tr>\n",
       "      <th>4</th>\n",
       "      <td>962</td>\n",
       "      <td>9335</td>\n",
       "      <td>Подводная братва</td>\n",
       "    </tr>\n",
       "    <tr>\n",
       "      <th>5</th>\n",
       "      <td>333</td>\n",
       "      <td>4141</td>\n",
       "      <td>Пятьдесят оттенков серого</td>\n",
       "    </tr>\n",
       "    <tr>\n",
       "      <th>6</th>\n",
       "      <td>2935</td>\n",
       "      <td>1090</td>\n",
       "      <td>Нерождённый</td>\n",
       "    </tr>\n",
       "    <tr>\n",
       "      <th>7</th>\n",
       "      <td>2059</td>\n",
       "      <td>10647</td>\n",
       "      <td>Винчестер. Дом, который построили призраки</td>\n",
       "    </tr>\n",
       "    <tr>\n",
       "      <th>8</th>\n",
       "      <td>306</td>\n",
       "      <td>9169</td>\n",
       "      <td>Взаперти</td>\n",
       "    </tr>\n",
       "    <tr>\n",
       "      <th>9</th>\n",
       "      <td>5235</td>\n",
       "      <td>13948</td>\n",
       "      <td>Смерть ей к лицу</td>\n",
       "    </tr>\n",
       "  </tbody>\n",
       "</table>\n",
       "</div>"
      ],
      "text/plain": [
       "   col_id  item_id                                       title\n",
       "0     222      676                           Человек-невидимка\n",
       "1     682    16361                           Doom: Аннигиляция\n",
       "2      52     2647                           Идеальный пациент\n",
       "3     207    11143                На пятьдесят оттенков темнее\n",
       "4     962     9335                            Подводная братва\n",
       "5     333     4141                   Пятьдесят оттенков серого\n",
       "6    2935     1090                                 Нерождённый\n",
       "7    2059    10647  Винчестер. Дом, который построили призраки\n",
       "8     306     9169                                    Взаперти\n",
       "9    5235    13948                            Смерть ей к лицу"
      ]
     },
     "execution_count": 37,
     "metadata": {},
     "output_type": "execute_result"
    }
   ],
   "source": [
    "recs = pd.DataFrame({'col_id': top_cols})\n",
    "recs['item_id'] = recs['col_id'].map(lightfm_mapping['items_inv_mapping'].get)\n",
    "recs['title'] = recs['item_id'].map(item_name_mapper)\n",
    "recs"
   ]
  },
  {
   "cell_type": "code",
   "execution_count": 38,
   "metadata": {},
   "outputs": [
    {
     "data": {
      "text/plain": [
       "144739"
      ]
     },
     "execution_count": 38,
     "metadata": {},
     "output_type": "execute_result"
    }
   ],
   "source": [
    "# let's make predictions for all users in test\n",
    "test_preds = pd.DataFrame({\n",
    "    'user_id': local_test['user_id'].unique()\n",
    "})\n",
    "len(test_preds)"
   ]
  },
  {
   "cell_type": "code",
   "execution_count": null,
   "metadata": {},
   "outputs": [],
   "source": [
    "# all_recs = pd.DataFrame()\n",
    "# for user in tqdm_notebook(users_mapping.keys()):\n",
    "#     row_id = users_mapping[user]\n",
    "#     pred = lfm_model.predict(\n",
    "#         row_id,\n",
    "#         all_cols,\n",
    "#         num_threads = 4)\n",
    "#     top_cols = np.argpartition(pred, -np.arange(top_N))[-top_N:][::-1]\n",
    "#     user_recs = pd.DataFrame({'col_id': top_cols})\n",
    "#     user_recs['item_id'] = user_recs['col_id'].map(lightfm_mapping['items_inv_mapping'].get)\n",
    "#     user_recs['title'] = user_recs['item_id'].map(item_name_mapper)\n",
    "\n",
    "#     all_recs = pd.concat([all_recs, user_recs], ignore_index = True)"
   ]
  },
  {
   "cell_type": "code",
   "execution_count": 39,
   "metadata": {},
   "outputs": [],
   "source": [
    "def generate_lightfm_recs_mapper(\n",
    "        model: object,\n",
    "        item_ids: list,\n",
    "        known_items: dict,\n",
    "        user_features: list,\n",
    "        item_features: list,\n",
    "        N: int,\n",
    "        user_mapping: dict,\n",
    "        item_inv_mapping: dict,\n",
    "        num_threads: int = 4\n",
    "        ):\n",
    "    def _recs_mapper(user):\n",
    "        user_id = user_mapping[user]\n",
    "        recs = model.predict(\n",
    "            user_id,\n",
    "            item_ids,\n",
    "            user_features = user_features,\n",
    "            item_features = item_features,\n",
    "            num_threads = num_threads)\n",
    "        \n",
    "        additional_N = len(known_items[user_id]) if user_id in known_items else 0\n",
    "        total_N = N + additional_N\n",
    "        top_cols = np.argpartition(recs, -np.arange(total_N))[-total_N:][::-1]\n",
    "        \n",
    "        final_recs = [item_inv_mapping[item] for item in top_cols]\n",
    "        if additional_N > 0:\n",
    "            filter_items = known_items[user_id]\n",
    "            final_recs = [item for item in final_recs if item not in filter_items]\n",
    "        return final_recs[:N]\n",
    "    return _recs_mapper"
   ]
  },
  {
   "cell_type": "code",
   "execution_count": 40,
   "metadata": {},
   "outputs": [],
   "source": [
    "mapper = generate_lightfm_recs_mapper(\n",
    "    lfm_model, \n",
    "    item_ids = all_cols, \n",
    "    known_items = dict(),\n",
    "    N = top_N,\n",
    "    user_features = None, \n",
    "    item_features = None, \n",
    "    user_mapping = lightfm_mapping['users_mapping'],\n",
    "    item_inv_mapping = lightfm_mapping['items_inv_mapping'],\n",
    "    num_threads = 20\n",
    ")"
   ]
  },
  {
   "cell_type": "code",
   "execution_count": 41,
   "metadata": {},
   "outputs": [],
   "source": [
    "test_preds['item_id'] = test_preds['user_id'].map(mapper)"
   ]
  },
  {
   "cell_type": "code",
   "execution_count": 43,
   "metadata": {},
   "outputs": [
    {
     "data": {
      "text/plain": [
       "(1447390, 2)"
      ]
     },
     "execution_count": 43,
     "metadata": {},
     "output_type": "execute_result"
    }
   ],
   "source": [
    "test_preds = test_preds.explode('item_id')\n",
    "test_preds.shape"
   ]
  },
  {
   "cell_type": "code",
   "execution_count": 44,
   "metadata": {},
   "outputs": [],
   "source": [
    "test_preds['rank'] = test_preds.groupby('user_id').cumcount() + 1 "
   ]
  },
  {
   "cell_type": "code",
   "execution_count": 45,
   "metadata": {},
   "outputs": [
    {
     "data": {
      "text/html": [
       "<div>\n",
       "<style scoped>\n",
       "    .dataframe tbody tr th:only-of-type {\n",
       "        vertical-align: middle;\n",
       "    }\n",
       "\n",
       "    .dataframe tbody tr th {\n",
       "        vertical-align: top;\n",
       "    }\n",
       "\n",
       "    .dataframe thead th {\n",
       "        text-align: right;\n",
       "    }\n",
       "</style>\n",
       "<table border=\"1\" class=\"dataframe\">\n",
       "  <thead>\n",
       "    <tr style=\"text-align: right;\">\n",
       "      <th></th>\n",
       "      <th>user_id</th>\n",
       "      <th>item_id</th>\n",
       "      <th>rank</th>\n",
       "    </tr>\n",
       "  </thead>\n",
       "  <tbody>\n",
       "    <tr>\n",
       "      <th>0</th>\n",
       "      <td>646903</td>\n",
       "      <td>10440</td>\n",
       "      <td>1</td>\n",
       "    </tr>\n",
       "    <tr>\n",
       "      <th>0</th>\n",
       "      <td>646903</td>\n",
       "      <td>14741</td>\n",
       "      <td>2</td>\n",
       "    </tr>\n",
       "    <tr>\n",
       "      <th>0</th>\n",
       "      <td>646903</td>\n",
       "      <td>16361</td>\n",
       "      <td>3</td>\n",
       "    </tr>\n",
       "    <tr>\n",
       "      <th>0</th>\n",
       "      <td>646903</td>\n",
       "      <td>9728</td>\n",
       "      <td>4</td>\n",
       "    </tr>\n",
       "    <tr>\n",
       "      <th>0</th>\n",
       "      <td>646903</td>\n",
       "      <td>9169</td>\n",
       "      <td>5</td>\n",
       "    </tr>\n",
       "  </tbody>\n",
       "</table>\n",
       "</div>"
      ],
      "text/plain": [
       "   user_id item_id  rank\n",
       "0   646903   10440     1\n",
       "0   646903   14741     2\n",
       "0   646903   16361     3\n",
       "0   646903    9728     4\n",
       "0   646903    9169     5"
      ]
     },
     "execution_count": 45,
     "metadata": {},
     "output_type": "execute_result"
    }
   ],
   "source": [
    "test_preds.head()"
   ]
  },
  {
   "cell_type": "code",
   "execution_count": 46,
   "metadata": {},
   "outputs": [
    {
     "data": {
      "text/html": [
       "<div>\n",
       "<style scoped>\n",
       "    .dataframe tbody tr th:only-of-type {\n",
       "        vertical-align: middle;\n",
       "    }\n",
       "\n",
       "    .dataframe tbody tr th {\n",
       "        vertical-align: top;\n",
       "    }\n",
       "\n",
       "    .dataframe thead th {\n",
       "        text-align: right;\n",
       "    }\n",
       "</style>\n",
       "<table border=\"1\" class=\"dataframe\">\n",
       "  <thead>\n",
       "    <tr style=\"text-align: right;\">\n",
       "      <th></th>\n",
       "      <th>user_id</th>\n",
       "      <th>item_id</th>\n",
       "      <th>rank</th>\n",
       "      <th>item_name</th>\n",
       "    </tr>\n",
       "  </thead>\n",
       "  <tbody>\n",
       "    <tr>\n",
       "      <th>0</th>\n",
       "      <td>646903</td>\n",
       "      <td>10440</td>\n",
       "      <td>1</td>\n",
       "      <td>Хрустальный</td>\n",
       "    </tr>\n",
       "    <tr>\n",
       "      <th>0</th>\n",
       "      <td>646903</td>\n",
       "      <td>14741</td>\n",
       "      <td>2</td>\n",
       "      <td>Цвет из иных миров</td>\n",
       "    </tr>\n",
       "    <tr>\n",
       "      <th>0</th>\n",
       "      <td>646903</td>\n",
       "      <td>16361</td>\n",
       "      <td>3</td>\n",
       "      <td>Doom: Аннигиляция</td>\n",
       "    </tr>\n",
       "    <tr>\n",
       "      <th>0</th>\n",
       "      <td>646903</td>\n",
       "      <td>9728</td>\n",
       "      <td>4</td>\n",
       "      <td>Гнев человеческий</td>\n",
       "    </tr>\n",
       "    <tr>\n",
       "      <th>0</th>\n",
       "      <td>646903</td>\n",
       "      <td>9169</td>\n",
       "      <td>5</td>\n",
       "      <td>Взаперти</td>\n",
       "    </tr>\n",
       "  </tbody>\n",
       "</table>\n",
       "</div>"
      ],
      "text/plain": [
       "   user_id item_id  rank           item_name\n",
       "0   646903   10440     1         Хрустальный\n",
       "0   646903   14741     2  Цвет из иных миров\n",
       "0   646903   16361     3   Doom: Аннигиляция\n",
       "0   646903    9728     4   Гнев человеческий\n",
       "0   646903    9169     5            Взаперти"
      ]
     },
     "execution_count": 46,
     "metadata": {},
     "output_type": "execute_result"
    }
   ],
   "source": [
    "test_preds['item_name'] = test_preds['item_id'].map(item_name_mapper)\n",
    "test_preds.head()"
   ]
  },
  {
   "cell_type": "code",
   "execution_count": 47,
   "metadata": {},
   "outputs": [
    {
     "data": {
      "text/plain": [
       "1739"
      ]
     },
     "execution_count": 47,
     "metadata": {},
     "output_type": "execute_result"
    }
   ],
   "source": [
    "# sense check for diversity of recommendations\n",
    "test_preds.item_id.nunique()"
   ]
  },
  {
   "attachments": {},
   "cell_type": "markdown",
   "metadata": {},
   "source": [
    "## 2.5. CatBoostClassifier"
   ]
  },
  {
   "attachments": {},
   "cell_type": "markdown",
   "metadata": {},
   "source": [
    "### 2.5.1. Data Preparation"
   ]
  },
  {
   "attachments": {},
   "cell_type": "markdown",
   "metadata": {},
   "source": [
    "Now, we need to creat 0/1 as indication of interaction:\n",
    "\n",
    "- positive event -- 1, if watch_pct is not null;\n",
    "- negative venet -- 0 otherwise"
   ]
  },
  {
   "cell_type": "code",
   "execution_count": 48,
   "metadata": {},
   "outputs": [
    {
     "data": {
      "text/plain": [
       "(77563, 8)"
      ]
     },
     "execution_count": 48,
     "metadata": {},
     "output_type": "execute_result"
    }
   ],
   "source": [
    "positive_preds = pd.merge(test_preds, local_test, how = 'inner', on = ['user_id', 'item_id'])\n",
    "positive_preds['target'] = 1\n",
    "positive_preds.shape"
   ]
  },
  {
   "cell_type": "code",
   "execution_count": 88,
   "metadata": {},
   "outputs": [
    {
     "data": {
      "text/plain": [
       "(273965, 8)"
      ]
     },
     "execution_count": 88,
     "metadata": {},
     "output_type": "execute_result"
    }
   ],
   "source": [
    "negative_preds = pd.merge(test_preds, local_test, how = 'left', on = ['user_id', 'item_id'])\n",
    "negative_preds = negative_preds.loc[negative_preds['watched_pct'].isnull()].sample(frac = .2)\n",
    "negative_preds['target'] = 0\n",
    "negative_preds.shape"
   ]
  },
  {
   "cell_type": "code",
   "execution_count": 89,
   "metadata": {},
   "outputs": [],
   "source": [
    "# random split to train ranker\n",
    "train_users, test_users = train_test_split(\n",
    "    local_test['user_id'].unique(),\n",
    "    test_size = .2,\n",
    "    random_state = 13\n",
    "    )"
   ]
  },
  {
   "cell_type": "code",
   "execution_count": 90,
   "metadata": {},
   "outputs": [],
   "source": [
    "cbm_train_set = shuffle(\n",
    "    pd.concat(\n",
    "    [positive_preds.loc[positive_preds['user_id'].isin(train_users)],\n",
    "    negative_preds.loc[negative_preds['user_id'].isin(train_users)]]\n",
    "    )\n",
    ")"
   ]
  },
  {
   "cell_type": "code",
   "execution_count": 91,
   "metadata": {},
   "outputs": [],
   "source": [
    "cbm_test_set = shuffle(\n",
    "    pd.concat(\n",
    "    [positive_preds.loc[positive_preds['user_id'].isin(test_users)],\n",
    "    negative_preds.loc[negative_preds['user_id'].isin(test_users)]]\n",
    "    )\n",
    ")"
   ]
  },
  {
   "cell_type": "code",
   "execution_count": 92,
   "metadata": {},
   "outputs": [
    {
     "name": "stdout",
     "output_type": "stream",
     "text": [
      "TRAIN:           user_id       rank   total_dur  watched_pct     target\n",
      "count  280818.000 280818.000   61862.000    61862.000 280818.000\n",
      "mean   548960.471      5.284   18601.904       65.298      0.220\n",
      "std    316142.605      2.884   39027.982       36.848      0.414\n",
      "min        11.000      1.000     301.000        0.000      0.000\n",
      "25%    274968.000      3.000    4006.250       25.000      0.000\n",
      "50%    549625.500      5.000    7802.000       80.000      0.000\n",
      "75%    821722.000      8.000   22667.750      100.000      0.000\n",
      "max   1097528.000     10.000 3127021.000      100.000      1.000 \n",
      ", TEST:           user_id      rank   total_dur  watched_pct    target\n",
      "count   70710.000 70710.000   15701.000    15701.000 70710.000\n",
      "mean   548447.486     5.295   19211.613       64.979     0.222\n",
      "std    317205.746     2.884   37892.571       36.952     0.416\n",
      "min       106.000     1.000     301.000        0.000     0.000\n",
      "25%    271028.000     3.000    3875.000       25.000     0.000\n",
      "50%    549426.000     5.000    7764.000       80.000     0.000\n",
      "75%    825163.000     8.000   22922.000      100.000     0.000\n",
      "max   1097465.000    10.000 1083250.000      100.000     1.000\n"
     ]
    }
   ],
   "source": [
    "print(f'TRAIN: {cbm_train_set.describe()} \\n, TEST: {cbm_test_set.describe()}')"
   ]
  },
  {
   "cell_type": "code",
   "execution_count": 93,
   "metadata": {},
   "outputs": [],
   "source": [
    "# in this tutorial, I will not do any feature aggregation - use default ones from data\n",
    "USER_FEATURES = ['age', 'income', 'sex', 'kids_flg']\n",
    "ITEM_FEATURES = ['content_type', 'release_year', 'for_kids', 'age_rating']"
   ]
  },
  {
   "cell_type": "code",
   "execution_count": 94,
   "metadata": {},
   "outputs": [],
   "source": [
    "# joins user features\n",
    "cbm_train_set = pd.merge(cbm_train_set, users_data[['user_id'] + USER_FEATURES],\n",
    "                         how = 'left', on = ['user_id'])\n",
    "cbm_test_set = pd.merge(cbm_test_set, users_data[['user_id'] + USER_FEATURES],\n",
    "                        how = 'left', on = ['user_id'])\n"
   ]
  },
  {
   "cell_type": "code",
   "execution_count": 95,
   "metadata": {},
   "outputs": [],
   "source": [
    "# joins item features\n",
    "cbm_train_set = pd.merge(cbm_train_set, movies_metadata[['item_id'] + ITEM_FEATURES],\n",
    "                         how = 'left', on = ['item_id'])\n",
    "cbm_test_set = pd.merge(cbm_test_set, movies_metadata[['item_id'] + ITEM_FEATURES],\n",
    "                        how = 'left', on = ['item_id'])\n"
   ]
  },
  {
   "cell_type": "code",
   "execution_count": 96,
   "metadata": {},
   "outputs": [
    {
     "name": "stdout",
     "output_type": "stream",
     "text": [
      "(280818, 16) (70710, 16)\n"
     ]
    }
   ],
   "source": [
    "print(cbm_train_set.shape, cbm_test_set.shape)"
   ]
  },
  {
   "cell_type": "code",
   "execution_count": 97,
   "metadata": {},
   "outputs": [
    {
     "data": {
      "text/html": [
       "<div>\n",
       "<style scoped>\n",
       "    .dataframe tbody tr th:only-of-type {\n",
       "        vertical-align: middle;\n",
       "    }\n",
       "\n",
       "    .dataframe tbody tr th {\n",
       "        vertical-align: top;\n",
       "    }\n",
       "\n",
       "    .dataframe thead th {\n",
       "        text-align: right;\n",
       "    }\n",
       "</style>\n",
       "<table border=\"1\" class=\"dataframe\">\n",
       "  <thead>\n",
       "    <tr style=\"text-align: right;\">\n",
       "      <th></th>\n",
       "      <th>user_id</th>\n",
       "      <th>item_id</th>\n",
       "      <th>rank</th>\n",
       "      <th>item_name</th>\n",
       "      <th>last_watch_dt</th>\n",
       "      <th>total_dur</th>\n",
       "      <th>watched_pct</th>\n",
       "      <th>target</th>\n",
       "      <th>age</th>\n",
       "      <th>income</th>\n",
       "      <th>sex</th>\n",
       "      <th>kids_flg</th>\n",
       "      <th>content_type</th>\n",
       "      <th>release_year</th>\n",
       "      <th>for_kids</th>\n",
       "      <th>age_rating</th>\n",
       "    </tr>\n",
       "  </thead>\n",
       "  <tbody>\n",
       "    <tr>\n",
       "      <th>0</th>\n",
       "      <td>662244</td>\n",
       "      <td>10440</td>\n",
       "      <td>1</td>\n",
       "      <td>Хрустальный</td>\n",
       "      <td>NaT</td>\n",
       "      <td>NaN</td>\n",
       "      <td>NaN</td>\n",
       "      <td>0</td>\n",
       "      <td>age_25_34</td>\n",
       "      <td>income_20_40</td>\n",
       "      <td>Ж</td>\n",
       "      <td>0.000</td>\n",
       "      <td>series</td>\n",
       "      <td>2021.000</td>\n",
       "      <td>NaN</td>\n",
       "      <td>18.000</td>\n",
       "    </tr>\n",
       "    <tr>\n",
       "      <th>1</th>\n",
       "      <td>211932</td>\n",
       "      <td>15297</td>\n",
       "      <td>2</td>\n",
       "      <td>Клиника счастья</td>\n",
       "      <td>2021-07-14</td>\n",
       "      <td>36641.000</td>\n",
       "      <td>100.000</td>\n",
       "      <td>1</td>\n",
       "      <td>NaN</td>\n",
       "      <td>NaN</td>\n",
       "      <td>NaN</td>\n",
       "      <td>NaN</td>\n",
       "      <td>series</td>\n",
       "      <td>2021.000</td>\n",
       "      <td>NaN</td>\n",
       "      <td>18.000</td>\n",
       "    </tr>\n",
       "    <tr>\n",
       "      <th>2</th>\n",
       "      <td>118961</td>\n",
       "      <td>142</td>\n",
       "      <td>8</td>\n",
       "      <td>Маша</td>\n",
       "      <td>NaT</td>\n",
       "      <td>NaN</td>\n",
       "      <td>NaN</td>\n",
       "      <td>0</td>\n",
       "      <td>age_35_44</td>\n",
       "      <td>income_40_60</td>\n",
       "      <td>Ж</td>\n",
       "      <td>0.000</td>\n",
       "      <td>film</td>\n",
       "      <td>2020.000</td>\n",
       "      <td>NaN</td>\n",
       "      <td>16.000</td>\n",
       "    </tr>\n",
       "    <tr>\n",
       "      <th>3</th>\n",
       "      <td>782280</td>\n",
       "      <td>13865</td>\n",
       "      <td>2</td>\n",
       "      <td>Девятаев</td>\n",
       "      <td>NaT</td>\n",
       "      <td>NaN</td>\n",
       "      <td>NaN</td>\n",
       "      <td>0</td>\n",
       "      <td>NaN</td>\n",
       "      <td>NaN</td>\n",
       "      <td>NaN</td>\n",
       "      <td>NaN</td>\n",
       "      <td>film</td>\n",
       "      <td>2021.000</td>\n",
       "      <td>NaN</td>\n",
       "      <td>12.000</td>\n",
       "    </tr>\n",
       "    <tr>\n",
       "      <th>4</th>\n",
       "      <td>608954</td>\n",
       "      <td>13865</td>\n",
       "      <td>5</td>\n",
       "      <td>Девятаев</td>\n",
       "      <td>2021-07-19</td>\n",
       "      <td>2192.000</td>\n",
       "      <td>34.000</td>\n",
       "      <td>1</td>\n",
       "      <td>age_45_54</td>\n",
       "      <td>income_40_60</td>\n",
       "      <td>М</td>\n",
       "      <td>1.000</td>\n",
       "      <td>film</td>\n",
       "      <td>2021.000</td>\n",
       "      <td>NaN</td>\n",
       "      <td>12.000</td>\n",
       "    </tr>\n",
       "  </tbody>\n",
       "</table>\n",
       "</div>"
      ],
      "text/plain": [
       "   user_id item_id  rank        item_name last_watch_dt  total_dur  \\\n",
       "0   662244   10440     1      Хрустальный           NaT        NaN   \n",
       "1   211932   15297     2  Клиника счастья    2021-07-14  36641.000   \n",
       "2   118961     142     8             Маша           NaT        NaN   \n",
       "3   782280   13865     2         Девятаев           NaT        NaN   \n",
       "4   608954   13865     5         Девятаев    2021-07-19   2192.000   \n",
       "\n",
       "   watched_pct  target        age        income  sex  kids_flg content_type  \\\n",
       "0          NaN       0  age_25_34  income_20_40    Ж     0.000       series   \n",
       "1      100.000       1        NaN           NaN  NaN       NaN       series   \n",
       "2          NaN       0  age_35_44  income_40_60    Ж     0.000         film   \n",
       "3          NaN       0        NaN           NaN  NaN       NaN         film   \n",
       "4       34.000       1  age_45_54  income_40_60    М     1.000         film   \n",
       "\n",
       "   release_year  for_kids  age_rating  \n",
       "0      2021.000       NaN      18.000  \n",
       "1      2021.000       NaN      18.000  \n",
       "2      2020.000       NaN      16.000  \n",
       "3      2021.000       NaN      12.000  \n",
       "4      2021.000       NaN      12.000  "
      ]
     },
     "execution_count": 97,
     "metadata": {},
     "output_type": "execute_result"
    }
   ],
   "source": [
    "cbm_train_set.head()"
   ]
  },
  {
   "cell_type": "code",
   "execution_count": 110,
   "metadata": {},
   "outputs": [],
   "source": [
    "ID_COLS = ['user_id', 'item_id']\n",
    "TARGET = ['target']\n",
    "CATEGORICAL_COLS = ['age', 'income', 'sex', 'content_type']\n",
    "DROP_COLS = ['item_name', 'last_watch_dt', 'watched_pct', 'total_dur']"
   ]
  },
  {
   "cell_type": "code",
   "execution_count": 111,
   "metadata": {},
   "outputs": [
    {
     "name": "stdout",
     "output_type": "stream",
     "text": [
      "(280818, 9) (70710, 9)\n"
     ]
    }
   ],
   "source": [
    "X_train, y_train = cbm_train_set.drop(ID_COLS + DROP_COLS + TARGET, axis = 1), cbm_train_set[TARGET]\n",
    "X_test, y_test = cbm_test_set.drop(ID_COLS + DROP_COLS + TARGET, axis = 1), cbm_test_set[TARGET]\n",
    "print(X_train.shape, X_test.shape)"
   ]
  },
  {
   "cell_type": "code",
   "execution_count": 112,
   "metadata": {},
   "outputs": [
    {
     "data": {
      "text/html": [
       "<div>\n",
       "<style scoped>\n",
       "    .dataframe tbody tr th:only-of-type {\n",
       "        vertical-align: middle;\n",
       "    }\n",
       "\n",
       "    .dataframe tbody tr th {\n",
       "        vertical-align: top;\n",
       "    }\n",
       "\n",
       "    .dataframe thead th {\n",
       "        text-align: right;\n",
       "    }\n",
       "</style>\n",
       "<table border=\"1\" class=\"dataframe\">\n",
       "  <thead>\n",
       "    <tr style=\"text-align: right;\">\n",
       "      <th></th>\n",
       "      <th>rank</th>\n",
       "      <th>age</th>\n",
       "      <th>income</th>\n",
       "      <th>sex</th>\n",
       "      <th>kids_flg</th>\n",
       "      <th>content_type</th>\n",
       "      <th>release_year</th>\n",
       "      <th>for_kids</th>\n",
       "      <th>age_rating</th>\n",
       "    </tr>\n",
       "  </thead>\n",
       "  <tbody>\n",
       "    <tr>\n",
       "      <th>0</th>\n",
       "      <td>1</td>\n",
       "      <td>age_25_34</td>\n",
       "      <td>income_20_40</td>\n",
       "      <td>Ж</td>\n",
       "      <td>0.000</td>\n",
       "      <td>series</td>\n",
       "      <td>2021.000</td>\n",
       "      <td>NaN</td>\n",
       "      <td>18.000</td>\n",
       "    </tr>\n",
       "    <tr>\n",
       "      <th>1</th>\n",
       "      <td>2</td>\n",
       "      <td>NaN</td>\n",
       "      <td>NaN</td>\n",
       "      <td>NaN</td>\n",
       "      <td>NaN</td>\n",
       "      <td>series</td>\n",
       "      <td>2021.000</td>\n",
       "      <td>NaN</td>\n",
       "      <td>18.000</td>\n",
       "    </tr>\n",
       "    <tr>\n",
       "      <th>2</th>\n",
       "      <td>8</td>\n",
       "      <td>age_35_44</td>\n",
       "      <td>income_40_60</td>\n",
       "      <td>Ж</td>\n",
       "      <td>0.000</td>\n",
       "      <td>film</td>\n",
       "      <td>2020.000</td>\n",
       "      <td>NaN</td>\n",
       "      <td>16.000</td>\n",
       "    </tr>\n",
       "    <tr>\n",
       "      <th>3</th>\n",
       "      <td>2</td>\n",
       "      <td>NaN</td>\n",
       "      <td>NaN</td>\n",
       "      <td>NaN</td>\n",
       "      <td>NaN</td>\n",
       "      <td>film</td>\n",
       "      <td>2021.000</td>\n",
       "      <td>NaN</td>\n",
       "      <td>12.000</td>\n",
       "    </tr>\n",
       "    <tr>\n",
       "      <th>4</th>\n",
       "      <td>5</td>\n",
       "      <td>age_45_54</td>\n",
       "      <td>income_40_60</td>\n",
       "      <td>М</td>\n",
       "      <td>1.000</td>\n",
       "      <td>film</td>\n",
       "      <td>2021.000</td>\n",
       "      <td>NaN</td>\n",
       "      <td>12.000</td>\n",
       "    </tr>\n",
       "  </tbody>\n",
       "</table>\n",
       "</div>"
      ],
      "text/plain": [
       "   rank        age        income  sex  kids_flg content_type  release_year  \\\n",
       "0     1  age_25_34  income_20_40    Ж     0.000       series      2021.000   \n",
       "1     2        NaN           NaN  NaN       NaN       series      2021.000   \n",
       "2     8  age_35_44  income_40_60    Ж     0.000         film      2020.000   \n",
       "3     2        NaN           NaN  NaN       NaN         film      2021.000   \n",
       "4     5  age_45_54  income_40_60    М     1.000         film      2021.000   \n",
       "\n",
       "   for_kids  age_rating  \n",
       "0       NaN      18.000  \n",
       "1       NaN      18.000  \n",
       "2       NaN      16.000  \n",
       "3       NaN      12.000  \n",
       "4       NaN      12.000  "
      ]
     },
     "execution_count": 112,
     "metadata": {},
     "output_type": "execute_result"
    }
   ],
   "source": [
    "X_train.head()"
   ]
  },
  {
   "cell_type": "code",
   "execution_count": 113,
   "metadata": {},
   "outputs": [],
   "source": [
    "X_train = X_train.fillna(X_train.mode().iloc[0])\n",
    "X_test = X_test.fillna(X_test.mode().iloc[0])"
   ]
  },
  {
   "attachments": {},
   "cell_type": "markdown",
   "metadata": {},
   "source": [
    "## 2.5.2. Train Model"
   ]
  },
  {
   "cell_type": "code",
   "execution_count": 114,
   "metadata": {},
   "outputs": [],
   "source": [
    "cbm_classifier = CatBoostClassifier(\n",
    "    loss_function = 'CrossEntropy',\n",
    "    iterations = 5000,\n",
    "    learning_rate = .1,\n",
    "    depth = 6,\n",
    "    random_state = 1234,\n",
    "    verbose = True\n",
    ")"
   ]
  },
  {
   "cell_type": "code",
   "execution_count": 115,
   "metadata": {},
   "outputs": [
    {
     "name": "stdout",
     "output_type": "stream",
     "text": [
      "0:\tlearn: 0.6507945\ttest: 0.6510078\tbest: 0.6510078 (0)\ttotal: 69.7ms\tremaining: 5m 48s\n",
      "1:\tlearn: 0.6174270\ttest: 0.6179247\tbest: 0.6179247 (1)\ttotal: 146ms\tremaining: 6m 5s\n",
      "2:\tlearn: 0.5916741\ttest: 0.5923185\tbest: 0.5923185 (2)\ttotal: 191ms\tremaining: 5m 18s\n",
      "3:\tlearn: 0.5710631\ttest: 0.5718967\tbest: 0.5718967 (3)\ttotal: 241ms\tremaining: 5m\n",
      "4:\tlearn: 0.5548379\ttest: 0.5558849\tbest: 0.5558849 (4)\ttotal: 301ms\tremaining: 5m\n",
      "5:\tlearn: 0.5434678\ttest: 0.5447097\tbest: 0.5447097 (5)\ttotal: 347ms\tremaining: 4m 48s\n",
      "6:\tlearn: 0.5334530\ttest: 0.5348957\tbest: 0.5348957 (6)\ttotal: 386ms\tremaining: 4m 35s\n",
      "7:\tlearn: 0.5252318\ttest: 0.5267986\tbest: 0.5267986 (7)\ttotal: 435ms\tremaining: 4m 31s\n",
      "8:\tlearn: 0.5188085\ttest: 0.5205408\tbest: 0.5205408 (8)\ttotal: 492ms\tremaining: 4m 32s\n",
      "9:\tlearn: 0.5140922\ttest: 0.5159952\tbest: 0.5159952 (9)\ttotal: 533ms\tremaining: 4m 26s\n",
      "10:\tlearn: 0.5099242\ttest: 0.5119506\tbest: 0.5119506 (10)\ttotal: 582ms\tremaining: 4m 23s\n",
      "11:\tlearn: 0.5071655\ttest: 0.5092893\tbest: 0.5092893 (11)\ttotal: 613ms\tremaining: 4m 14s\n",
      "12:\tlearn: 0.5048799\ttest: 0.5071043\tbest: 0.5071043 (12)\ttotal: 639ms\tremaining: 4m 5s\n",
      "13:\tlearn: 0.5023572\ttest: 0.5046870\tbest: 0.5046870 (13)\ttotal: 684ms\tremaining: 4m 3s\n",
      "14:\tlearn: 0.5005067\ttest: 0.5029039\tbest: 0.5029039 (14)\ttotal: 765ms\tremaining: 4m 14s\n",
      "15:\tlearn: 0.4989582\ttest: 0.5014443\tbest: 0.5014443 (15)\ttotal: 805ms\tremaining: 4m 10s\n",
      "16:\tlearn: 0.4979995\ttest: 0.5005259\tbest: 0.5005259 (16)\ttotal: 893ms\tremaining: 4m 21s\n",
      "17:\tlearn: 0.4968750\ttest: 0.4994732\tbest: 0.4994732 (17)\ttotal: 941ms\tremaining: 4m 20s\n",
      "18:\tlearn: 0.4961112\ttest: 0.4987643\tbest: 0.4987643 (18)\ttotal: 989ms\tremaining: 4m 19s\n",
      "19:\tlearn: 0.4952624\ttest: 0.4979988\tbest: 0.4979988 (19)\ttotal: 1.04s\tremaining: 4m 20s\n",
      "20:\tlearn: 0.4946703\ttest: 0.4974326\tbest: 0.4974326 (20)\ttotal: 1.15s\tremaining: 4m 33s\n",
      "21:\tlearn: 0.4942512\ttest: 0.4971039\tbest: 0.4971039 (21)\ttotal: 1.21s\tremaining: 4m 33s\n",
      "22:\tlearn: 0.4939746\ttest: 0.4968674\tbest: 0.4968674 (22)\ttotal: 1.26s\tremaining: 4m 32s\n",
      "23:\tlearn: 0.4935580\ttest: 0.4965168\tbest: 0.4965168 (23)\ttotal: 1.31s\tremaining: 4m 31s\n",
      "24:\tlearn: 0.4931615\ttest: 0.4961635\tbest: 0.4961635 (24)\ttotal: 1.36s\tremaining: 4m 29s\n",
      "25:\tlearn: 0.4929194\ttest: 0.4959625\tbest: 0.4959625 (25)\ttotal: 1.4s\tremaining: 4m 28s\n",
      "26:\tlearn: 0.4927955\ttest: 0.4958647\tbest: 0.4958647 (26)\ttotal: 1.46s\tremaining: 4m 28s\n",
      "27:\tlearn: 0.4925290\ttest: 0.4956678\tbest: 0.4956678 (27)\ttotal: 1.51s\tremaining: 4m 27s\n",
      "28:\tlearn: 0.4923878\ttest: 0.4955672\tbest: 0.4955672 (28)\ttotal: 1.57s\tremaining: 4m 29s\n",
      "29:\tlearn: 0.4923321\ttest: 0.4955291\tbest: 0.4955291 (29)\ttotal: 1.59s\tremaining: 4m 23s\n",
      "30:\tlearn: 0.4921270\ttest: 0.4953537\tbest: 0.4953537 (30)\ttotal: 1.64s\tremaining: 4m 22s\n",
      "31:\tlearn: 0.4919923\ttest: 0.4952464\tbest: 0.4952464 (31)\ttotal: 1.68s\tremaining: 4m 20s\n",
      "32:\tlearn: 0.4918496\ttest: 0.4951668\tbest: 0.4951668 (32)\ttotal: 1.72s\tremaining: 4m 18s\n",
      "33:\tlearn: 0.4917701\ttest: 0.4951159\tbest: 0.4951159 (33)\ttotal: 1.75s\tremaining: 4m 16s\n",
      "34:\tlearn: 0.4917562\ttest: 0.4951088\tbest: 0.4951088 (34)\ttotal: 1.77s\tremaining: 4m 11s\n",
      "35:\tlearn: 0.4916809\ttest: 0.4950590\tbest: 0.4950590 (35)\ttotal: 1.8s\tremaining: 4m 8s\n",
      "36:\tlearn: 0.4916614\ttest: 0.4950489\tbest: 0.4950489 (36)\ttotal: 1.82s\tremaining: 4m 4s\n",
      "37:\tlearn: 0.4915333\ttest: 0.4949485\tbest: 0.4949485 (37)\ttotal: 1.86s\tremaining: 4m 3s\n",
      "38:\tlearn: 0.4914645\ttest: 0.4949280\tbest: 0.4949280 (38)\ttotal: 1.9s\tremaining: 4m 1s\n",
      "39:\tlearn: 0.4914265\ttest: 0.4949071\tbest: 0.4949071 (39)\ttotal: 1.93s\tremaining: 3m 58s\n",
      "40:\tlearn: 0.4913296\ttest: 0.4948017\tbest: 0.4948017 (40)\ttotal: 1.97s\tremaining: 3m 58s\n",
      "41:\tlearn: 0.4912741\ttest: 0.4947658\tbest: 0.4947658 (41)\ttotal: 2.02s\tremaining: 3m 59s\n",
      "42:\tlearn: 0.4912426\ttest: 0.4947633\tbest: 0.4947633 (42)\ttotal: 2.07s\tremaining: 3m 59s\n",
      "43:\tlearn: 0.4911666\ttest: 0.4947342\tbest: 0.4947342 (43)\ttotal: 2.13s\tremaining: 3m 59s\n",
      "44:\tlearn: 0.4910754\ttest: 0.4946700\tbest: 0.4946700 (44)\ttotal: 2.17s\tremaining: 3m 59s\n",
      "45:\tlearn: 0.4910030\ttest: 0.4946162\tbest: 0.4946162 (45)\ttotal: 2.22s\tremaining: 3m 59s\n",
      "46:\tlearn: 0.4909914\ttest: 0.4946172\tbest: 0.4946162 (45)\ttotal: 2.26s\tremaining: 3m 57s\n",
      "47:\tlearn: 0.4909823\ttest: 0.4946148\tbest: 0.4946148 (47)\ttotal: 2.29s\tremaining: 3m 56s\n",
      "48:\tlearn: 0.4909773\ttest: 0.4946129\tbest: 0.4946129 (48)\ttotal: 2.31s\tremaining: 3m 53s\n",
      "49:\tlearn: 0.4909292\ttest: 0.4945978\tbest: 0.4945978 (49)\ttotal: 2.35s\tremaining: 3m 53s\n",
      "50:\tlearn: 0.4908909\ttest: 0.4945856\tbest: 0.4945856 (50)\ttotal: 2.4s\tremaining: 3m 53s\n",
      "51:\tlearn: 0.4908308\ttest: 0.4945427\tbest: 0.4945427 (51)\ttotal: 2.44s\tremaining: 3m 52s\n",
      "52:\tlearn: 0.4908267\ttest: 0.4945401\tbest: 0.4945401 (52)\ttotal: 2.47s\tremaining: 3m 50s\n",
      "53:\tlearn: 0.4908144\ttest: 0.4945377\tbest: 0.4945377 (53)\ttotal: 2.5s\tremaining: 3m 48s\n",
      "54:\tlearn: 0.4907920\ttest: 0.4945295\tbest: 0.4945295 (54)\ttotal: 2.53s\tremaining: 3m 47s\n",
      "55:\tlearn: 0.4907786\ttest: 0.4945265\tbest: 0.4945265 (55)\ttotal: 2.57s\tremaining: 3m 46s\n",
      "56:\tlearn: 0.4907360\ttest: 0.4945039\tbest: 0.4945039 (56)\ttotal: 2.61s\tremaining: 3m 46s\n",
      "57:\tlearn: 0.4907148\ttest: 0.4944876\tbest: 0.4944876 (57)\ttotal: 2.64s\tremaining: 3m 44s\n",
      "58:\tlearn: 0.4906605\ttest: 0.4944375\tbest: 0.4944375 (58)\ttotal: 2.68s\tremaining: 3m 44s\n",
      "59:\tlearn: 0.4906350\ttest: 0.4944278\tbest: 0.4944278 (59)\ttotal: 2.71s\tremaining: 3m 43s\n",
      "60:\tlearn: 0.4906220\ttest: 0.4944216\tbest: 0.4944216 (60)\ttotal: 2.75s\tremaining: 3m 42s\n",
      "61:\tlearn: 0.4905963\ttest: 0.4944123\tbest: 0.4944123 (61)\ttotal: 2.79s\tremaining: 3m 42s\n",
      "62:\tlearn: 0.4905760\ttest: 0.4944166\tbest: 0.4944123 (61)\ttotal: 2.83s\tremaining: 3m 41s\n",
      "63:\tlearn: 0.4905757\ttest: 0.4944168\tbest: 0.4944123 (61)\ttotal: 2.85s\tremaining: 3m 39s\n",
      "64:\tlearn: 0.4905720\ttest: 0.4944151\tbest: 0.4944123 (61)\ttotal: 2.88s\tremaining: 3m 39s\n",
      "65:\tlearn: 0.4905462\ttest: 0.4943857\tbest: 0.4943857 (65)\ttotal: 2.92s\tremaining: 3m 38s\n",
      "66:\tlearn: 0.4905033\ttest: 0.4943667\tbest: 0.4943667 (66)\ttotal: 2.96s\tremaining: 3m 37s\n",
      "67:\tlearn: 0.4904727\ttest: 0.4943495\tbest: 0.4943495 (67)\ttotal: 2.99s\tremaining: 3m 36s\n",
      "68:\tlearn: 0.4904662\ttest: 0.4943491\tbest: 0.4943491 (68)\ttotal: 3.03s\tremaining: 3m 36s\n",
      "69:\tlearn: 0.4904528\ttest: 0.4943486\tbest: 0.4943486 (69)\ttotal: 3.07s\tremaining: 3m 36s\n",
      "70:\tlearn: 0.4904248\ttest: 0.4943553\tbest: 0.4943486 (69)\ttotal: 3.11s\tremaining: 3m 35s\n",
      "71:\tlearn: 0.4904164\ttest: 0.4943644\tbest: 0.4943486 (69)\ttotal: 3.15s\tremaining: 3m 35s\n",
      "72:\tlearn: 0.4904144\ttest: 0.4943651\tbest: 0.4943486 (69)\ttotal: 3.19s\tremaining: 3m 35s\n",
      "73:\tlearn: 0.4903989\ttest: 0.4943536\tbest: 0.4943486 (69)\ttotal: 3.22s\tremaining: 3m 34s\n",
      "74:\tlearn: 0.4903927\ttest: 0.4943542\tbest: 0.4943486 (69)\ttotal: 3.25s\tremaining: 3m 33s\n",
      "75:\tlearn: 0.4903307\ttest: 0.4943063\tbest: 0.4943063 (75)\ttotal: 3.3s\tremaining: 3m 33s\n",
      "76:\tlearn: 0.4903204\ttest: 0.4943040\tbest: 0.4943040 (76)\ttotal: 3.34s\tremaining: 3m 33s\n",
      "77:\tlearn: 0.4902916\ttest: 0.4942968\tbest: 0.4942968 (77)\ttotal: 3.38s\tremaining: 3m 33s\n",
      "78:\tlearn: 0.4902800\ttest: 0.4942920\tbest: 0.4942920 (78)\ttotal: 3.41s\tremaining: 3m 32s\n",
      "79:\tlearn: 0.4902623\ttest: 0.4942817\tbest: 0.4942817 (79)\ttotal: 3.45s\tremaining: 3m 32s\n",
      "80:\tlearn: 0.4902065\ttest: 0.4942425\tbest: 0.4942425 (80)\ttotal: 3.49s\tremaining: 3m 31s\n",
      "81:\tlearn: 0.4901688\ttest: 0.4942023\tbest: 0.4942023 (81)\ttotal: 3.53s\tremaining: 3m 31s\n",
      "82:\tlearn: 0.4901583\ttest: 0.4941968\tbest: 0.4941968 (82)\ttotal: 3.58s\tremaining: 3m 31s\n",
      "83:\tlearn: 0.4901528\ttest: 0.4942023\tbest: 0.4941968 (82)\ttotal: 3.61s\tremaining: 3m 31s\n",
      "84:\tlearn: 0.4901009\ttest: 0.4941613\tbest: 0.4941613 (84)\ttotal: 3.65s\tremaining: 3m 31s\n",
      "85:\tlearn: 0.4900781\ttest: 0.4941532\tbest: 0.4941532 (85)\ttotal: 3.69s\tremaining: 3m 30s\n",
      "86:\tlearn: 0.4900781\ttest: 0.4941531\tbest: 0.4941531 (86)\ttotal: 3.71s\tremaining: 3m 29s\n",
      "87:\tlearn: 0.4900606\ttest: 0.4941430\tbest: 0.4941430 (87)\ttotal: 3.75s\tremaining: 3m 29s\n",
      "88:\tlearn: 0.4900345\ttest: 0.4941458\tbest: 0.4941430 (87)\ttotal: 3.78s\tremaining: 3m 28s\n",
      "89:\tlearn: 0.4900278\ttest: 0.4941449\tbest: 0.4941430 (87)\ttotal: 3.82s\tremaining: 3m 28s\n",
      "90:\tlearn: 0.4899991\ttest: 0.4941277\tbest: 0.4941277 (90)\ttotal: 3.87s\tremaining: 3m 28s\n",
      "91:\tlearn: 0.4899868\ttest: 0.4941291\tbest: 0.4941277 (90)\ttotal: 3.9s\tremaining: 3m 27s\n",
      "92:\tlearn: 0.4899784\ttest: 0.4941319\tbest: 0.4941277 (90)\ttotal: 3.94s\tremaining: 3m 27s\n",
      "93:\tlearn: 0.4899744\ttest: 0.4941304\tbest: 0.4941277 (90)\ttotal: 3.98s\tremaining: 3m 27s\n",
      "94:\tlearn: 0.4899673\ttest: 0.4941309\tbest: 0.4941277 (90)\ttotal: 4.02s\tremaining: 3m 27s\n",
      "95:\tlearn: 0.4899580\ttest: 0.4941241\tbest: 0.4941241 (95)\ttotal: 4.06s\tremaining: 3m 27s\n",
      "96:\tlearn: 0.4899474\ttest: 0.4941218\tbest: 0.4941218 (96)\ttotal: 4.09s\tremaining: 3m 26s\n",
      "97:\tlearn: 0.4899465\ttest: 0.4941217\tbest: 0.4941217 (97)\ttotal: 4.12s\tremaining: 3m 25s\n",
      "98:\tlearn: 0.4899414\ttest: 0.4941197\tbest: 0.4941197 (98)\ttotal: 4.15s\tremaining: 3m 25s\n",
      "99:\tlearn: 0.4899411\ttest: 0.4941197\tbest: 0.4941197 (99)\ttotal: 4.17s\tremaining: 3m 24s\n",
      "100:\tlearn: 0.4899351\ttest: 0.4941194\tbest: 0.4941194 (100)\ttotal: 4.21s\tremaining: 3m 24s\n",
      "101:\tlearn: 0.4899235\ttest: 0.4941199\tbest: 0.4941194 (100)\ttotal: 4.25s\tremaining: 3m 24s\n",
      "102:\tlearn: 0.4899218\ttest: 0.4941207\tbest: 0.4941194 (100)\ttotal: 4.28s\tremaining: 3m 23s\n",
      "103:\tlearn: 0.4899139\ttest: 0.4941184\tbest: 0.4941184 (103)\ttotal: 4.32s\tremaining: 3m 23s\n",
      "104:\tlearn: 0.4899057\ttest: 0.4941169\tbest: 0.4941169 (104)\ttotal: 4.36s\tremaining: 3m 23s\n",
      "105:\tlearn: 0.4899026\ttest: 0.4941166\tbest: 0.4941166 (105)\ttotal: 4.4s\tremaining: 3m 23s\n",
      "106:\tlearn: 0.4898944\ttest: 0.4941173\tbest: 0.4941166 (105)\ttotal: 4.43s\tremaining: 3m 22s\n",
      "107:\tlearn: 0.4898816\ttest: 0.4941211\tbest: 0.4941166 (105)\ttotal: 4.46s\tremaining: 3m 22s\n",
      "108:\tlearn: 0.4898637\ttest: 0.4941126\tbest: 0.4941126 (108)\ttotal: 4.5s\tremaining: 3m 21s\n",
      "109:\tlearn: 0.4898637\ttest: 0.4941125\tbest: 0.4941125 (109)\ttotal: 4.51s\tremaining: 3m 20s\n",
      "110:\tlearn: 0.4898573\ttest: 0.4941119\tbest: 0.4941119 (110)\ttotal: 4.55s\tremaining: 3m 20s\n",
      "111:\tlearn: 0.4897798\ttest: 0.4940559\tbest: 0.4940559 (111)\ttotal: 4.59s\tremaining: 3m 20s\n",
      "112:\tlearn: 0.4897638\ttest: 0.4940600\tbest: 0.4940559 (111)\ttotal: 4.63s\tremaining: 3m 20s\n",
      "113:\tlearn: 0.4897560\ttest: 0.4940622\tbest: 0.4940559 (111)\ttotal: 4.67s\tremaining: 3m 20s\n",
      "114:\tlearn: 0.4897517\ttest: 0.4940618\tbest: 0.4940559 (111)\ttotal: 4.71s\tremaining: 3m 19s\n",
      "115:\tlearn: 0.4897449\ttest: 0.4940633\tbest: 0.4940559 (111)\ttotal: 4.74s\tremaining: 3m 19s\n",
      "116:\tlearn: 0.4897359\ttest: 0.4940607\tbest: 0.4940559 (111)\ttotal: 4.78s\tremaining: 3m 19s\n",
      "117:\tlearn: 0.4897305\ttest: 0.4940635\tbest: 0.4940559 (111)\ttotal: 4.82s\tremaining: 3m 19s\n",
      "118:\tlearn: 0.4897219\ttest: 0.4940653\tbest: 0.4940559 (111)\ttotal: 4.86s\tremaining: 3m 19s\n",
      "119:\tlearn: 0.4896851\ttest: 0.4940455\tbest: 0.4940455 (119)\ttotal: 4.9s\tremaining: 3m 19s\n",
      "120:\tlearn: 0.4896797\ttest: 0.4940434\tbest: 0.4940434 (120)\ttotal: 4.93s\tremaining: 3m 18s\n",
      "121:\tlearn: 0.4896736\ttest: 0.4940438\tbest: 0.4940434 (120)\ttotal: 4.96s\tremaining: 3m 18s\n",
      "122:\tlearn: 0.4896706\ttest: 0.4940438\tbest: 0.4940434 (120)\ttotal: 5s\tremaining: 3m 18s\n",
      "123:\tlearn: 0.4896447\ttest: 0.4940411\tbest: 0.4940411 (123)\ttotal: 5.04s\tremaining: 3m 18s\n",
      "124:\tlearn: 0.4896338\ttest: 0.4940412\tbest: 0.4940411 (123)\ttotal: 5.07s\tremaining: 3m 17s\n",
      "125:\tlearn: 0.4896187\ttest: 0.4940308\tbest: 0.4940308 (125)\ttotal: 5.11s\tremaining: 3m 17s\n",
      "126:\tlearn: 0.4896029\ttest: 0.4940254\tbest: 0.4940254 (126)\ttotal: 5.15s\tremaining: 3m 17s\n",
      "127:\tlearn: 0.4896025\ttest: 0.4940253\tbest: 0.4940253 (127)\ttotal: 5.18s\tremaining: 3m 17s\n",
      "128:\tlearn: 0.4895934\ttest: 0.4940235\tbest: 0.4940235 (128)\ttotal: 5.22s\tremaining: 3m 17s\n",
      "129:\tlearn: 0.4895445\ttest: 0.4939918\tbest: 0.4939918 (129)\ttotal: 5.26s\tremaining: 3m 16s\n",
      "130:\tlearn: 0.4895036\ttest: 0.4939712\tbest: 0.4939712 (130)\ttotal: 5.3s\tremaining: 3m 17s\n",
      "131:\tlearn: 0.4894872\ttest: 0.4939688\tbest: 0.4939688 (131)\ttotal: 5.34s\tremaining: 3m 16s\n",
      "132:\tlearn: 0.4894786\ttest: 0.4939614\tbest: 0.4939614 (132)\ttotal: 5.37s\tremaining: 3m 16s\n",
      "133:\tlearn: 0.4894700\ttest: 0.4939611\tbest: 0.4939611 (133)\ttotal: 5.4s\tremaining: 3m 16s\n",
      "134:\tlearn: 0.4894575\ttest: 0.4939646\tbest: 0.4939611 (133)\ttotal: 5.43s\tremaining: 3m 15s\n",
      "135:\tlearn: 0.4894389\ttest: 0.4939584\tbest: 0.4939584 (135)\ttotal: 5.48s\tremaining: 3m 15s\n",
      "136:\tlearn: 0.4894311\ttest: 0.4939584\tbest: 0.4939584 (135)\ttotal: 5.51s\tremaining: 3m 15s\n",
      "137:\tlearn: 0.4894301\ttest: 0.4939568\tbest: 0.4939568 (137)\ttotal: 5.54s\tremaining: 3m 15s\n",
      "138:\tlearn: 0.4894181\ttest: 0.4939502\tbest: 0.4939502 (138)\ttotal: 5.59s\tremaining: 3m 15s\n",
      "139:\tlearn: 0.4893808\ttest: 0.4939327\tbest: 0.4939327 (139)\ttotal: 5.63s\tremaining: 3m 15s\n",
      "140:\tlearn: 0.4893543\ttest: 0.4939258\tbest: 0.4939258 (140)\ttotal: 5.67s\tremaining: 3m 15s\n",
      "141:\tlearn: 0.4893474\ttest: 0.4939226\tbest: 0.4939226 (141)\ttotal: 5.72s\tremaining: 3m 15s\n",
      "142:\tlearn: 0.4892878\ttest: 0.4938851\tbest: 0.4938851 (142)\ttotal: 5.75s\tremaining: 3m 15s\n",
      "143:\tlearn: 0.4892616\ttest: 0.4938797\tbest: 0.4938797 (143)\ttotal: 5.79s\tremaining: 3m 15s\n",
      "144:\tlearn: 0.4892490\ttest: 0.4938760\tbest: 0.4938760 (144)\ttotal: 5.82s\tremaining: 3m 14s\n",
      "145:\tlearn: 0.4892399\ttest: 0.4938747\tbest: 0.4938747 (145)\ttotal: 5.86s\tremaining: 3m 14s\n",
      "146:\tlearn: 0.4892309\ttest: 0.4938735\tbest: 0.4938735 (146)\ttotal: 5.9s\tremaining: 3m 14s\n",
      "147:\tlearn: 0.4892168\ttest: 0.4938678\tbest: 0.4938678 (147)\ttotal: 5.93s\tremaining: 3m 14s\n",
      "148:\tlearn: 0.4892168\ttest: 0.4938677\tbest: 0.4938677 (148)\ttotal: 5.96s\tremaining: 3m 13s\n",
      "149:\tlearn: 0.4892118\ttest: 0.4938678\tbest: 0.4938677 (148)\ttotal: 5.99s\tremaining: 3m 13s\n",
      "150:\tlearn: 0.4892062\ttest: 0.4938690\tbest: 0.4938677 (148)\ttotal: 6.03s\tremaining: 3m 13s\n",
      "151:\tlearn: 0.4891944\ttest: 0.4938614\tbest: 0.4938614 (151)\ttotal: 6.08s\tremaining: 3m 13s\n",
      "152:\tlearn: 0.4891926\ttest: 0.4938615\tbest: 0.4938614 (151)\ttotal: 6.12s\tremaining: 3m 13s\n",
      "153:\tlearn: 0.4891742\ttest: 0.4938609\tbest: 0.4938609 (153)\ttotal: 6.16s\tremaining: 3m 13s\n",
      "154:\tlearn: 0.4891658\ttest: 0.4938605\tbest: 0.4938605 (154)\ttotal: 6.19s\tremaining: 3m 13s\n",
      "155:\tlearn: 0.4891402\ttest: 0.4938424\tbest: 0.4938424 (155)\ttotal: 6.23s\tremaining: 3m 13s\n",
      "156:\tlearn: 0.4891165\ttest: 0.4938396\tbest: 0.4938396 (156)\ttotal: 6.27s\tremaining: 3m 13s\n",
      "157:\tlearn: 0.4890794\ttest: 0.4938158\tbest: 0.4938158 (157)\ttotal: 6.32s\tremaining: 3m 13s\n",
      "158:\tlearn: 0.4890456\ttest: 0.4937970\tbest: 0.4937970 (158)\ttotal: 6.36s\tremaining: 3m 13s\n",
      "159:\tlearn: 0.4890070\ttest: 0.4937670\tbest: 0.4937670 (159)\ttotal: 6.41s\tremaining: 3m 13s\n",
      "160:\tlearn: 0.4889956\ttest: 0.4937620\tbest: 0.4937620 (160)\ttotal: 6.44s\tremaining: 3m 13s\n",
      "161:\tlearn: 0.4889813\ttest: 0.4937590\tbest: 0.4937590 (161)\ttotal: 6.48s\tremaining: 3m 13s\n",
      "162:\tlearn: 0.4889603\ttest: 0.4937554\tbest: 0.4937554 (162)\ttotal: 6.52s\tremaining: 3m 13s\n",
      "163:\tlearn: 0.4889386\ttest: 0.4937544\tbest: 0.4937544 (163)\ttotal: 6.55s\tremaining: 3m 13s\n",
      "164:\tlearn: 0.4889251\ttest: 0.4937554\tbest: 0.4937544 (163)\ttotal: 6.59s\tremaining: 3m 13s\n",
      "165:\tlearn: 0.4889140\ttest: 0.4937546\tbest: 0.4937544 (163)\ttotal: 6.64s\tremaining: 3m 13s\n",
      "166:\tlearn: 0.4888782\ttest: 0.4937351\tbest: 0.4937351 (166)\ttotal: 6.68s\tremaining: 3m 13s\n",
      "167:\tlearn: 0.4888720\ttest: 0.4937358\tbest: 0.4937351 (166)\ttotal: 6.71s\tremaining: 3m 13s\n",
      "168:\tlearn: 0.4888540\ttest: 0.4937327\tbest: 0.4937327 (168)\ttotal: 6.75s\tremaining: 3m 12s\n",
      "169:\tlearn: 0.4888190\ttest: 0.4937109\tbest: 0.4937109 (169)\ttotal: 6.8s\tremaining: 3m 13s\n",
      "170:\tlearn: 0.4888116\ttest: 0.4937105\tbest: 0.4937105 (170)\ttotal: 6.83s\tremaining: 3m 12s\n",
      "171:\tlearn: 0.4888035\ttest: 0.4937122\tbest: 0.4937105 (170)\ttotal: 6.87s\tremaining: 3m 12s\n",
      "172:\tlearn: 0.4887881\ttest: 0.4937064\tbest: 0.4937064 (172)\ttotal: 6.91s\tremaining: 3m 12s\n",
      "173:\tlearn: 0.4887590\ttest: 0.4936882\tbest: 0.4936882 (173)\ttotal: 6.95s\tremaining: 3m 12s\n",
      "174:\tlearn: 0.4887446\ttest: 0.4936789\tbest: 0.4936789 (174)\ttotal: 6.99s\tremaining: 3m 12s\n",
      "175:\tlearn: 0.4887388\ttest: 0.4936793\tbest: 0.4936789 (174)\ttotal: 7.03s\tremaining: 3m 12s\n",
      "176:\tlearn: 0.4887143\ttest: 0.4936657\tbest: 0.4936657 (176)\ttotal: 7.07s\tremaining: 3m 12s\n",
      "177:\tlearn: 0.4887068\ttest: 0.4936633\tbest: 0.4936633 (177)\ttotal: 7.12s\tremaining: 3m 12s\n",
      "178:\tlearn: 0.4887061\ttest: 0.4936633\tbest: 0.4936633 (178)\ttotal: 7.15s\tremaining: 3m 12s\n",
      "179:\tlearn: 0.4886995\ttest: 0.4936620\tbest: 0.4936620 (179)\ttotal: 7.19s\tremaining: 3m 12s\n",
      "180:\tlearn: 0.4886932\ttest: 0.4936592\tbest: 0.4936592 (180)\ttotal: 7.23s\tremaining: 3m 12s\n",
      "181:\tlearn: 0.4886848\ttest: 0.4936614\tbest: 0.4936592 (180)\ttotal: 7.27s\tremaining: 3m 12s\n",
      "182:\tlearn: 0.4886739\ttest: 0.4936587\tbest: 0.4936587 (182)\ttotal: 7.31s\tremaining: 3m 12s\n",
      "183:\tlearn: 0.4886704\ttest: 0.4936494\tbest: 0.4936494 (183)\ttotal: 7.35s\tremaining: 3m 12s\n",
      "184:\tlearn: 0.4886597\ttest: 0.4936427\tbest: 0.4936427 (184)\ttotal: 7.39s\tremaining: 3m 12s\n",
      "185:\tlearn: 0.4886532\ttest: 0.4936397\tbest: 0.4936397 (185)\ttotal: 7.42s\tremaining: 3m 12s\n",
      "186:\tlearn: 0.4886261\ttest: 0.4936349\tbest: 0.4936349 (186)\ttotal: 7.47s\tremaining: 3m 12s\n",
      "187:\tlearn: 0.4886250\ttest: 0.4936350\tbest: 0.4936349 (186)\ttotal: 7.5s\tremaining: 3m 11s\n",
      "188:\tlearn: 0.4886170\ttest: 0.4936353\tbest: 0.4936349 (186)\ttotal: 7.54s\tremaining: 3m 11s\n",
      "189:\tlearn: 0.4885964\ttest: 0.4936324\tbest: 0.4936324 (189)\ttotal: 7.57s\tremaining: 3m 11s\n",
      "190:\tlearn: 0.4885845\ttest: 0.4936295\tbest: 0.4936295 (190)\ttotal: 7.62s\tremaining: 3m 11s\n",
      "191:\tlearn: 0.4885764\ttest: 0.4936318\tbest: 0.4936295 (190)\ttotal: 7.66s\tremaining: 3m 11s\n",
      "192:\tlearn: 0.4885450\ttest: 0.4936118\tbest: 0.4936118 (192)\ttotal: 7.7s\tremaining: 3m 11s\n",
      "193:\tlearn: 0.4885331\ttest: 0.4936071\tbest: 0.4936071 (193)\ttotal: 7.74s\tremaining: 3m 11s\n",
      "194:\tlearn: 0.4885310\ttest: 0.4936087\tbest: 0.4936071 (193)\ttotal: 7.78s\tremaining: 3m 11s\n",
      "195:\tlearn: 0.4885273\ttest: 0.4936081\tbest: 0.4936071 (193)\ttotal: 7.81s\tremaining: 3m 11s\n",
      "196:\tlearn: 0.4885242\ttest: 0.4936066\tbest: 0.4936066 (196)\ttotal: 7.85s\tremaining: 3m 11s\n",
      "197:\tlearn: 0.4885104\ttest: 0.4936079\tbest: 0.4936066 (196)\ttotal: 7.89s\tremaining: 3m 11s\n",
      "198:\tlearn: 0.4885049\ttest: 0.4936077\tbest: 0.4936066 (196)\ttotal: 7.93s\tremaining: 3m 11s\n",
      "199:\tlearn: 0.4884712\ttest: 0.4935955\tbest: 0.4935955 (199)\ttotal: 7.97s\tremaining: 3m 11s\n",
      "200:\tlearn: 0.4884698\ttest: 0.4935947\tbest: 0.4935947 (200)\ttotal: 8.01s\tremaining: 3m 11s\n",
      "201:\tlearn: 0.4884673\ttest: 0.4935970\tbest: 0.4935947 (200)\ttotal: 8.04s\tremaining: 3m 10s\n",
      "202:\tlearn: 0.4884584\ttest: 0.4936004\tbest: 0.4935947 (200)\ttotal: 8.08s\tremaining: 3m 10s\n",
      "203:\tlearn: 0.4884540\ttest: 0.4936020\tbest: 0.4935947 (200)\ttotal: 8.12s\tremaining: 3m 10s\n",
      "204:\tlearn: 0.4884516\ttest: 0.4936028\tbest: 0.4935947 (200)\ttotal: 8.15s\tremaining: 3m 10s\n",
      "205:\tlearn: 0.4884444\ttest: 0.4936010\tbest: 0.4935947 (200)\ttotal: 8.19s\tremaining: 3m 10s\n",
      "206:\tlearn: 0.4884371\ttest: 0.4935952\tbest: 0.4935947 (200)\ttotal: 8.23s\tremaining: 3m 10s\n",
      "207:\tlearn: 0.4884268\ttest: 0.4935999\tbest: 0.4935947 (200)\ttotal: 8.27s\tremaining: 3m 10s\n",
      "208:\tlearn: 0.4883987\ttest: 0.4935732\tbest: 0.4935732 (208)\ttotal: 8.31s\tremaining: 3m 10s\n",
      "209:\tlearn: 0.4883952\ttest: 0.4935724\tbest: 0.4935724 (209)\ttotal: 8.35s\tremaining: 3m 10s\n",
      "210:\tlearn: 0.4883692\ttest: 0.4935502\tbest: 0.4935502 (210)\ttotal: 8.39s\tremaining: 3m 10s\n",
      "211:\tlearn: 0.4883598\ttest: 0.4935499\tbest: 0.4935499 (211)\ttotal: 8.43s\tremaining: 3m 10s\n",
      "212:\tlearn: 0.4883539\ttest: 0.4935499\tbest: 0.4935499 (211)\ttotal: 8.46s\tremaining: 3m 10s\n",
      "213:\tlearn: 0.4883271\ttest: 0.4935333\tbest: 0.4935333 (213)\ttotal: 8.51s\tremaining: 3m 10s\n",
      "214:\tlearn: 0.4883183\ttest: 0.4935338\tbest: 0.4935333 (213)\ttotal: 8.54s\tremaining: 3m 10s\n",
      "215:\tlearn: 0.4882985\ttest: 0.4935181\tbest: 0.4935181 (215)\ttotal: 8.59s\tremaining: 3m 10s\n",
      "216:\tlearn: 0.4882940\ttest: 0.4935177\tbest: 0.4935177 (216)\ttotal: 8.63s\tremaining: 3m 10s\n",
      "217:\tlearn: 0.4882821\ttest: 0.4935206\tbest: 0.4935177 (216)\ttotal: 8.68s\tremaining: 3m 10s\n",
      "218:\tlearn: 0.4882745\ttest: 0.4935191\tbest: 0.4935177 (216)\ttotal: 8.71s\tremaining: 3m 10s\n",
      "219:\tlearn: 0.4882662\ttest: 0.4935173\tbest: 0.4935173 (219)\ttotal: 8.75s\tremaining: 3m 10s\n",
      "220:\tlearn: 0.4882476\ttest: 0.4935150\tbest: 0.4935150 (220)\ttotal: 8.79s\tremaining: 3m 9s\n",
      "221:\tlearn: 0.4882449\ttest: 0.4935152\tbest: 0.4935150 (220)\ttotal: 8.82s\tremaining: 3m 9s\n",
      "222:\tlearn: 0.4882421\ttest: 0.4935138\tbest: 0.4935138 (222)\ttotal: 8.86s\tremaining: 3m 9s\n",
      "223:\tlearn: 0.4882281\ttest: 0.4935056\tbest: 0.4935056 (223)\ttotal: 8.9s\tremaining: 3m 9s\n",
      "224:\tlearn: 0.4882253\ttest: 0.4935039\tbest: 0.4935039 (224)\ttotal: 8.94s\tremaining: 3m 9s\n",
      "225:\tlearn: 0.4881959\ttest: 0.4934848\tbest: 0.4934848 (225)\ttotal: 8.97s\tremaining: 3m 9s\n",
      "226:\tlearn: 0.4881816\ttest: 0.4934808\tbest: 0.4934808 (226)\ttotal: 9.02s\tremaining: 3m 9s\n",
      "227:\tlearn: 0.4881812\ttest: 0.4934806\tbest: 0.4934806 (227)\ttotal: 9.05s\tremaining: 3m 9s\n",
      "228:\tlearn: 0.4881798\ttest: 0.4934804\tbest: 0.4934804 (228)\ttotal: 9.1s\tremaining: 3m 9s\n",
      "229:\tlearn: 0.4881551\ttest: 0.4934806\tbest: 0.4934804 (228)\ttotal: 9.13s\tremaining: 3m 9s\n",
      "230:\tlearn: 0.4881490\ttest: 0.4934783\tbest: 0.4934783 (230)\ttotal: 9.18s\tremaining: 3m 9s\n",
      "231:\tlearn: 0.4881481\ttest: 0.4934786\tbest: 0.4934783 (230)\ttotal: 9.21s\tremaining: 3m 9s\n",
      "232:\tlearn: 0.4881404\ttest: 0.4934768\tbest: 0.4934768 (232)\ttotal: 9.24s\tremaining: 3m 8s\n",
      "233:\tlearn: 0.4881282\ttest: 0.4934732\tbest: 0.4934732 (233)\ttotal: 9.28s\tremaining: 3m 8s\n",
      "234:\tlearn: 0.4881146\ttest: 0.4934713\tbest: 0.4934713 (234)\ttotal: 9.32s\tremaining: 3m 9s\n",
      "235:\tlearn: 0.4880958\ttest: 0.4934610\tbest: 0.4934610 (235)\ttotal: 9.36s\tremaining: 3m 9s\n",
      "236:\tlearn: 0.4880921\ttest: 0.4934595\tbest: 0.4934595 (236)\ttotal: 9.4s\tremaining: 3m 8s\n",
      "237:\tlearn: 0.4880896\ttest: 0.4934599\tbest: 0.4934595 (236)\ttotal: 9.43s\tremaining: 3m 8s\n",
      "238:\tlearn: 0.4880864\ttest: 0.4934581\tbest: 0.4934581 (238)\ttotal: 9.47s\tremaining: 3m 8s\n",
      "239:\tlearn: 0.4880798\ttest: 0.4934565\tbest: 0.4934565 (239)\ttotal: 9.52s\tremaining: 3m 8s\n",
      "240:\tlearn: 0.4880611\ttest: 0.4934434\tbest: 0.4934434 (240)\ttotal: 9.56s\tremaining: 3m 8s\n",
      "241:\tlearn: 0.4880604\ttest: 0.4934433\tbest: 0.4934433 (241)\ttotal: 9.6s\tremaining: 3m 8s\n",
      "242:\tlearn: 0.4880565\ttest: 0.4934431\tbest: 0.4934431 (242)\ttotal: 9.64s\tremaining: 3m 8s\n",
      "243:\tlearn: 0.4880536\ttest: 0.4934426\tbest: 0.4934426 (243)\ttotal: 9.68s\tremaining: 3m 8s\n",
      "244:\tlearn: 0.4880423\ttest: 0.4934404\tbest: 0.4934404 (244)\ttotal: 9.71s\tremaining: 3m 8s\n",
      "245:\tlearn: 0.4880174\ttest: 0.4934170\tbest: 0.4934170 (245)\ttotal: 9.75s\tremaining: 3m 8s\n",
      "246:\tlearn: 0.4880137\ttest: 0.4934175\tbest: 0.4934170 (245)\ttotal: 9.79s\tremaining: 3m 8s\n",
      "247:\tlearn: 0.4880103\ttest: 0.4934189\tbest: 0.4934170 (245)\ttotal: 9.83s\tremaining: 3m 8s\n",
      "248:\tlearn: 0.4879951\ttest: 0.4934262\tbest: 0.4934170 (245)\ttotal: 9.87s\tremaining: 3m 8s\n",
      "249:\tlearn: 0.4879897\ttest: 0.4934252\tbest: 0.4934170 (245)\ttotal: 9.91s\tremaining: 3m 8s\n",
      "250:\tlearn: 0.4879886\ttest: 0.4934266\tbest: 0.4934170 (245)\ttotal: 9.95s\tremaining: 3m 8s\n",
      "251:\tlearn: 0.4879855\ttest: 0.4934258\tbest: 0.4934170 (245)\ttotal: 9.99s\tremaining: 3m 8s\n",
      "252:\tlearn: 0.4879826\ttest: 0.4934256\tbest: 0.4934170 (245)\ttotal: 10s\tremaining: 3m 8s\n",
      "253:\tlearn: 0.4879778\ttest: 0.4934287\tbest: 0.4934170 (245)\ttotal: 10.1s\tremaining: 3m 8s\n",
      "254:\tlearn: 0.4879750\ttest: 0.4934299\tbest: 0.4934170 (245)\ttotal: 10.1s\tremaining: 3m 7s\n",
      "255:\tlearn: 0.4879705\ttest: 0.4934312\tbest: 0.4934170 (245)\ttotal: 10.1s\tremaining: 3m 7s\n",
      "256:\tlearn: 0.4879617\ttest: 0.4934323\tbest: 0.4934170 (245)\ttotal: 10.2s\tremaining: 3m 7s\n",
      "257:\tlearn: 0.4879613\ttest: 0.4934322\tbest: 0.4934170 (245)\ttotal: 10.2s\tremaining: 3m 7s\n",
      "258:\tlearn: 0.4879601\ttest: 0.4934315\tbest: 0.4934170 (245)\ttotal: 10.2s\tremaining: 3m 7s\n",
      "259:\tlearn: 0.4879533\ttest: 0.4934307\tbest: 0.4934170 (245)\ttotal: 10.3s\tremaining: 3m 7s\n",
      "260:\tlearn: 0.4879469\ttest: 0.4934354\tbest: 0.4934170 (245)\ttotal: 10.3s\tremaining: 3m 7s\n",
      "261:\tlearn: 0.4879424\ttest: 0.4934359\tbest: 0.4934170 (245)\ttotal: 10.4s\tremaining: 3m 7s\n",
      "262:\tlearn: 0.4879359\ttest: 0.4934331\tbest: 0.4934170 (245)\ttotal: 10.4s\tremaining: 3m 7s\n",
      "263:\tlearn: 0.4879317\ttest: 0.4934339\tbest: 0.4934170 (245)\ttotal: 10.4s\tremaining: 3m 7s\n",
      "264:\tlearn: 0.4879243\ttest: 0.4934366\tbest: 0.4934170 (245)\ttotal: 10.5s\tremaining: 3m 7s\n",
      "265:\tlearn: 0.4879009\ttest: 0.4934334\tbest: 0.4934170 (245)\ttotal: 10.5s\tremaining: 3m 6s\n",
      "266:\tlearn: 0.4879001\ttest: 0.4934348\tbest: 0.4934170 (245)\ttotal: 10.5s\tremaining: 3m 6s\n",
      "267:\tlearn: 0.4878813\ttest: 0.4934330\tbest: 0.4934170 (245)\ttotal: 10.6s\tremaining: 3m 6s\n",
      "268:\tlearn: 0.4878743\ttest: 0.4934315\tbest: 0.4934170 (245)\ttotal: 10.6s\tremaining: 3m 6s\n",
      "269:\tlearn: 0.4878584\ttest: 0.4934230\tbest: 0.4934170 (245)\ttotal: 10.7s\tremaining: 3m 7s\n",
      "270:\tlearn: 0.4878495\ttest: 0.4934213\tbest: 0.4934170 (245)\ttotal: 10.7s\tremaining: 3m 7s\n",
      "271:\tlearn: 0.4878483\ttest: 0.4934214\tbest: 0.4934170 (245)\ttotal: 10.8s\tremaining: 3m 6s\n",
      "272:\tlearn: 0.4878368\ttest: 0.4934167\tbest: 0.4934167 (272)\ttotal: 10.8s\tremaining: 3m 6s\n",
      "273:\tlearn: 0.4878257\ttest: 0.4934115\tbest: 0.4934115 (273)\ttotal: 10.8s\tremaining: 3m 6s\n",
      "274:\tlearn: 0.4878237\ttest: 0.4934115\tbest: 0.4934115 (274)\ttotal: 10.9s\tremaining: 3m 6s\n",
      "275:\tlearn: 0.4878148\ttest: 0.4934059\tbest: 0.4934059 (275)\ttotal: 10.9s\tremaining: 3m 6s\n",
      "276:\tlearn: 0.4878145\ttest: 0.4934058\tbest: 0.4934058 (276)\ttotal: 11s\tremaining: 3m 6s\n",
      "277:\tlearn: 0.4878135\ttest: 0.4934058\tbest: 0.4934058 (277)\ttotal: 11s\tremaining: 3m 6s\n",
      "278:\tlearn: 0.4878046\ttest: 0.4934082\tbest: 0.4934058 (277)\ttotal: 11s\tremaining: 3m 6s\n",
      "279:\tlearn: 0.4877997\ttest: 0.4934058\tbest: 0.4934058 (279)\ttotal: 11.1s\tremaining: 3m 6s\n",
      "280:\tlearn: 0.4877938\ttest: 0.4934056\tbest: 0.4934056 (280)\ttotal: 11.1s\tremaining: 3m 6s\n",
      "281:\tlearn: 0.4877755\ttest: 0.4934131\tbest: 0.4934056 (280)\ttotal: 11.1s\tremaining: 3m 6s\n",
      "282:\tlearn: 0.4877750\ttest: 0.4934132\tbest: 0.4934056 (280)\ttotal: 11.2s\tremaining: 3m 6s\n",
      "283:\tlearn: 0.4877638\ttest: 0.4934171\tbest: 0.4934056 (280)\ttotal: 11.2s\tremaining: 3m 6s\n",
      "284:\tlearn: 0.4877505\ttest: 0.4934169\tbest: 0.4934056 (280)\ttotal: 11.2s\tremaining: 3m 5s\n",
      "285:\tlearn: 0.4877459\ttest: 0.4934202\tbest: 0.4934056 (280)\ttotal: 11.3s\tremaining: 3m 5s\n",
      "286:\tlearn: 0.4877405\ttest: 0.4934205\tbest: 0.4934056 (280)\ttotal: 11.3s\tremaining: 3m 5s\n",
      "287:\tlearn: 0.4877378\ttest: 0.4934260\tbest: 0.4934056 (280)\ttotal: 11.3s\tremaining: 3m 5s\n",
      "288:\tlearn: 0.4877366\ttest: 0.4934264\tbest: 0.4934056 (280)\ttotal: 11.4s\tremaining: 3m 5s\n",
      "289:\tlearn: 0.4877286\ttest: 0.4934276\tbest: 0.4934056 (280)\ttotal: 11.4s\tremaining: 3m 5s\n",
      "290:\tlearn: 0.4877166\ttest: 0.4934282\tbest: 0.4934056 (280)\ttotal: 11.5s\tremaining: 3m 5s\n",
      "291:\tlearn: 0.4876970\ttest: 0.4934228\tbest: 0.4934056 (280)\ttotal: 11.5s\tremaining: 3m 5s\n",
      "292:\tlearn: 0.4876913\ttest: 0.4934231\tbest: 0.4934056 (280)\ttotal: 11.5s\tremaining: 3m 5s\n",
      "293:\tlearn: 0.4876643\ttest: 0.4934024\tbest: 0.4934024 (293)\ttotal: 11.6s\tremaining: 3m 5s\n",
      "294:\tlearn: 0.4876585\ttest: 0.4934040\tbest: 0.4934024 (293)\ttotal: 11.6s\tremaining: 3m 5s\n",
      "295:\tlearn: 0.4876563\ttest: 0.4934037\tbest: 0.4934024 (293)\ttotal: 11.7s\tremaining: 3m 5s\n",
      "296:\tlearn: 0.4876522\ttest: 0.4934034\tbest: 0.4934024 (293)\ttotal: 11.7s\tremaining: 3m 5s\n",
      "297:\tlearn: 0.4876496\ttest: 0.4934038\tbest: 0.4934024 (293)\ttotal: 11.8s\tremaining: 3m 5s\n",
      "298:\tlearn: 0.4876439\ttest: 0.4934045\tbest: 0.4934024 (293)\ttotal: 11.8s\tremaining: 3m 5s\n",
      "299:\tlearn: 0.4876336\ttest: 0.4934039\tbest: 0.4934024 (293)\ttotal: 11.8s\tremaining: 3m 5s\n",
      "300:\tlearn: 0.4876315\ttest: 0.4934083\tbest: 0.4934024 (293)\ttotal: 11.9s\tremaining: 3m 5s\n",
      "301:\tlearn: 0.4876311\ttest: 0.4934083\tbest: 0.4934024 (293)\ttotal: 11.9s\tremaining: 3m 4s\n",
      "302:\tlearn: 0.4876280\ttest: 0.4934047\tbest: 0.4934024 (293)\ttotal: 11.9s\tremaining: 3m 4s\n",
      "303:\tlearn: 0.4876236\ttest: 0.4934036\tbest: 0.4934024 (293)\ttotal: 12s\tremaining: 3m 4s\n",
      "304:\tlearn: 0.4876219\ttest: 0.4934041\tbest: 0.4934024 (293)\ttotal: 12s\tremaining: 3m 4s\n",
      "305:\tlearn: 0.4876141\ttest: 0.4934023\tbest: 0.4934023 (305)\ttotal: 12s\tremaining: 3m 4s\n",
      "306:\tlearn: 0.4875999\ttest: 0.4934094\tbest: 0.4934023 (305)\ttotal: 12.1s\tremaining: 3m 4s\n",
      "307:\tlearn: 0.4875949\ttest: 0.4934081\tbest: 0.4934023 (305)\ttotal: 12.1s\tremaining: 3m 4s\n",
      "308:\tlearn: 0.4875840\ttest: 0.4934004\tbest: 0.4934004 (308)\ttotal: 12.1s\tremaining: 3m 4s\n",
      "309:\tlearn: 0.4875742\ttest: 0.4934024\tbest: 0.4934004 (308)\ttotal: 12.2s\tremaining: 3m 4s\n",
      "310:\tlearn: 0.4875619\ttest: 0.4934001\tbest: 0.4934001 (310)\ttotal: 12.2s\tremaining: 3m 4s\n",
      "311:\tlearn: 0.4875606\ttest: 0.4933999\tbest: 0.4933999 (311)\ttotal: 12.2s\tremaining: 3m 4s\n",
      "312:\tlearn: 0.4875544\ttest: 0.4934003\tbest: 0.4933999 (311)\ttotal: 12.3s\tremaining: 3m 3s\n",
      "313:\tlearn: 0.4875539\ttest: 0.4934003\tbest: 0.4933999 (311)\ttotal: 12.3s\tremaining: 3m 3s\n",
      "314:\tlearn: 0.4875323\ttest: 0.4933885\tbest: 0.4933885 (314)\ttotal: 12.4s\tremaining: 3m 3s\n",
      "315:\tlearn: 0.4875241\ttest: 0.4933857\tbest: 0.4933857 (315)\ttotal: 12.4s\tremaining: 3m 3s\n",
      "316:\tlearn: 0.4875203\ttest: 0.4933856\tbest: 0.4933856 (316)\ttotal: 12.4s\tremaining: 3m 3s\n",
      "317:\tlearn: 0.4875168\ttest: 0.4933875\tbest: 0.4933856 (316)\ttotal: 12.5s\tremaining: 3m 3s\n",
      "318:\tlearn: 0.4875129\ttest: 0.4933895\tbest: 0.4933856 (316)\ttotal: 12.5s\tremaining: 3m 3s\n",
      "319:\tlearn: 0.4875057\ttest: 0.4933874\tbest: 0.4933856 (316)\ttotal: 12.5s\tremaining: 3m 3s\n",
      "320:\tlearn: 0.4875032\ttest: 0.4933869\tbest: 0.4933856 (316)\ttotal: 12.6s\tremaining: 3m 3s\n",
      "321:\tlearn: 0.4875016\ttest: 0.4933866\tbest: 0.4933856 (316)\ttotal: 12.6s\tremaining: 3m 3s\n",
      "322:\tlearn: 0.4874971\ttest: 0.4933861\tbest: 0.4933856 (316)\ttotal: 12.7s\tremaining: 3m 3s\n",
      "323:\tlearn: 0.4874969\ttest: 0.4933861\tbest: 0.4933856 (316)\ttotal: 12.7s\tremaining: 3m 3s\n",
      "324:\tlearn: 0.4874916\ttest: 0.4933801\tbest: 0.4933801 (324)\ttotal: 12.7s\tremaining: 3m 3s\n",
      "325:\tlearn: 0.4874799\ttest: 0.4933752\tbest: 0.4933752 (325)\ttotal: 12.8s\tremaining: 3m 3s\n",
      "326:\tlearn: 0.4874715\ttest: 0.4933760\tbest: 0.4933752 (325)\ttotal: 12.8s\tremaining: 3m 3s\n",
      "327:\tlearn: 0.4874632\ttest: 0.4933772\tbest: 0.4933752 (325)\ttotal: 12.9s\tremaining: 3m 3s\n",
      "328:\tlearn: 0.4874614\ttest: 0.4933778\tbest: 0.4933752 (325)\ttotal: 12.9s\tremaining: 3m 3s\n",
      "329:\tlearn: 0.4874607\ttest: 0.4933775\tbest: 0.4933752 (325)\ttotal: 12.9s\tremaining: 3m 3s\n",
      "330:\tlearn: 0.4874574\ttest: 0.4933739\tbest: 0.4933739 (330)\ttotal: 13s\tremaining: 3m 3s\n",
      "331:\tlearn: 0.4874548\ttest: 0.4933749\tbest: 0.4933739 (330)\ttotal: 13s\tremaining: 3m 3s\n",
      "332:\tlearn: 0.4874447\ttest: 0.4933662\tbest: 0.4933662 (332)\ttotal: 13.1s\tremaining: 3m 3s\n",
      "333:\tlearn: 0.4874425\ttest: 0.4933637\tbest: 0.4933637 (333)\ttotal: 13.1s\tremaining: 3m 3s\n",
      "334:\tlearn: 0.4874369\ttest: 0.4933658\tbest: 0.4933637 (333)\ttotal: 13.2s\tremaining: 3m 3s\n",
      "335:\tlearn: 0.4874313\ttest: 0.4933655\tbest: 0.4933637 (333)\ttotal: 13.2s\tremaining: 3m 3s\n",
      "336:\tlearn: 0.4874309\ttest: 0.4933654\tbest: 0.4933637 (333)\ttotal: 13.2s\tremaining: 3m 2s\n",
      "337:\tlearn: 0.4874148\ttest: 0.4933687\tbest: 0.4933637 (333)\ttotal: 13.3s\tremaining: 3m 2s\n",
      "338:\tlearn: 0.4874111\ttest: 0.4933681\tbest: 0.4933637 (333)\ttotal: 13.3s\tremaining: 3m 2s\n",
      "339:\tlearn: 0.4874039\ttest: 0.4933712\tbest: 0.4933637 (333)\ttotal: 13.3s\tremaining: 3m 2s\n",
      "340:\tlearn: 0.4873824\ttest: 0.4933689\tbest: 0.4933637 (333)\ttotal: 13.4s\tremaining: 3m 2s\n",
      "341:\tlearn: 0.4873753\ttest: 0.4933712\tbest: 0.4933637 (333)\ttotal: 13.4s\tremaining: 3m 2s\n",
      "342:\tlearn: 0.4873551\ttest: 0.4933684\tbest: 0.4933637 (333)\ttotal: 13.4s\tremaining: 3m 2s\n",
      "343:\tlearn: 0.4873511\ttest: 0.4933697\tbest: 0.4933637 (333)\ttotal: 13.5s\tremaining: 3m 2s\n",
      "344:\tlearn: 0.4873373\ttest: 0.4933736\tbest: 0.4933637 (333)\ttotal: 13.5s\tremaining: 3m 2s\n",
      "345:\tlearn: 0.4873295\ttest: 0.4933718\tbest: 0.4933637 (333)\ttotal: 13.6s\tremaining: 3m 2s\n",
      "346:\tlearn: 0.4873272\ttest: 0.4933685\tbest: 0.4933637 (333)\ttotal: 13.6s\tremaining: 3m 2s\n",
      "347:\tlearn: 0.4873246\ttest: 0.4933710\tbest: 0.4933637 (333)\ttotal: 13.7s\tremaining: 3m 2s\n",
      "348:\tlearn: 0.4873198\ttest: 0.4933700\tbest: 0.4933637 (333)\ttotal: 13.7s\tremaining: 3m 2s\n",
      "349:\tlearn: 0.4873177\ttest: 0.4933708\tbest: 0.4933637 (333)\ttotal: 13.7s\tremaining: 3m 2s\n",
      "350:\tlearn: 0.4873129\ttest: 0.4933729\tbest: 0.4933637 (333)\ttotal: 13.8s\tremaining: 3m 2s\n",
      "351:\tlearn: 0.4873040\ttest: 0.4933642\tbest: 0.4933637 (333)\ttotal: 13.8s\tremaining: 3m 2s\n",
      "352:\tlearn: 0.4873030\ttest: 0.4933642\tbest: 0.4933637 (333)\ttotal: 13.8s\tremaining: 3m 2s\n",
      "353:\tlearn: 0.4872999\ttest: 0.4933647\tbest: 0.4933637 (333)\ttotal: 13.9s\tremaining: 3m 2s\n",
      "354:\tlearn: 0.4872979\ttest: 0.4933647\tbest: 0.4933637 (333)\ttotal: 13.9s\tremaining: 3m 1s\n",
      "355:\tlearn: 0.4872972\ttest: 0.4933665\tbest: 0.4933637 (333)\ttotal: 14s\tremaining: 3m 2s\n",
      "356:\tlearn: 0.4872903\ttest: 0.4933686\tbest: 0.4933637 (333)\ttotal: 14s\tremaining: 3m 2s\n",
      "357:\tlearn: 0.4872862\ttest: 0.4933664\tbest: 0.4933637 (333)\ttotal: 14s\tremaining: 3m 2s\n",
      "358:\tlearn: 0.4872828\ttest: 0.4933671\tbest: 0.4933637 (333)\ttotal: 14.1s\tremaining: 3m 2s\n",
      "359:\tlearn: 0.4872780\ttest: 0.4933671\tbest: 0.4933637 (333)\ttotal: 14.1s\tremaining: 3m 1s\n",
      "360:\tlearn: 0.4872727\ttest: 0.4933670\tbest: 0.4933637 (333)\ttotal: 14.2s\tremaining: 3m 1s\n",
      "361:\tlearn: 0.4872575\ttest: 0.4933632\tbest: 0.4933632 (361)\ttotal: 14.2s\tremaining: 3m 1s\n",
      "362:\tlearn: 0.4872386\ttest: 0.4933642\tbest: 0.4933632 (361)\ttotal: 14.2s\tremaining: 3m 1s\n",
      "363:\tlearn: 0.4872371\ttest: 0.4933659\tbest: 0.4933632 (361)\ttotal: 14.3s\tremaining: 3m 1s\n",
      "364:\tlearn: 0.4872351\ttest: 0.4933662\tbest: 0.4933632 (361)\ttotal: 14.3s\tremaining: 3m 1s\n",
      "365:\tlearn: 0.4872331\ttest: 0.4933649\tbest: 0.4933632 (361)\ttotal: 14.4s\tremaining: 3m 1s\n",
      "366:\tlearn: 0.4872289\ttest: 0.4933684\tbest: 0.4933632 (361)\ttotal: 14.4s\tremaining: 3m 1s\n",
      "367:\tlearn: 0.4872178\ttest: 0.4933687\tbest: 0.4933632 (361)\ttotal: 14.4s\tremaining: 3m 1s\n",
      "368:\tlearn: 0.4871966\ttest: 0.4933593\tbest: 0.4933593 (368)\ttotal: 14.5s\tremaining: 3m 1s\n",
      "369:\tlearn: 0.4871953\ttest: 0.4933593\tbest: 0.4933593 (369)\ttotal: 14.5s\tremaining: 3m 1s\n",
      "370:\tlearn: 0.4871923\ttest: 0.4933595\tbest: 0.4933593 (369)\ttotal: 14.5s\tremaining: 3m 1s\n",
      "371:\tlearn: 0.4871894\ttest: 0.4933601\tbest: 0.4933593 (369)\ttotal: 14.6s\tremaining: 3m 1s\n",
      "372:\tlearn: 0.4871847\ttest: 0.4933578\tbest: 0.4933578 (372)\ttotal: 14.6s\tremaining: 3m 1s\n",
      "373:\tlearn: 0.4871810\ttest: 0.4933600\tbest: 0.4933578 (372)\ttotal: 14.7s\tremaining: 3m 1s\n",
      "374:\tlearn: 0.4871730\ttest: 0.4933551\tbest: 0.4933551 (374)\ttotal: 14.7s\tremaining: 3m 1s\n",
      "375:\tlearn: 0.4871707\ttest: 0.4933554\tbest: 0.4933551 (374)\ttotal: 14.7s\tremaining: 3m 1s\n",
      "376:\tlearn: 0.4871621\ttest: 0.4933559\tbest: 0.4933551 (374)\ttotal: 14.8s\tremaining: 3m 1s\n",
      "377:\tlearn: 0.4871574\ttest: 0.4933600\tbest: 0.4933551 (374)\ttotal: 14.8s\tremaining: 3m 1s\n",
      "378:\tlearn: 0.4871535\ttest: 0.4933608\tbest: 0.4933551 (374)\ttotal: 14.9s\tremaining: 3m 1s\n",
      "379:\tlearn: 0.4871462\ttest: 0.4933639\tbest: 0.4933551 (374)\ttotal: 14.9s\tremaining: 3m 1s\n",
      "380:\tlearn: 0.4871447\ttest: 0.4933640\tbest: 0.4933551 (374)\ttotal: 14.9s\tremaining: 3m 1s\n",
      "381:\tlearn: 0.4871372\ttest: 0.4933662\tbest: 0.4933551 (374)\ttotal: 15s\tremaining: 3m 1s\n",
      "382:\tlearn: 0.4871263\ttest: 0.4933667\tbest: 0.4933551 (374)\ttotal: 15s\tremaining: 3m 1s\n",
      "383:\tlearn: 0.4871134\ttest: 0.4933598\tbest: 0.4933551 (374)\ttotal: 15.1s\tremaining: 3m 1s\n",
      "384:\tlearn: 0.4871066\ttest: 0.4933610\tbest: 0.4933551 (374)\ttotal: 15.1s\tremaining: 3m\n",
      "385:\tlearn: 0.4870963\ttest: 0.4933620\tbest: 0.4933551 (374)\ttotal: 15.1s\tremaining: 3m\n",
      "386:\tlearn: 0.4870851\ttest: 0.4933626\tbest: 0.4933551 (374)\ttotal: 15.2s\tremaining: 3m\n",
      "387:\tlearn: 0.4870719\ttest: 0.4933500\tbest: 0.4933500 (387)\ttotal: 15.2s\tremaining: 3m\n",
      "388:\tlearn: 0.4870550\ttest: 0.4933579\tbest: 0.4933500 (387)\ttotal: 15.3s\tremaining: 3m\n",
      "389:\tlearn: 0.4870453\ttest: 0.4933601\tbest: 0.4933500 (387)\ttotal: 15.3s\tremaining: 3m\n",
      "390:\tlearn: 0.4870402\ttest: 0.4933622\tbest: 0.4933500 (387)\ttotal: 15.3s\tremaining: 3m\n",
      "391:\tlearn: 0.4870370\ttest: 0.4933619\tbest: 0.4933500 (387)\ttotal: 15.4s\tremaining: 3m\n",
      "392:\tlearn: 0.4870285\ttest: 0.4933634\tbest: 0.4933500 (387)\ttotal: 15.4s\tremaining: 3m\n",
      "393:\tlearn: 0.4870191\ttest: 0.4933646\tbest: 0.4933500 (387)\ttotal: 15.5s\tremaining: 3m\n",
      "394:\tlearn: 0.4870157\ttest: 0.4933654\tbest: 0.4933500 (387)\ttotal: 15.5s\tremaining: 3m\n",
      "395:\tlearn: 0.4870110\ttest: 0.4933645\tbest: 0.4933500 (387)\ttotal: 15.5s\tremaining: 3m\n",
      "396:\tlearn: 0.4870011\ttest: 0.4933645\tbest: 0.4933500 (387)\ttotal: 15.6s\tremaining: 3m\n",
      "397:\tlearn: 0.4869898\ttest: 0.4933573\tbest: 0.4933500 (387)\ttotal: 15.6s\tremaining: 3m\n",
      "398:\tlearn: 0.4869836\ttest: 0.4933593\tbest: 0.4933500 (387)\ttotal: 15.7s\tremaining: 3m\n",
      "399:\tlearn: 0.4869803\ttest: 0.4933578\tbest: 0.4933500 (387)\ttotal: 15.7s\tremaining: 3m\n",
      "400:\tlearn: 0.4869768\ttest: 0.4933579\tbest: 0.4933500 (387)\ttotal: 15.8s\tremaining: 3m\n",
      "401:\tlearn: 0.4869728\ttest: 0.4933571\tbest: 0.4933500 (387)\ttotal: 15.8s\tremaining: 3m\n",
      "402:\tlearn: 0.4869688\ttest: 0.4933567\tbest: 0.4933500 (387)\ttotal: 15.8s\tremaining: 3m\n",
      "403:\tlearn: 0.4869682\ttest: 0.4933567\tbest: 0.4933500 (387)\ttotal: 15.9s\tremaining: 3m\n",
      "404:\tlearn: 0.4869631\ttest: 0.4933553\tbest: 0.4933500 (387)\ttotal: 15.9s\tremaining: 3m\n",
      "405:\tlearn: 0.4869606\ttest: 0.4933553\tbest: 0.4933500 (387)\ttotal: 16s\tremaining: 3m\n",
      "406:\tlearn: 0.4869600\ttest: 0.4933551\tbest: 0.4933500 (387)\ttotal: 16s\tremaining: 3m\n",
      "407:\tlearn: 0.4869576\ttest: 0.4933535\tbest: 0.4933500 (387)\ttotal: 16s\tremaining: 3m\n",
      "408:\tlearn: 0.4869548\ttest: 0.4933546\tbest: 0.4933500 (387)\ttotal: 16.1s\tremaining: 3m\n",
      "409:\tlearn: 0.4869503\ttest: 0.4933543\tbest: 0.4933500 (387)\ttotal: 16.1s\tremaining: 3m\n",
      "410:\tlearn: 0.4869448\ttest: 0.4933558\tbest: 0.4933500 (387)\ttotal: 16.2s\tremaining: 3m\n",
      "411:\tlearn: 0.4869437\ttest: 0.4933540\tbest: 0.4933500 (387)\ttotal: 16.2s\tremaining: 3m\n",
      "412:\tlearn: 0.4869370\ttest: 0.4933524\tbest: 0.4933500 (387)\ttotal: 16.2s\tremaining: 3m\n",
      "413:\tlearn: 0.4869243\ttest: 0.4933430\tbest: 0.4933430 (413)\ttotal: 16.3s\tremaining: 3m\n",
      "414:\tlearn: 0.4869180\ttest: 0.4933418\tbest: 0.4933418 (414)\ttotal: 16.3s\tremaining: 3m\n",
      "415:\tlearn: 0.4869172\ttest: 0.4933427\tbest: 0.4933418 (414)\ttotal: 16.4s\tremaining: 3m\n",
      "416:\tlearn: 0.4869143\ttest: 0.4933426\tbest: 0.4933418 (414)\ttotal: 16.4s\tremaining: 3m\n",
      "417:\tlearn: 0.4869029\ttest: 0.4933517\tbest: 0.4933418 (414)\ttotal: 16.4s\tremaining: 3m\n",
      "418:\tlearn: 0.4868940\ttest: 0.4933500\tbest: 0.4933418 (414)\ttotal: 16.5s\tremaining: 3m\n",
      "419:\tlearn: 0.4868908\ttest: 0.4933517\tbest: 0.4933418 (414)\ttotal: 16.5s\tremaining: 3m\n",
      "420:\tlearn: 0.4868881\ttest: 0.4933516\tbest: 0.4933418 (414)\ttotal: 16.6s\tremaining: 3m\n",
      "421:\tlearn: 0.4868869\ttest: 0.4933515\tbest: 0.4933418 (414)\ttotal: 16.6s\tremaining: 2m 59s\n",
      "422:\tlearn: 0.4868863\ttest: 0.4933516\tbest: 0.4933418 (414)\ttotal: 16.6s\tremaining: 2m 59s\n",
      "423:\tlearn: 0.4868840\ttest: 0.4933500\tbest: 0.4933418 (414)\ttotal: 16.7s\tremaining: 2m 59s\n",
      "424:\tlearn: 0.4868807\ttest: 0.4933496\tbest: 0.4933418 (414)\ttotal: 16.7s\tremaining: 2m 59s\n",
      "425:\tlearn: 0.4868781\ttest: 0.4933524\tbest: 0.4933418 (414)\ttotal: 16.7s\tremaining: 2m 59s\n",
      "426:\tlearn: 0.4868729\ttest: 0.4933519\tbest: 0.4933418 (414)\ttotal: 16.8s\tremaining: 2m 59s\n",
      "427:\tlearn: 0.4868630\ttest: 0.4933517\tbest: 0.4933418 (414)\ttotal: 16.8s\tremaining: 2m 59s\n",
      "428:\tlearn: 0.4868601\ttest: 0.4933515\tbest: 0.4933418 (414)\ttotal: 16.8s\tremaining: 2m 59s\n",
      "429:\tlearn: 0.4868494\ttest: 0.4933587\tbest: 0.4933418 (414)\ttotal: 16.9s\tremaining: 2m 59s\n",
      "430:\tlearn: 0.4868466\ttest: 0.4933589\tbest: 0.4933418 (414)\ttotal: 16.9s\tremaining: 2m 59s\n",
      "431:\tlearn: 0.4868447\ttest: 0.4933615\tbest: 0.4933418 (414)\ttotal: 16.9s\tremaining: 2m 59s\n",
      "432:\tlearn: 0.4868393\ttest: 0.4933592\tbest: 0.4933418 (414)\ttotal: 17s\tremaining: 2m 59s\n",
      "433:\tlearn: 0.4868342\ttest: 0.4933581\tbest: 0.4933418 (414)\ttotal: 17s\tremaining: 2m 59s\n",
      "434:\tlearn: 0.4868181\ttest: 0.4933541\tbest: 0.4933418 (414)\ttotal: 17.1s\tremaining: 2m 58s\n",
      "435:\tlearn: 0.4868137\ttest: 0.4933512\tbest: 0.4933418 (414)\ttotal: 17.1s\tremaining: 2m 58s\n",
      "436:\tlearn: 0.4868111\ttest: 0.4933497\tbest: 0.4933418 (414)\ttotal: 17.1s\tremaining: 2m 58s\n",
      "437:\tlearn: 0.4868016\ttest: 0.4933519\tbest: 0.4933418 (414)\ttotal: 17.2s\tremaining: 2m 58s\n",
      "438:\tlearn: 0.4867964\ttest: 0.4933509\tbest: 0.4933418 (414)\ttotal: 17.2s\tremaining: 2m 58s\n",
      "439:\tlearn: 0.4867825\ttest: 0.4933384\tbest: 0.4933384 (439)\ttotal: 17.2s\tremaining: 2m 58s\n",
      "440:\tlearn: 0.4867775\ttest: 0.4933399\tbest: 0.4933384 (439)\ttotal: 17.3s\tremaining: 2m 58s\n",
      "441:\tlearn: 0.4867767\ttest: 0.4933396\tbest: 0.4933384 (439)\ttotal: 17.3s\tremaining: 2m 58s\n",
      "442:\tlearn: 0.4867669\ttest: 0.4933535\tbest: 0.4933384 (439)\ttotal: 17.4s\tremaining: 2m 58s\n",
      "443:\tlearn: 0.4867556\ttest: 0.4933567\tbest: 0.4933384 (439)\ttotal: 17.4s\tremaining: 2m 58s\n",
      "444:\tlearn: 0.4867530\ttest: 0.4933562\tbest: 0.4933384 (439)\ttotal: 17.4s\tremaining: 2m 58s\n",
      "445:\tlearn: 0.4867494\ttest: 0.4933549\tbest: 0.4933384 (439)\ttotal: 17.5s\tremaining: 2m 58s\n",
      "446:\tlearn: 0.4867479\ttest: 0.4933557\tbest: 0.4933384 (439)\ttotal: 17.5s\tremaining: 2m 58s\n",
      "447:\tlearn: 0.4867463\ttest: 0.4933577\tbest: 0.4933384 (439)\ttotal: 17.6s\tremaining: 2m 58s\n",
      "448:\tlearn: 0.4867354\ttest: 0.4933466\tbest: 0.4933384 (439)\ttotal: 17.6s\tremaining: 2m 58s\n",
      "449:\tlearn: 0.4867325\ttest: 0.4933469\tbest: 0.4933384 (439)\ttotal: 17.6s\tremaining: 2m 58s\n",
      "450:\tlearn: 0.4867314\ttest: 0.4933468\tbest: 0.4933384 (439)\ttotal: 17.7s\tremaining: 2m 58s\n",
      "451:\tlearn: 0.4867230\ttest: 0.4933435\tbest: 0.4933384 (439)\ttotal: 17.7s\tremaining: 2m 58s\n",
      "452:\tlearn: 0.4866985\ttest: 0.4933392\tbest: 0.4933384 (439)\ttotal: 17.7s\tremaining: 2m 58s\n",
      "453:\tlearn: 0.4866914\ttest: 0.4933332\tbest: 0.4933332 (453)\ttotal: 17.8s\tremaining: 2m 58s\n",
      "454:\tlearn: 0.4866900\ttest: 0.4933318\tbest: 0.4933318 (454)\ttotal: 17.8s\tremaining: 2m 58s\n",
      "455:\tlearn: 0.4866823\ttest: 0.4933302\tbest: 0.4933302 (455)\ttotal: 17.9s\tremaining: 2m 58s\n",
      "456:\tlearn: 0.4866735\ttest: 0.4933284\tbest: 0.4933284 (456)\ttotal: 17.9s\tremaining: 2m 58s\n",
      "457:\tlearn: 0.4866682\ttest: 0.4933246\tbest: 0.4933246 (457)\ttotal: 18s\tremaining: 2m 58s\n",
      "458:\tlearn: 0.4866663\ttest: 0.4933226\tbest: 0.4933226 (458)\ttotal: 18s\tremaining: 2m 58s\n",
      "459:\tlearn: 0.4866614\ttest: 0.4933237\tbest: 0.4933226 (458)\ttotal: 18s\tremaining: 2m 57s\n",
      "460:\tlearn: 0.4866606\ttest: 0.4933241\tbest: 0.4933226 (458)\ttotal: 18.1s\tremaining: 2m 57s\n",
      "461:\tlearn: 0.4866592\ttest: 0.4933257\tbest: 0.4933226 (458)\ttotal: 18.1s\tremaining: 2m 57s\n",
      "462:\tlearn: 0.4866582\ttest: 0.4933269\tbest: 0.4933226 (458)\ttotal: 18.2s\tremaining: 2m 57s\n",
      "463:\tlearn: 0.4866549\ttest: 0.4933262\tbest: 0.4933226 (458)\ttotal: 18.2s\tremaining: 2m 57s\n",
      "464:\tlearn: 0.4866498\ttest: 0.4933262\tbest: 0.4933226 (458)\ttotal: 18.2s\tremaining: 2m 57s\n",
      "465:\tlearn: 0.4866486\ttest: 0.4933249\tbest: 0.4933226 (458)\ttotal: 18.3s\tremaining: 2m 57s\n",
      "466:\tlearn: 0.4866456\ttest: 0.4933251\tbest: 0.4933226 (458)\ttotal: 18.3s\tremaining: 2m 57s\n",
      "467:\tlearn: 0.4866350\ttest: 0.4933187\tbest: 0.4933187 (467)\ttotal: 18.4s\tremaining: 2m 57s\n",
      "468:\tlearn: 0.4866300\ttest: 0.4933195\tbest: 0.4933187 (467)\ttotal: 18.4s\tremaining: 2m 57s\n",
      "469:\tlearn: 0.4866300\ttest: 0.4933195\tbest: 0.4933187 (467)\ttotal: 18.4s\tremaining: 2m 57s\n",
      "470:\tlearn: 0.4866263\ttest: 0.4933187\tbest: 0.4933187 (470)\ttotal: 18.4s\tremaining: 2m 57s\n",
      "471:\tlearn: 0.4866245\ttest: 0.4933189\tbest: 0.4933187 (470)\ttotal: 18.5s\tremaining: 2m 57s\n",
      "472:\tlearn: 0.4866176\ttest: 0.4933196\tbest: 0.4933187 (470)\ttotal: 18.5s\tremaining: 2m 57s\n",
      "473:\tlearn: 0.4866085\ttest: 0.4933205\tbest: 0.4933187 (470)\ttotal: 18.6s\tremaining: 2m 57s\n",
      "474:\tlearn: 0.4866054\ttest: 0.4933221\tbest: 0.4933187 (470)\ttotal: 18.6s\tremaining: 2m 57s\n",
      "475:\tlearn: 0.4865999\ttest: 0.4933182\tbest: 0.4933182 (475)\ttotal: 18.6s\tremaining: 2m 57s\n",
      "476:\tlearn: 0.4865954\ttest: 0.4933179\tbest: 0.4933179 (476)\ttotal: 18.7s\tremaining: 2m 57s\n",
      "477:\tlearn: 0.4865902\ttest: 0.4933189\tbest: 0.4933179 (476)\ttotal: 18.7s\tremaining: 2m 57s\n",
      "478:\tlearn: 0.4865774\ttest: 0.4933219\tbest: 0.4933179 (476)\ttotal: 18.8s\tremaining: 2m 57s\n",
      "479:\tlearn: 0.4865760\ttest: 0.4933219\tbest: 0.4933179 (476)\ttotal: 18.8s\tremaining: 2m 57s\n",
      "480:\tlearn: 0.4865741\ttest: 0.4933202\tbest: 0.4933179 (476)\ttotal: 18.9s\tremaining: 2m 57s\n",
      "481:\tlearn: 0.4865677\ttest: 0.4933210\tbest: 0.4933179 (476)\ttotal: 18.9s\tremaining: 2m 57s\n",
      "482:\tlearn: 0.4865626\ttest: 0.4933203\tbest: 0.4933179 (476)\ttotal: 18.9s\tremaining: 2m 57s\n",
      "483:\tlearn: 0.4865562\ttest: 0.4933207\tbest: 0.4933179 (476)\ttotal: 19s\tremaining: 2m 57s\n",
      "484:\tlearn: 0.4865534\ttest: 0.4933206\tbest: 0.4933179 (476)\ttotal: 19s\tremaining: 2m 57s\n",
      "485:\tlearn: 0.4865446\ttest: 0.4933175\tbest: 0.4933175 (485)\ttotal: 19.1s\tremaining: 2m 56s\n",
      "486:\tlearn: 0.4865314\ttest: 0.4933150\tbest: 0.4933150 (486)\ttotal: 19.1s\tremaining: 2m 56s\n",
      "487:\tlearn: 0.4865285\ttest: 0.4933150\tbest: 0.4933150 (486)\ttotal: 19.1s\tremaining: 2m 56s\n",
      "488:\tlearn: 0.4865278\ttest: 0.4933143\tbest: 0.4933143 (488)\ttotal: 19.2s\tremaining: 2m 56s\n",
      "489:\tlearn: 0.4865210\ttest: 0.4933158\tbest: 0.4933143 (488)\ttotal: 19.2s\tremaining: 2m 56s\n",
      "490:\tlearn: 0.4865143\ttest: 0.4933174\tbest: 0.4933143 (488)\ttotal: 19.2s\tremaining: 2m 56s\n",
      "491:\tlearn: 0.4865115\ttest: 0.4933193\tbest: 0.4933143 (488)\ttotal: 19.3s\tremaining: 2m 56s\n",
      "492:\tlearn: 0.4865059\ttest: 0.4933190\tbest: 0.4933143 (488)\ttotal: 19.3s\tremaining: 2m 56s\n",
      "493:\tlearn: 0.4864995\ttest: 0.4933176\tbest: 0.4933143 (488)\ttotal: 19.4s\tremaining: 2m 56s\n",
      "494:\tlearn: 0.4864945\ttest: 0.4933229\tbest: 0.4933143 (488)\ttotal: 19.4s\tremaining: 2m 56s\n",
      "495:\tlearn: 0.4864922\ttest: 0.4933245\tbest: 0.4933143 (488)\ttotal: 19.4s\tremaining: 2m 56s\n",
      "496:\tlearn: 0.4864858\ttest: 0.4933243\tbest: 0.4933143 (488)\ttotal: 19.5s\tremaining: 2m 56s\n",
      "497:\tlearn: 0.4864761\ttest: 0.4933277\tbest: 0.4933143 (488)\ttotal: 19.5s\tremaining: 2m 56s\n",
      "498:\tlearn: 0.4864739\ttest: 0.4933292\tbest: 0.4933143 (488)\ttotal: 19.6s\tremaining: 2m 56s\n",
      "499:\tlearn: 0.4864683\ttest: 0.4933271\tbest: 0.4933143 (488)\ttotal: 19.6s\tremaining: 2m 56s\n",
      "500:\tlearn: 0.4864571\ttest: 0.4933271\tbest: 0.4933143 (488)\ttotal: 19.6s\tremaining: 2m 56s\n",
      "501:\tlearn: 0.4864556\ttest: 0.4933264\tbest: 0.4933143 (488)\ttotal: 19.7s\tremaining: 2m 56s\n",
      "502:\tlearn: 0.4864517\ttest: 0.4933279\tbest: 0.4933143 (488)\ttotal: 19.7s\tremaining: 2m 56s\n",
      "503:\tlearn: 0.4864508\ttest: 0.4933283\tbest: 0.4933143 (488)\ttotal: 19.8s\tremaining: 2m 56s\n",
      "504:\tlearn: 0.4864462\ttest: 0.4933319\tbest: 0.4933143 (488)\ttotal: 19.8s\tremaining: 2m 56s\n",
      "505:\tlearn: 0.4864440\ttest: 0.4933319\tbest: 0.4933143 (488)\ttotal: 19.8s\tremaining: 2m 56s\n",
      "506:\tlearn: 0.4864335\ttest: 0.4933335\tbest: 0.4933143 (488)\ttotal: 19.9s\tremaining: 2m 56s\n",
      "507:\tlearn: 0.4864324\ttest: 0.4933327\tbest: 0.4933143 (488)\ttotal: 19.9s\tremaining: 2m 55s\n",
      "508:\tlearn: 0.4864251\ttest: 0.4933361\tbest: 0.4933143 (488)\ttotal: 19.9s\tremaining: 2m 55s\n",
      "509:\tlearn: 0.4864168\ttest: 0.4933354\tbest: 0.4933143 (488)\ttotal: 20s\tremaining: 2m 55s\n",
      "510:\tlearn: 0.4864135\ttest: 0.4933365\tbest: 0.4933143 (488)\ttotal: 20s\tremaining: 2m 55s\n",
      "511:\tlearn: 0.4864094\ttest: 0.4933405\tbest: 0.4933143 (488)\ttotal: 20.1s\tremaining: 2m 55s\n",
      "512:\tlearn: 0.4863984\ttest: 0.4933369\tbest: 0.4933143 (488)\ttotal: 20.1s\tremaining: 2m 55s\n",
      "513:\tlearn: 0.4863966\ttest: 0.4933336\tbest: 0.4933143 (488)\ttotal: 20.1s\tremaining: 2m 55s\n",
      "514:\tlearn: 0.4863884\ttest: 0.4933341\tbest: 0.4933143 (488)\ttotal: 20.2s\tremaining: 2m 55s\n",
      "515:\tlearn: 0.4863880\ttest: 0.4933355\tbest: 0.4933143 (488)\ttotal: 20.2s\tremaining: 2m 55s\n",
      "516:\tlearn: 0.4863876\ttest: 0.4933355\tbest: 0.4933143 (488)\ttotal: 20.3s\tremaining: 2m 55s\n",
      "517:\tlearn: 0.4863861\ttest: 0.4933359\tbest: 0.4933143 (488)\ttotal: 20.3s\tremaining: 2m 55s\n",
      "518:\tlearn: 0.4863813\ttest: 0.4933366\tbest: 0.4933143 (488)\ttotal: 20.3s\tremaining: 2m 55s\n",
      "519:\tlearn: 0.4863797\ttest: 0.4933368\tbest: 0.4933143 (488)\ttotal: 20.4s\tremaining: 2m 55s\n",
      "520:\tlearn: 0.4863752\ttest: 0.4933390\tbest: 0.4933143 (488)\ttotal: 20.4s\tremaining: 2m 55s\n",
      "521:\tlearn: 0.4863742\ttest: 0.4933390\tbest: 0.4933143 (488)\ttotal: 20.4s\tremaining: 2m 55s\n",
      "522:\tlearn: 0.4863703\ttest: 0.4933380\tbest: 0.4933143 (488)\ttotal: 20.5s\tremaining: 2m 55s\n",
      "523:\tlearn: 0.4863669\ttest: 0.4933365\tbest: 0.4933143 (488)\ttotal: 20.5s\tremaining: 2m 55s\n",
      "524:\tlearn: 0.4863596\ttest: 0.4933438\tbest: 0.4933143 (488)\ttotal: 20.6s\tremaining: 2m 55s\n",
      "525:\tlearn: 0.4863462\ttest: 0.4933379\tbest: 0.4933143 (488)\ttotal: 20.6s\tremaining: 2m 55s\n",
      "526:\tlearn: 0.4863447\ttest: 0.4933379\tbest: 0.4933143 (488)\ttotal: 20.7s\tremaining: 2m 55s\n",
      "527:\tlearn: 0.4863442\ttest: 0.4933378\tbest: 0.4933143 (488)\ttotal: 20.7s\tremaining: 2m 55s\n",
      "528:\tlearn: 0.4863383\ttest: 0.4933351\tbest: 0.4933143 (488)\ttotal: 20.7s\tremaining: 2m 55s\n",
      "529:\tlearn: 0.4863316\ttest: 0.4933313\tbest: 0.4933143 (488)\ttotal: 20.8s\tremaining: 2m 55s\n",
      "530:\tlearn: 0.4863257\ttest: 0.4933338\tbest: 0.4933143 (488)\ttotal: 20.8s\tremaining: 2m 55s\n",
      "531:\tlearn: 0.4863241\ttest: 0.4933338\tbest: 0.4933143 (488)\ttotal: 20.8s\tremaining: 2m 55s\n",
      "532:\tlearn: 0.4863223\ttest: 0.4933310\tbest: 0.4933143 (488)\ttotal: 20.9s\tremaining: 2m 54s\n",
      "533:\tlearn: 0.4863194\ttest: 0.4933301\tbest: 0.4933143 (488)\ttotal: 20.9s\tremaining: 2m 54s\n",
      "534:\tlearn: 0.4863140\ttest: 0.4933296\tbest: 0.4933143 (488)\ttotal: 21s\tremaining: 2m 54s\n",
      "535:\tlearn: 0.4863114\ttest: 0.4933302\tbest: 0.4933143 (488)\ttotal: 21s\tremaining: 2m 54s\n",
      "536:\tlearn: 0.4863089\ttest: 0.4933317\tbest: 0.4933143 (488)\ttotal: 21s\tremaining: 2m 54s\n",
      "537:\tlearn: 0.4863039\ttest: 0.4933315\tbest: 0.4933143 (488)\ttotal: 21.1s\tremaining: 2m 54s\n",
      "538:\tlearn: 0.4863008\ttest: 0.4933343\tbest: 0.4933143 (488)\ttotal: 21.1s\tremaining: 2m 54s\n",
      "539:\tlearn: 0.4862915\ttest: 0.4933327\tbest: 0.4933143 (488)\ttotal: 21.2s\tremaining: 2m 54s\n",
      "540:\tlearn: 0.4862879\ttest: 0.4933327\tbest: 0.4933143 (488)\ttotal: 21.2s\tremaining: 2m 54s\n",
      "541:\tlearn: 0.4862842\ttest: 0.4933309\tbest: 0.4933143 (488)\ttotal: 21.2s\tremaining: 2m 54s\n",
      "542:\tlearn: 0.4862812\ttest: 0.4933304\tbest: 0.4933143 (488)\ttotal: 21.3s\tremaining: 2m 54s\n",
      "543:\tlearn: 0.4862758\ttest: 0.4933303\tbest: 0.4933143 (488)\ttotal: 21.3s\tremaining: 2m 54s\n",
      "544:\tlearn: 0.4862660\ttest: 0.4933295\tbest: 0.4933143 (488)\ttotal: 21.4s\tremaining: 2m 54s\n",
      "545:\tlearn: 0.4862650\ttest: 0.4933296\tbest: 0.4933143 (488)\ttotal: 21.4s\tremaining: 2m 54s\n",
      "546:\tlearn: 0.4862615\ttest: 0.4933302\tbest: 0.4933143 (488)\ttotal: 21.4s\tremaining: 2m 54s\n",
      "547:\tlearn: 0.4862603\ttest: 0.4933325\tbest: 0.4933143 (488)\ttotal: 21.5s\tremaining: 2m 54s\n",
      "548:\tlearn: 0.4862575\ttest: 0.4933317\tbest: 0.4933143 (488)\ttotal: 21.5s\tremaining: 2m 54s\n",
      "549:\tlearn: 0.4862537\ttest: 0.4933311\tbest: 0.4933143 (488)\ttotal: 21.5s\tremaining: 2m 54s\n",
      "550:\tlearn: 0.4862459\ttest: 0.4933315\tbest: 0.4933143 (488)\ttotal: 21.6s\tremaining: 2m 54s\n",
      "551:\tlearn: 0.4862370\ttest: 0.4933249\tbest: 0.4933143 (488)\ttotal: 21.6s\tremaining: 2m 54s\n",
      "552:\tlearn: 0.4862308\ttest: 0.4933235\tbest: 0.4933143 (488)\ttotal: 21.7s\tremaining: 2m 54s\n",
      "553:\tlearn: 0.4862280\ttest: 0.4933258\tbest: 0.4933143 (488)\ttotal: 21.7s\tremaining: 2m 54s\n",
      "554:\tlearn: 0.4862236\ttest: 0.4933229\tbest: 0.4933143 (488)\ttotal: 21.8s\tremaining: 2m 54s\n",
      "555:\tlearn: 0.4862101\ttest: 0.4933237\tbest: 0.4933143 (488)\ttotal: 21.8s\tremaining: 2m 54s\n",
      "556:\tlearn: 0.4862057\ttest: 0.4933247\tbest: 0.4933143 (488)\ttotal: 21.8s\tremaining: 2m 54s\n",
      "557:\tlearn: 0.4861994\ttest: 0.4933277\tbest: 0.4933143 (488)\ttotal: 21.9s\tremaining: 2m 54s\n",
      "558:\tlearn: 0.4861914\ttest: 0.4933286\tbest: 0.4933143 (488)\ttotal: 21.9s\tremaining: 2m 54s\n",
      "559:\tlearn: 0.4861899\ttest: 0.4933289\tbest: 0.4933143 (488)\ttotal: 21.9s\tremaining: 2m 54s\n",
      "560:\tlearn: 0.4861862\ttest: 0.4933285\tbest: 0.4933143 (488)\ttotal: 22s\tremaining: 2m 53s\n",
      "561:\tlearn: 0.4861793\ttest: 0.4933281\tbest: 0.4933143 (488)\ttotal: 22s\tremaining: 2m 53s\n",
      "562:\tlearn: 0.4861784\ttest: 0.4933290\tbest: 0.4933143 (488)\ttotal: 22.1s\tremaining: 2m 53s\n",
      "563:\tlearn: 0.4861760\ttest: 0.4933288\tbest: 0.4933143 (488)\ttotal: 22.1s\tremaining: 2m 53s\n",
      "564:\tlearn: 0.4861608\ttest: 0.4933288\tbest: 0.4933143 (488)\ttotal: 22.1s\tremaining: 2m 53s\n",
      "565:\tlearn: 0.4861564\ttest: 0.4933249\tbest: 0.4933143 (488)\ttotal: 22.2s\tremaining: 2m 53s\n",
      "566:\tlearn: 0.4861522\ttest: 0.4933202\tbest: 0.4933143 (488)\ttotal: 22.2s\tremaining: 2m 53s\n",
      "567:\tlearn: 0.4861503\ttest: 0.4933189\tbest: 0.4933143 (488)\ttotal: 22.3s\tremaining: 2m 53s\n",
      "568:\tlearn: 0.4861418\ttest: 0.4933231\tbest: 0.4933143 (488)\ttotal: 22.3s\tremaining: 2m 53s\n",
      "569:\tlearn: 0.4861367\ttest: 0.4933243\tbest: 0.4933143 (488)\ttotal: 22.3s\tremaining: 2m 53s\n",
      "570:\tlearn: 0.4861338\ttest: 0.4933261\tbest: 0.4933143 (488)\ttotal: 22.4s\tremaining: 2m 53s\n",
      "571:\tlearn: 0.4861332\ttest: 0.4933261\tbest: 0.4933143 (488)\ttotal: 22.4s\tremaining: 2m 53s\n",
      "572:\tlearn: 0.4861154\ttest: 0.4933133\tbest: 0.4933133 (572)\ttotal: 22.5s\tremaining: 2m 53s\n",
      "573:\tlearn: 0.4861131\ttest: 0.4933124\tbest: 0.4933124 (573)\ttotal: 22.5s\tremaining: 2m 53s\n",
      "574:\tlearn: 0.4861029\ttest: 0.4933091\tbest: 0.4933091 (574)\ttotal: 22.5s\tremaining: 2m 53s\n",
      "575:\tlearn: 0.4860963\ttest: 0.4933090\tbest: 0.4933090 (575)\ttotal: 22.6s\tremaining: 2m 53s\n",
      "576:\tlearn: 0.4860908\ttest: 0.4933091\tbest: 0.4933090 (575)\ttotal: 22.6s\tremaining: 2m 53s\n",
      "577:\tlearn: 0.4860883\ttest: 0.4933107\tbest: 0.4933090 (575)\ttotal: 22.6s\tremaining: 2m 53s\n",
      "578:\tlearn: 0.4860707\ttest: 0.4932998\tbest: 0.4932998 (578)\ttotal: 22.7s\tremaining: 2m 53s\n",
      "579:\tlearn: 0.4860682\ttest: 0.4933004\tbest: 0.4932998 (578)\ttotal: 22.7s\tremaining: 2m 53s\n",
      "580:\tlearn: 0.4860645\ttest: 0.4933002\tbest: 0.4932998 (578)\ttotal: 22.8s\tremaining: 2m 53s\n",
      "581:\tlearn: 0.4860592\ttest: 0.4933061\tbest: 0.4932998 (578)\ttotal: 22.8s\tremaining: 2m 53s\n",
      "582:\tlearn: 0.4860526\ttest: 0.4933067\tbest: 0.4932998 (578)\ttotal: 22.8s\tremaining: 2m 53s\n",
      "583:\tlearn: 0.4860469\ttest: 0.4933057\tbest: 0.4932998 (578)\ttotal: 22.9s\tremaining: 2m 53s\n",
      "584:\tlearn: 0.4860453\ttest: 0.4933071\tbest: 0.4932998 (578)\ttotal: 22.9s\tremaining: 2m 53s\n",
      "585:\tlearn: 0.4860429\ttest: 0.4933040\tbest: 0.4932998 (578)\ttotal: 23s\tremaining: 2m 53s\n",
      "586:\tlearn: 0.4860384\ttest: 0.4933032\tbest: 0.4932998 (578)\ttotal: 23s\tremaining: 2m 53s\n",
      "587:\tlearn: 0.4860348\ttest: 0.4933024\tbest: 0.4932998 (578)\ttotal: 23.1s\tremaining: 2m 53s\n",
      "588:\tlearn: 0.4860281\ttest: 0.4933038\tbest: 0.4932998 (578)\ttotal: 23.1s\tremaining: 2m 52s\n",
      "589:\tlearn: 0.4860265\ttest: 0.4933037\tbest: 0.4932998 (578)\ttotal: 23.1s\tremaining: 2m 52s\n",
      "590:\tlearn: 0.4860239\ttest: 0.4933038\tbest: 0.4932998 (578)\ttotal: 23.2s\tremaining: 2m 52s\n",
      "591:\tlearn: 0.4860168\ttest: 0.4933065\tbest: 0.4932998 (578)\ttotal: 23.2s\tremaining: 2m 52s\n",
      "592:\tlearn: 0.4860129\ttest: 0.4933062\tbest: 0.4932998 (578)\ttotal: 23.2s\tremaining: 2m 52s\n",
      "593:\tlearn: 0.4860057\ttest: 0.4933069\tbest: 0.4932998 (578)\ttotal: 23.3s\tremaining: 2m 52s\n",
      "594:\tlearn: 0.4860001\ttest: 0.4933062\tbest: 0.4932998 (578)\ttotal: 23.3s\tremaining: 2m 52s\n",
      "595:\tlearn: 0.4859857\ttest: 0.4933089\tbest: 0.4932998 (578)\ttotal: 23.4s\tremaining: 2m 52s\n",
      "596:\tlearn: 0.4859764\ttest: 0.4933103\tbest: 0.4932998 (578)\ttotal: 23.4s\tremaining: 2m 52s\n",
      "597:\tlearn: 0.4859755\ttest: 0.4933101\tbest: 0.4932998 (578)\ttotal: 23.4s\tremaining: 2m 52s\n",
      "598:\tlearn: 0.4859743\ttest: 0.4933120\tbest: 0.4932998 (578)\ttotal: 23.5s\tremaining: 2m 52s\n",
      "599:\tlearn: 0.4859730\ttest: 0.4933133\tbest: 0.4932998 (578)\ttotal: 23.5s\tremaining: 2m 52s\n",
      "600:\tlearn: 0.4859673\ttest: 0.4933125\tbest: 0.4932998 (578)\ttotal: 23.6s\tremaining: 2m 52s\n",
      "601:\tlearn: 0.4859622\ttest: 0.4933088\tbest: 0.4932998 (578)\ttotal: 23.6s\tremaining: 2m 52s\n",
      "602:\tlearn: 0.4859574\ttest: 0.4933085\tbest: 0.4932998 (578)\ttotal: 23.6s\tremaining: 2m 52s\n",
      "603:\tlearn: 0.4859568\ttest: 0.4933081\tbest: 0.4932998 (578)\ttotal: 23.7s\tremaining: 2m 52s\n",
      "604:\tlearn: 0.4859545\ttest: 0.4933083\tbest: 0.4932998 (578)\ttotal: 23.7s\tremaining: 2m 52s\n",
      "605:\tlearn: 0.4859523\ttest: 0.4933084\tbest: 0.4932998 (578)\ttotal: 23.8s\tremaining: 2m 52s\n",
      "606:\tlearn: 0.4859463\ttest: 0.4933052\tbest: 0.4932998 (578)\ttotal: 23.8s\tremaining: 2m 52s\n",
      "607:\tlearn: 0.4859320\ttest: 0.4933046\tbest: 0.4932998 (578)\ttotal: 23.8s\tremaining: 2m 52s\n",
      "608:\tlearn: 0.4859265\ttest: 0.4933041\tbest: 0.4932998 (578)\ttotal: 23.9s\tremaining: 2m 52s\n",
      "609:\tlearn: 0.4859219\ttest: 0.4933046\tbest: 0.4932998 (578)\ttotal: 23.9s\tremaining: 2m 52s\n",
      "610:\tlearn: 0.4859173\ttest: 0.4933074\tbest: 0.4932998 (578)\ttotal: 24s\tremaining: 2m 52s\n",
      "611:\tlearn: 0.4859127\ttest: 0.4933083\tbest: 0.4932998 (578)\ttotal: 24s\tremaining: 2m 52s\n",
      "612:\tlearn: 0.4859102\ttest: 0.4933073\tbest: 0.4932998 (578)\ttotal: 24s\tremaining: 2m 52s\n",
      "613:\tlearn: 0.4859055\ttest: 0.4933073\tbest: 0.4932998 (578)\ttotal: 24.1s\tremaining: 2m 52s\n",
      "614:\tlearn: 0.4858981\ttest: 0.4933096\tbest: 0.4932998 (578)\ttotal: 24.1s\tremaining: 2m 52s\n",
      "615:\tlearn: 0.4858946\ttest: 0.4933136\tbest: 0.4932998 (578)\ttotal: 24.2s\tremaining: 2m 51s\n",
      "616:\tlearn: 0.4858927\ttest: 0.4933124\tbest: 0.4932998 (578)\ttotal: 24.2s\tremaining: 2m 51s\n",
      "617:\tlearn: 0.4858895\ttest: 0.4933117\tbest: 0.4932998 (578)\ttotal: 24.2s\tremaining: 2m 51s\n",
      "618:\tlearn: 0.4858891\ttest: 0.4933119\tbest: 0.4932998 (578)\ttotal: 24.3s\tremaining: 2m 51s\n",
      "619:\tlearn: 0.4858862\ttest: 0.4933112\tbest: 0.4932998 (578)\ttotal: 24.3s\tremaining: 2m 51s\n",
      "620:\tlearn: 0.4858811\ttest: 0.4933108\tbest: 0.4932998 (578)\ttotal: 24.4s\tremaining: 2m 51s\n",
      "621:\tlearn: 0.4858799\ttest: 0.4933105\tbest: 0.4932998 (578)\ttotal: 24.4s\tremaining: 2m 51s\n",
      "622:\tlearn: 0.4858760\ttest: 0.4933109\tbest: 0.4932998 (578)\ttotal: 24.4s\tremaining: 2m 51s\n",
      "623:\tlearn: 0.4858698\ttest: 0.4933117\tbest: 0.4932998 (578)\ttotal: 24.5s\tremaining: 2m 51s\n",
      "624:\tlearn: 0.4858667\ttest: 0.4933112\tbest: 0.4932998 (578)\ttotal: 24.5s\tremaining: 2m 51s\n",
      "625:\tlearn: 0.4858641\ttest: 0.4933116\tbest: 0.4932998 (578)\ttotal: 24.6s\tremaining: 2m 51s\n",
      "626:\tlearn: 0.4858637\ttest: 0.4933114\tbest: 0.4932998 (578)\ttotal: 24.6s\tremaining: 2m 51s\n",
      "627:\tlearn: 0.4858583\ttest: 0.4933119\tbest: 0.4932998 (578)\ttotal: 24.6s\tremaining: 2m 51s\n",
      "628:\tlearn: 0.4858500\ttest: 0.4933130\tbest: 0.4932998 (578)\ttotal: 24.7s\tremaining: 2m 51s\n",
      "629:\tlearn: 0.4858416\ttest: 0.4933152\tbest: 0.4932998 (578)\ttotal: 24.7s\tremaining: 2m 51s\n",
      "630:\tlearn: 0.4858341\ttest: 0.4933048\tbest: 0.4932998 (578)\ttotal: 24.8s\tremaining: 2m 51s\n",
      "631:\tlearn: 0.4858306\ttest: 0.4933065\tbest: 0.4932998 (578)\ttotal: 24.8s\tremaining: 2m 51s\n",
      "632:\tlearn: 0.4858284\ttest: 0.4933070\tbest: 0.4932998 (578)\ttotal: 24.9s\tremaining: 2m 51s\n",
      "633:\tlearn: 0.4858205\ttest: 0.4933066\tbest: 0.4932998 (578)\ttotal: 24.9s\tremaining: 2m 51s\n",
      "634:\tlearn: 0.4858117\ttest: 0.4933061\tbest: 0.4932998 (578)\ttotal: 24.9s\tremaining: 2m 51s\n",
      "635:\tlearn: 0.4858070\ttest: 0.4933046\tbest: 0.4932998 (578)\ttotal: 25s\tremaining: 2m 51s\n",
      "636:\tlearn: 0.4858025\ttest: 0.4933035\tbest: 0.4932998 (578)\ttotal: 25s\tremaining: 2m 51s\n",
      "637:\tlearn: 0.4857997\ttest: 0.4933051\tbest: 0.4932998 (578)\ttotal: 25.1s\tremaining: 2m 51s\n",
      "638:\tlearn: 0.4857900\ttest: 0.4933079\tbest: 0.4932998 (578)\ttotal: 25.1s\tremaining: 2m 51s\n",
      "639:\tlearn: 0.4857878\ttest: 0.4933076\tbest: 0.4932998 (578)\ttotal: 25.1s\tremaining: 2m 51s\n",
      "640:\tlearn: 0.4857818\ttest: 0.4933079\tbest: 0.4932998 (578)\ttotal: 25.2s\tremaining: 2m 51s\n",
      "641:\tlearn: 0.4857799\ttest: 0.4933063\tbest: 0.4932998 (578)\ttotal: 25.2s\tremaining: 2m 51s\n",
      "642:\tlearn: 0.4857778\ttest: 0.4933049\tbest: 0.4932998 (578)\ttotal: 25.3s\tremaining: 2m 51s\n",
      "643:\tlearn: 0.4857725\ttest: 0.4933087\tbest: 0.4932998 (578)\ttotal: 25.3s\tremaining: 2m 51s\n",
      "644:\tlearn: 0.4857691\ttest: 0.4933078\tbest: 0.4932998 (578)\ttotal: 25.4s\tremaining: 2m 51s\n",
      "645:\tlearn: 0.4857633\ttest: 0.4933064\tbest: 0.4932998 (578)\ttotal: 25.4s\tremaining: 2m 51s\n",
      "646:\tlearn: 0.4857594\ttest: 0.4933120\tbest: 0.4932998 (578)\ttotal: 25.4s\tremaining: 2m 51s\n",
      "647:\tlearn: 0.4857585\ttest: 0.4933115\tbest: 0.4932998 (578)\ttotal: 25.5s\tremaining: 2m 51s\n",
      "648:\tlearn: 0.4857578\ttest: 0.4933120\tbest: 0.4932998 (578)\ttotal: 25.5s\tremaining: 2m 51s\n",
      "649:\tlearn: 0.4857543\ttest: 0.4933120\tbest: 0.4932998 (578)\ttotal: 25.5s\tremaining: 2m 50s\n",
      "650:\tlearn: 0.4857492\ttest: 0.4933112\tbest: 0.4932998 (578)\ttotal: 25.6s\tremaining: 2m 50s\n",
      "651:\tlearn: 0.4857465\ttest: 0.4933109\tbest: 0.4932998 (578)\ttotal: 25.6s\tremaining: 2m 50s\n",
      "652:\tlearn: 0.4857422\ttest: 0.4933109\tbest: 0.4932998 (578)\ttotal: 25.7s\tremaining: 2m 50s\n",
      "653:\tlearn: 0.4857403\ttest: 0.4933118\tbest: 0.4932998 (578)\ttotal: 25.7s\tremaining: 2m 50s\n",
      "654:\tlearn: 0.4857399\ttest: 0.4933119\tbest: 0.4932998 (578)\ttotal: 25.7s\tremaining: 2m 50s\n",
      "655:\tlearn: 0.4857322\ttest: 0.4933080\tbest: 0.4932998 (578)\ttotal: 25.8s\tremaining: 2m 50s\n",
      "656:\tlearn: 0.4857297\ttest: 0.4933080\tbest: 0.4932998 (578)\ttotal: 25.8s\tremaining: 2m 50s\n",
      "657:\tlearn: 0.4857245\ttest: 0.4933067\tbest: 0.4932998 (578)\ttotal: 25.8s\tremaining: 2m 50s\n",
      "658:\tlearn: 0.4857200\ttest: 0.4933042\tbest: 0.4932998 (578)\ttotal: 25.9s\tremaining: 2m 50s\n",
      "659:\tlearn: 0.4857180\ttest: 0.4933026\tbest: 0.4932998 (578)\ttotal: 25.9s\tremaining: 2m 50s\n",
      "660:\tlearn: 0.4857133\ttest: 0.4933008\tbest: 0.4932998 (578)\ttotal: 26s\tremaining: 2m 50s\n",
      "661:\tlearn: 0.4857125\ttest: 0.4932993\tbest: 0.4932993 (661)\ttotal: 26s\tremaining: 2m 50s\n",
      "662:\tlearn: 0.4857101\ttest: 0.4932995\tbest: 0.4932993 (661)\ttotal: 26.1s\tremaining: 2m 50s\n",
      "663:\tlearn: 0.4857014\ttest: 0.4932979\tbest: 0.4932979 (663)\ttotal: 26.1s\tremaining: 2m 50s\n",
      "664:\tlearn: 0.4856962\ttest: 0.4933014\tbest: 0.4932979 (663)\ttotal: 26.1s\tremaining: 2m 50s\n",
      "665:\tlearn: 0.4856910\ttest: 0.4933015\tbest: 0.4932979 (663)\ttotal: 26.2s\tremaining: 2m 50s\n",
      "666:\tlearn: 0.4856887\ttest: 0.4933013\tbest: 0.4932979 (663)\ttotal: 26.2s\tremaining: 2m 50s\n",
      "667:\tlearn: 0.4856864\ttest: 0.4932985\tbest: 0.4932979 (663)\ttotal: 26.2s\tremaining: 2m 50s\n",
      "668:\tlearn: 0.4856818\ttest: 0.4932971\tbest: 0.4932971 (668)\ttotal: 26.3s\tremaining: 2m 50s\n",
      "669:\tlearn: 0.4856803\ttest: 0.4932975\tbest: 0.4932971 (668)\ttotal: 26.3s\tremaining: 2m 50s\n",
      "670:\tlearn: 0.4856763\ttest: 0.4933036\tbest: 0.4932971 (668)\ttotal: 26.4s\tremaining: 2m 50s\n",
      "671:\tlearn: 0.4856720\ttest: 0.4933048\tbest: 0.4932971 (668)\ttotal: 26.4s\tremaining: 2m 50s\n",
      "672:\tlearn: 0.4856690\ttest: 0.4933051\tbest: 0.4932971 (668)\ttotal: 26.4s\tremaining: 2m 49s\n",
      "673:\tlearn: 0.4856591\ttest: 0.4933135\tbest: 0.4932971 (668)\ttotal: 26.5s\tremaining: 2m 49s\n",
      "674:\tlearn: 0.4856476\ttest: 0.4933144\tbest: 0.4932971 (668)\ttotal: 26.5s\tremaining: 2m 49s\n",
      "675:\tlearn: 0.4856431\ttest: 0.4933141\tbest: 0.4932971 (668)\ttotal: 26.6s\tremaining: 2m 49s\n",
      "676:\tlearn: 0.4856394\ttest: 0.4933180\tbest: 0.4932971 (668)\ttotal: 26.6s\tremaining: 2m 49s\n",
      "677:\tlearn: 0.4856384\ttest: 0.4933182\tbest: 0.4932971 (668)\ttotal: 26.6s\tremaining: 2m 49s\n",
      "678:\tlearn: 0.4856356\ttest: 0.4933175\tbest: 0.4932971 (668)\ttotal: 26.7s\tremaining: 2m 49s\n",
      "679:\tlearn: 0.4856333\ttest: 0.4933171\tbest: 0.4932971 (668)\ttotal: 26.7s\tremaining: 2m 49s\n",
      "680:\tlearn: 0.4856315\ttest: 0.4933169\tbest: 0.4932971 (668)\ttotal: 26.8s\tremaining: 2m 49s\n",
      "681:\tlearn: 0.4856264\ttest: 0.4933180\tbest: 0.4932971 (668)\ttotal: 26.8s\tremaining: 2m 49s\n",
      "682:\tlearn: 0.4856175\ttest: 0.4933152\tbest: 0.4932971 (668)\ttotal: 26.8s\tremaining: 2m 49s\n",
      "683:\tlearn: 0.4856120\ttest: 0.4933123\tbest: 0.4932971 (668)\ttotal: 26.9s\tremaining: 2m 49s\n",
      "684:\tlearn: 0.4856093\ttest: 0.4933121\tbest: 0.4932971 (668)\ttotal: 26.9s\tremaining: 2m 49s\n",
      "685:\tlearn: 0.4856010\ttest: 0.4933203\tbest: 0.4932971 (668)\ttotal: 27s\tremaining: 2m 49s\n",
      "686:\tlearn: 0.4855989\ttest: 0.4933216\tbest: 0.4932971 (668)\ttotal: 27s\tremaining: 2m 49s\n",
      "687:\tlearn: 0.4855918\ttest: 0.4933188\tbest: 0.4932971 (668)\ttotal: 27s\tremaining: 2m 49s\n",
      "688:\tlearn: 0.4855782\ttest: 0.4933146\tbest: 0.4932971 (668)\ttotal: 27.1s\tremaining: 2m 49s\n",
      "689:\tlearn: 0.4855749\ttest: 0.4933145\tbest: 0.4932971 (668)\ttotal: 27.1s\tremaining: 2m 49s\n",
      "690:\tlearn: 0.4855732\ttest: 0.4933120\tbest: 0.4932971 (668)\ttotal: 27.2s\tremaining: 2m 49s\n",
      "691:\tlearn: 0.4855661\ttest: 0.4933131\tbest: 0.4932971 (668)\ttotal: 27.2s\tremaining: 2m 49s\n",
      "692:\tlearn: 0.4855583\ttest: 0.4933152\tbest: 0.4932971 (668)\ttotal: 27.2s\tremaining: 2m 49s\n",
      "693:\tlearn: 0.4855555\ttest: 0.4933161\tbest: 0.4932971 (668)\ttotal: 27.3s\tremaining: 2m 49s\n",
      "694:\tlearn: 0.4855544\ttest: 0.4933159\tbest: 0.4932971 (668)\ttotal: 27.3s\tremaining: 2m 49s\n",
      "695:\tlearn: 0.4855501\ttest: 0.4933163\tbest: 0.4932971 (668)\ttotal: 27.3s\tremaining: 2m 49s\n",
      "696:\tlearn: 0.4855493\ttest: 0.4933160\tbest: 0.4932971 (668)\ttotal: 27.4s\tremaining: 2m 48s\n",
      "697:\tlearn: 0.4855391\ttest: 0.4933126\tbest: 0.4932971 (668)\ttotal: 27.4s\tremaining: 2m 48s\n",
      "698:\tlearn: 0.4855380\ttest: 0.4933115\tbest: 0.4932971 (668)\ttotal: 27.4s\tremaining: 2m 48s\n",
      "699:\tlearn: 0.4855297\ttest: 0.4933092\tbest: 0.4932971 (668)\ttotal: 27.5s\tremaining: 2m 48s\n",
      "700:\tlearn: 0.4855150\ttest: 0.4933062\tbest: 0.4932971 (668)\ttotal: 27.5s\tremaining: 2m 48s\n",
      "701:\tlearn: 0.4855149\ttest: 0.4933062\tbest: 0.4932971 (668)\ttotal: 27.6s\tremaining: 2m 48s\n",
      "702:\tlearn: 0.4855124\ttest: 0.4933063\tbest: 0.4932971 (668)\ttotal: 27.6s\tremaining: 2m 48s\n",
      "703:\tlearn: 0.4855104\ttest: 0.4933058\tbest: 0.4932971 (668)\ttotal: 27.6s\tremaining: 2m 48s\n",
      "704:\tlearn: 0.4854989\ttest: 0.4933096\tbest: 0.4932971 (668)\ttotal: 27.7s\tremaining: 2m 48s\n",
      "705:\tlearn: 0.4854897\ttest: 0.4933076\tbest: 0.4932971 (668)\ttotal: 27.7s\tremaining: 2m 48s\n",
      "706:\tlearn: 0.4854888\ttest: 0.4933084\tbest: 0.4932971 (668)\ttotal: 27.8s\tremaining: 2m 48s\n",
      "707:\tlearn: 0.4854853\ttest: 0.4933075\tbest: 0.4932971 (668)\ttotal: 27.8s\tremaining: 2m 48s\n",
      "708:\tlearn: 0.4854821\ttest: 0.4933089\tbest: 0.4932971 (668)\ttotal: 27.9s\tremaining: 2m 48s\n",
      "709:\tlearn: 0.4854798\ttest: 0.4933091\tbest: 0.4932971 (668)\ttotal: 27.9s\tremaining: 2m 48s\n",
      "710:\tlearn: 0.4854791\ttest: 0.4933102\tbest: 0.4932971 (668)\ttotal: 27.9s\tremaining: 2m 48s\n",
      "711:\tlearn: 0.4854771\ttest: 0.4933110\tbest: 0.4932971 (668)\ttotal: 28s\tremaining: 2m 48s\n",
      "712:\tlearn: 0.4854733\ttest: 0.4933131\tbest: 0.4932971 (668)\ttotal: 28s\tremaining: 2m 48s\n",
      "713:\tlearn: 0.4854718\ttest: 0.4933129\tbest: 0.4932971 (668)\ttotal: 28s\tremaining: 2m 48s\n",
      "714:\tlearn: 0.4854683\ttest: 0.4933134\tbest: 0.4932971 (668)\ttotal: 28.1s\tremaining: 2m 48s\n",
      "715:\tlearn: 0.4854660\ttest: 0.4933160\tbest: 0.4932971 (668)\ttotal: 28.1s\tremaining: 2m 48s\n",
      "716:\tlearn: 0.4854586\ttest: 0.4933136\tbest: 0.4932971 (668)\ttotal: 28.2s\tremaining: 2m 48s\n",
      "717:\tlearn: 0.4854480\ttest: 0.4933176\tbest: 0.4932971 (668)\ttotal: 28.2s\tremaining: 2m 48s\n",
      "718:\tlearn: 0.4854437\ttest: 0.4933173\tbest: 0.4932971 (668)\ttotal: 28.2s\tremaining: 2m 48s\n",
      "719:\tlearn: 0.4854377\ttest: 0.4933134\tbest: 0.4932971 (668)\ttotal: 28.3s\tremaining: 2m 48s\n",
      "720:\tlearn: 0.4854354\ttest: 0.4933132\tbest: 0.4932971 (668)\ttotal: 28.3s\tremaining: 2m 48s\n",
      "721:\tlearn: 0.4854326\ttest: 0.4933120\tbest: 0.4932971 (668)\ttotal: 28.4s\tremaining: 2m 48s\n",
      "722:\tlearn: 0.4854290\ttest: 0.4933115\tbest: 0.4932971 (668)\ttotal: 28.4s\tremaining: 2m 47s\n",
      "723:\tlearn: 0.4854185\ttest: 0.4933147\tbest: 0.4932971 (668)\ttotal: 28.4s\tremaining: 2m 47s\n",
      "724:\tlearn: 0.4854176\ttest: 0.4933127\tbest: 0.4932971 (668)\ttotal: 28.5s\tremaining: 2m 47s\n",
      "725:\tlearn: 0.4854132\ttest: 0.4933159\tbest: 0.4932971 (668)\ttotal: 28.5s\tremaining: 2m 47s\n",
      "726:\tlearn: 0.4854062\ttest: 0.4933167\tbest: 0.4932971 (668)\ttotal: 28.6s\tremaining: 2m 47s\n",
      "727:\tlearn: 0.4854032\ttest: 0.4933166\tbest: 0.4932971 (668)\ttotal: 28.6s\tremaining: 2m 47s\n",
      "728:\tlearn: 0.4853968\ttest: 0.4933171\tbest: 0.4932971 (668)\ttotal: 28.6s\tremaining: 2m 47s\n",
      "729:\tlearn: 0.4853900\ttest: 0.4933172\tbest: 0.4932971 (668)\ttotal: 28.7s\tremaining: 2m 47s\n",
      "730:\tlearn: 0.4853851\ttest: 0.4933214\tbest: 0.4932971 (668)\ttotal: 28.7s\tremaining: 2m 47s\n",
      "731:\tlearn: 0.4853788\ttest: 0.4933217\tbest: 0.4932971 (668)\ttotal: 28.8s\tremaining: 2m 47s\n",
      "732:\tlearn: 0.4853715\ttest: 0.4933219\tbest: 0.4932971 (668)\ttotal: 28.8s\tremaining: 2m 47s\n",
      "733:\tlearn: 0.4853676\ttest: 0.4933228\tbest: 0.4932971 (668)\ttotal: 28.9s\tremaining: 2m 47s\n",
      "734:\tlearn: 0.4853628\ttest: 0.4933244\tbest: 0.4932971 (668)\ttotal: 28.9s\tremaining: 2m 47s\n",
      "735:\tlearn: 0.4853555\ttest: 0.4933240\tbest: 0.4932971 (668)\ttotal: 28.9s\tremaining: 2m 47s\n",
      "736:\tlearn: 0.4853479\ttest: 0.4933241\tbest: 0.4932971 (668)\ttotal: 29s\tremaining: 2m 47s\n",
      "737:\tlearn: 0.4853448\ttest: 0.4933229\tbest: 0.4932971 (668)\ttotal: 29s\tremaining: 2m 47s\n",
      "738:\tlearn: 0.4853422\ttest: 0.4933233\tbest: 0.4932971 (668)\ttotal: 29.1s\tremaining: 2m 47s\n",
      "739:\tlearn: 0.4853348\ttest: 0.4933159\tbest: 0.4932971 (668)\ttotal: 29.1s\tremaining: 2m 47s\n",
      "740:\tlearn: 0.4853327\ttest: 0.4933161\tbest: 0.4932971 (668)\ttotal: 29.1s\tremaining: 2m 47s\n",
      "741:\tlearn: 0.4853203\ttest: 0.4933145\tbest: 0.4932971 (668)\ttotal: 29.2s\tremaining: 2m 47s\n",
      "742:\tlearn: 0.4853174\ttest: 0.4933151\tbest: 0.4932971 (668)\ttotal: 29.2s\tremaining: 2m 47s\n",
      "743:\tlearn: 0.4853172\ttest: 0.4933152\tbest: 0.4932971 (668)\ttotal: 29.3s\tremaining: 2m 47s\n",
      "744:\tlearn: 0.4853123\ttest: 0.4933147\tbest: 0.4932971 (668)\ttotal: 29.3s\tremaining: 2m 47s\n",
      "745:\tlearn: 0.4853087\ttest: 0.4933162\tbest: 0.4932971 (668)\ttotal: 29.4s\tremaining: 2m 47s\n",
      "746:\tlearn: 0.4853077\ttest: 0.4933164\tbest: 0.4932971 (668)\ttotal: 29.4s\tremaining: 2m 47s\n",
      "747:\tlearn: 0.4853060\ttest: 0.4933174\tbest: 0.4932971 (668)\ttotal: 29.5s\tremaining: 2m 47s\n",
      "748:\tlearn: 0.4852962\ttest: 0.4933124\tbest: 0.4932971 (668)\ttotal: 29.5s\tremaining: 2m 47s\n",
      "749:\tlearn: 0.4852898\ttest: 0.4933148\tbest: 0.4932971 (668)\ttotal: 29.5s\tremaining: 2m 47s\n",
      "750:\tlearn: 0.4852840\ttest: 0.4933170\tbest: 0.4932971 (668)\ttotal: 29.6s\tremaining: 2m 47s\n",
      "751:\tlearn: 0.4852771\ttest: 0.4933172\tbest: 0.4932971 (668)\ttotal: 29.6s\tremaining: 2m 47s\n",
      "752:\tlearn: 0.4852679\ttest: 0.4933123\tbest: 0.4932971 (668)\ttotal: 29.7s\tremaining: 2m 47s\n",
      "753:\tlearn: 0.4852606\ttest: 0.4933127\tbest: 0.4932971 (668)\ttotal: 29.7s\tremaining: 2m 47s\n",
      "754:\tlearn: 0.4852575\ttest: 0.4933174\tbest: 0.4932971 (668)\ttotal: 29.7s\tremaining: 2m 47s\n",
      "755:\tlearn: 0.4852561\ttest: 0.4933173\tbest: 0.4932971 (668)\ttotal: 29.8s\tremaining: 2m 47s\n",
      "756:\tlearn: 0.4852544\ttest: 0.4933179\tbest: 0.4932971 (668)\ttotal: 29.8s\tremaining: 2m 47s\n",
      "757:\tlearn: 0.4852371\ttest: 0.4933283\tbest: 0.4932971 (668)\ttotal: 29.9s\tremaining: 2m 47s\n",
      "758:\tlearn: 0.4852315\ttest: 0.4933293\tbest: 0.4932971 (668)\ttotal: 29.9s\tremaining: 2m 47s\n",
      "759:\tlearn: 0.4852257\ttest: 0.4933301\tbest: 0.4932971 (668)\ttotal: 29.9s\tremaining: 2m 46s\n",
      "760:\tlearn: 0.4852204\ttest: 0.4933305\tbest: 0.4932971 (668)\ttotal: 30s\tremaining: 2m 46s\n",
      "761:\tlearn: 0.4852117\ttest: 0.4933294\tbest: 0.4932971 (668)\ttotal: 30s\tremaining: 2m 46s\n",
      "762:\tlearn: 0.4852037\ttest: 0.4933330\tbest: 0.4932971 (668)\ttotal: 30s\tremaining: 2m 46s\n",
      "763:\tlearn: 0.4851945\ttest: 0.4933372\tbest: 0.4932971 (668)\ttotal: 30.1s\tremaining: 2m 46s\n",
      "764:\tlearn: 0.4851851\ttest: 0.4933372\tbest: 0.4932971 (668)\ttotal: 30.1s\tremaining: 2m 46s\n",
      "765:\tlearn: 0.4851811\ttest: 0.4933376\tbest: 0.4932971 (668)\ttotal: 30.2s\tremaining: 2m 46s\n",
      "766:\tlearn: 0.4851780\ttest: 0.4933372\tbest: 0.4932971 (668)\ttotal: 30.2s\tremaining: 2m 46s\n",
      "767:\tlearn: 0.4851745\ttest: 0.4933385\tbest: 0.4932971 (668)\ttotal: 30.3s\tremaining: 2m 46s\n",
      "768:\tlearn: 0.4851732\ttest: 0.4933383\tbest: 0.4932971 (668)\ttotal: 30.3s\tremaining: 2m 46s\n",
      "Stopped by overfitting detector  (100 iterations wait)\n",
      "\n",
      "bestTest = 0.4932971282\n",
      "bestIteration = 668\n",
      "\n",
      "Shrink model to first 669 iterations.\n"
     ]
    },
    {
     "data": {
      "text/plain": [
       "<catboost.core.CatBoostClassifier at 0x7facbad17f70>"
      ]
     },
     "execution_count": 115,
     "metadata": {},
     "output_type": "execute_result"
    }
   ],
   "source": [
    "cbm_classifier.fit(\n",
    "    X_train, y_train,\n",
    "    eval_set=(X_test, y_test),\n",
    "    early_stopping_rounds = 100, # to avoid overfitting,\n",
    "    cat_features = CATEGORICAL_COLS \n",
    ")"
   ]
  },
  {
   "attachments": {},
   "cell_type": "markdown",
   "metadata": {},
   "source": [
    "## 2.5.3. Model Evaluation"
   ]
  },
  {
   "attachments": {},
   "cell_type": "markdown",
   "metadata": {},
   "source": [
    "Let's make basic shapley plot to investigate feature importance"
   ]
  },
  {
   "cell_type": "code",
   "execution_count": 116,
   "metadata": {},
   "outputs": [],
   "source": [
    "explainer = shap.TreeExplainer(cbm_classifier)\n",
    "shap_values = explainer.shap_values(X_train)"
   ]
  },
  {
   "cell_type": "code",
   "execution_count": 117,
   "metadata": {},
   "outputs": [
    {
     "data": {
      "image/png": "[encoded data removed]",
      "text/plain": [
       "<Figure size 800x510 with 1 Axes>"
      ]
     },
     "metadata": {},
     "output_type": "display_data"
    }
   ],
   "source": [
    "shap.summary_plot(shap_values, X_train, show = False, color_bar = False)"
   ]
  },
  {
   "cell_type": "code",
   "execution_count": 118,
   "metadata": {},
   "outputs": [],
   "source": [
    "# predictions on test\n",
    "y_test_pred = cbm_classifier.predict_proba(X_test)"
   ]
  },
  {
   "cell_type": "code",
   "execution_count": 120,
   "metadata": {},
   "outputs": [
    {
     "name": "stdout",
     "output_type": "stream",
     "text": [
      "ROC AUC score = 0.68\n"
     ]
    }
   ],
   "source": [
    "from sklearn.metrics import roc_auc_score\n",
    "\n",
    "print(f\"ROC AUC score = {roc_auc_score(y_test, y_test_pred[:, 1]):.2f}\")"
   ]
  },
  {
   "attachments": {},
   "cell_type": "markdown",
   "metadata": {},
   "source": [
    "# TODO\n",
    "- Estimate the performance of the model on the test set using Precision@K, MRR, MAP@K: LightFM seperately, LightFM + Ranker"
   ]
  },
  {
   "cell_type": "code",
   "execution_count": 121,
   "metadata": {},
   "outputs": [],
   "source": [
    "# your code should be here"
   ]
  }
 ],
 "metadata": {
  "kernelspec": {
   "display_name": "rekko-handbook-FR-mDNY1-py3.9",
   "language": "python",
   "name": "python3"
  },
  "language_info": {
   "codemirror_mode": {
    "name": "ipython",
    "version": 3
   },
   "file_extension": ".py",
   "mimetype": "text/x-python",
   "name": "python",
   "nbconvert_exporter": "python",
   "pygments_lexer": "ipython3",
   "version": "3.9.7"
  },
  "orig_nbformat": 4,
  "vscode": {
   "interpreter": {
    "hash": "f2d007ce7c74fe41dcd6cb53c80a05eb04c24d9c4918ecd21236b3a1c808c520"
   }
  }
 },
 "nbformat": 4,
 "nbformat_minor": 2
}
