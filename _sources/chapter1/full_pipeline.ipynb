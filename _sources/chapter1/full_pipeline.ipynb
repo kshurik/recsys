{
 "cells": [
  {
   "cell_type": "markdown",
   "id": "f709865d",
   "metadata": {},
   "source": [
    "(chapter1_part7)=\n",
    "\n",
    "# Full Pipeline of the Two-level Recommender System\n",
    "\n",
    "In this chapter, we will wrap up all steps from 1.2 to 1.5:\n",
    "- Preprocess data with proper two-level validation;\n",
    "- Develop candidate generation model with implicit library;\n",
    "- Then, move to Catboost and get our reranker - second level model;\n",
    "- Finally, evaluate our models: implicit vs implicit + reranker\n",
    "\n",
    "First, let's recall what we discussed in [`Metrics & Validation`](https://rekkobook.com/chapter1/validation_metrics.html)\n",
    "In recommender systems we have special data split to validate our model - we split data by time for candidates\n",
    "and by users for reranker. Now, we move on to coding.\n",
    "\n",
    "# 0. Configuration"
   ]
  },
  {
   "cell_type": "code",
   "execution_count": 1,
   "id": "f5ca0332",
   "metadata": {},
   "outputs": [],
   "source": [
    "# KION DATA\n",
    "INTERACTIONS_PATH = 'https://drive.google.com/file/d/1MomVjEwY2tPJ845zuHeTPt1l53GX2UKd/view?usp=share_link'\n",
    "ITEMS_METADATA_PATH = 'https://drive.google.com/file/d/1XGLUhHpwr0NxU7T4vYNRyaqwSK5HU3N4/view?usp=share_link'\n",
    "USERS_DATA_PATH = 'https://drive.google.com/file/d/1MCTl6hlhFYer1BTwjzIBfdBZdDS_mK8e/view?usp=share_link'"
   ]
  },
  {
   "cell_type": "markdown",
   "id": "c98d6cc0",
   "metadata": {},
   "source": [
    "# 1. Modules and functions"
   ]
  },
  {
   "cell_type": "code",
   "execution_count": 2,
   "id": "bafd6395",
   "metadata": {},
   "outputs": [
    {
     "name": "stderr",
     "output_type": "stream",
     "text": [
      "/home/runner/.cache/pypoetry/virtualenvs/rekko-handbook-y_Nwlfrq-py3.9/lib/python3.9/site-packages/tqdm/auto.py:21: TqdmWarning: IProgress not found. Please update jupyter and ipywidgets. See https://ipywidgets.readthedocs.io/en/stable/user_install.html\n",
      "  from .autonotebook import tqdm as notebook_tqdm\n"
     ]
    },
    {
     "name": "stderr",
     "output_type": "stream",
     "text": [
      "\"is\" with a literal. Did you mean \"==\"?\n",
      "\"is\" with a literal. Did you mean \"==\"?\n",
      "\"is\" with a literal. Did you mean \"==\"?\n",
      "\"is\" with a literal. Did you mean \"==\"?\n",
      "\"is not\" with a literal. Did you mean \"!=\"?\n"
     ]
    },
    {
     "name": "stderr",
     "output_type": "stream",
     "text": [
      "\"is not\" with a literal. Did you mean \"!=\"?\n"
     ]
    }
   ],
   "source": [
    "# just to make it available to download w/o SSL verification\n",
    "import ssl\n",
    "ssl._create_default_https_context = ssl._create_unverified_context\n",
    "\n",
    "import shap\n",
    "import numpy as np\n",
    "import pandas as pd\n",
    "import datetime as dt\n",
    "\n",
    "from sklearn.utils import shuffle\n",
    "from sklearn.model_selection import train_test_split\n",
    "\n",
    "from lightfm.data import Dataset\n",
    "from lightfm import LightFM\n",
    "\n",
    "from catboost import CatBoostClassifier\n",
    "\n",
    "from tqdm import tqdm\n",
    "import warnings\n",
    "warnings.filterwarnings('ignore')\n",
    "\n",
    "pd.set_option('display.float_format', lambda x: '%.3f' % x)"
   ]
  },
  {
   "cell_type": "markdown",
   "id": "dfb76bba",
   "metadata": {},
   "source": [
    "## 1. 1. Helper functions to avoid copy paste"
   ]
  },
  {
   "cell_type": "code",
   "execution_count": 3,
   "id": "fc971f7b",
   "metadata": {},
   "outputs": [],
   "source": [
    "def read_parquet_from_gdrive(url, engine: str = 'pyarrow'):\n",
    "    \"\"\"\n",
    "    gets csv data from a given url (taken from file -> share -> copy link)\n",
    "    :url: example https://drive.google.com/file/d/1BlZfCLLs5A13tbNSJZ1GPkHLWQOnPlE4/view?usp=share_link\n",
    "    \"\"\"\n",
    "    file_id = url.split('/')[-2]\n",
    "    file_path = 'https://drive.google.com/uc?export=download&id=' + file_id\n",
    "    data = pd.read_parquet(file_path, engine = engine)\n",
    "\n",
    "    return data"
   ]
  },
  {
   "cell_type": "markdown",
   "id": "6b59982c",
   "metadata": {},
   "source": [
    "# 2. Main\n",
    "## 2.1. Load and preprocess data\n",
    "`interactions` dataset shows list of movies that users watched, along with given `total_dur` in seconds and `watched_pct` proportion"
   ]
  },
  {
   "cell_type": "code",
   "execution_count": 4,
   "id": "322fa7f0",
   "metadata": {},
   "outputs": [
    {
     "data": {
      "text/html": [
       "<div>\n",
       "<style scoped>\n",
       "    .dataframe tbody tr th:only-of-type {\n",
       "        vertical-align: middle;\n",
       "    }\n",
       "\n",
       "    .dataframe tbody tr th {\n",
       "        vertical-align: top;\n",
       "    }\n",
       "\n",
       "    .dataframe thead th {\n",
       "        text-align: right;\n",
       "    }\n",
       "</style>\n",
       "<table border=\"1\" class=\"dataframe\">\n",
       "  <thead>\n",
       "    <tr style=\"text-align: right;\">\n",
       "      <th></th>\n",
       "      <th>user_id</th>\n",
       "      <th>item_id</th>\n",
       "      <th>last_watch_dt</th>\n",
       "      <th>total_dur</th>\n",
       "      <th>watched_pct</th>\n",
       "    </tr>\n",
       "  </thead>\n",
       "  <tbody>\n",
       "    <tr>\n",
       "      <th>0</th>\n",
       "      <td>176549</td>\n",
       "      <td>9506</td>\n",
       "      <td>2021-05-11</td>\n",
       "      <td>4250</td>\n",
       "      <td>72.000</td>\n",
       "    </tr>\n",
       "    <tr>\n",
       "      <th>1</th>\n",
       "      <td>699317</td>\n",
       "      <td>1659</td>\n",
       "      <td>2021-05-29</td>\n",
       "      <td>8317</td>\n",
       "      <td>100.000</td>\n",
       "    </tr>\n",
       "    <tr>\n",
       "      <th>2</th>\n",
       "      <td>656683</td>\n",
       "      <td>7107</td>\n",
       "      <td>2021-05-09</td>\n",
       "      <td>10</td>\n",
       "      <td>0.000</td>\n",
       "    </tr>\n",
       "    <tr>\n",
       "      <th>3</th>\n",
       "      <td>864613</td>\n",
       "      <td>7638</td>\n",
       "      <td>2021-07-05</td>\n",
       "      <td>14483</td>\n",
       "      <td>100.000</td>\n",
       "    </tr>\n",
       "    <tr>\n",
       "      <th>4</th>\n",
       "      <td>964868</td>\n",
       "      <td>9506</td>\n",
       "      <td>2021-04-30</td>\n",
       "      <td>6725</td>\n",
       "      <td>100.000</td>\n",
       "    </tr>\n",
       "  </tbody>\n",
       "</table>\n",
       "</div>"
      ],
      "text/plain": [
       "   user_id  item_id last_watch_dt  total_dur  watched_pct\n",
       "0   176549     9506    2021-05-11       4250       72.000\n",
       "1   699317     1659    2021-05-29       8317      100.000\n",
       "2   656683     7107    2021-05-09         10        0.000\n",
       "3   864613     7638    2021-07-05      14483      100.000\n",
       "4   964868     9506    2021-04-30       6725      100.000"
      ]
     },
     "execution_count": 4,
     "metadata": {},
     "output_type": "execute_result"
    }
   ],
   "source": [
    "# interactions data\n",
    "interactions = read_parquet_from_gdrive(INTERACTIONS_PATH)\n",
    "interactions.head()"
   ]
  },
  {
   "cell_type": "markdown",
   "id": "2ea68a73",
   "metadata": {},
   "source": [
    "`movies_metadata` dataset shows the list of movies existing on OKKO platform"
   ]
  },
  {
   "cell_type": "code",
   "execution_count": 5,
   "id": "4cf52d09",
   "metadata": {},
   "outputs": [
    {
     "data": {
      "text/html": [
       "<div>\n",
       "<style scoped>\n",
       "    .dataframe tbody tr th:only-of-type {\n",
       "        vertical-align: middle;\n",
       "    }\n",
       "\n",
       "    .dataframe tbody tr th {\n",
       "        vertical-align: top;\n",
       "    }\n",
       "\n",
       "    .dataframe thead th {\n",
       "        text-align: right;\n",
       "    }\n",
       "</style>\n",
       "<table border=\"1\" class=\"dataframe\">\n",
       "  <thead>\n",
       "    <tr style=\"text-align: right;\">\n",
       "      <th></th>\n",
       "      <th>item_id</th>\n",
       "      <th>content_type</th>\n",
       "      <th>title</th>\n",
       "      <th>title_orig</th>\n",
       "      <th>release_year</th>\n",
       "      <th>genres</th>\n",
       "      <th>countries</th>\n",
       "      <th>for_kids</th>\n",
       "      <th>age_rating</th>\n",
       "      <th>studios</th>\n",
       "      <th>directors</th>\n",
       "      <th>actors</th>\n",
       "      <th>description</th>\n",
       "      <th>keywords</th>\n",
       "    </tr>\n",
       "  </thead>\n",
       "  <tbody>\n",
       "    <tr>\n",
       "      <th>0</th>\n",
       "      <td>10711</td>\n",
       "      <td>film</td>\n",
       "      <td>Поговори с ней</td>\n",
       "      <td>Hable con ella</td>\n",
       "      <td>2002.000</td>\n",
       "      <td>драмы, зарубежные, детективы, мелодрамы</td>\n",
       "      <td>Испания</td>\n",
       "      <td>NaN</td>\n",
       "      <td>16.000</td>\n",
       "      <td>None</td>\n",
       "      <td>Педро Альмодовар</td>\n",
       "      <td>Адольфо Фернандес, Ана Фернандес, Дарио Гранди...</td>\n",
       "      <td>Мелодрама легендарного Педро Альмодовара «Пого...</td>\n",
       "      <td>Поговори, ней, 2002, Испания, друзья, любовь, ...</td>\n",
       "    </tr>\n",
       "    <tr>\n",
       "      <th>1</th>\n",
       "      <td>2508</td>\n",
       "      <td>film</td>\n",
       "      <td>Голые перцы</td>\n",
       "      <td>Search Party</td>\n",
       "      <td>2014.000</td>\n",
       "      <td>зарубежные, приключения, комедии</td>\n",
       "      <td>США</td>\n",
       "      <td>NaN</td>\n",
       "      <td>16.000</td>\n",
       "      <td>None</td>\n",
       "      <td>Скот Армстронг</td>\n",
       "      <td>Адам Палли, Брайан Хаски, Дж.Б. Смув, Джейсон ...</td>\n",
       "      <td>Уморительная современная комедия на популярную...</td>\n",
       "      <td>Голые, перцы, 2014, США, друзья, свадьбы, прео...</td>\n",
       "    </tr>\n",
       "    <tr>\n",
       "      <th>2</th>\n",
       "      <td>10716</td>\n",
       "      <td>film</td>\n",
       "      <td>Тактическая сила</td>\n",
       "      <td>Tactical Force</td>\n",
       "      <td>2011.000</td>\n",
       "      <td>криминал, зарубежные, триллеры, боевики, комедии</td>\n",
       "      <td>Канада</td>\n",
       "      <td>NaN</td>\n",
       "      <td>16.000</td>\n",
       "      <td>None</td>\n",
       "      <td>Адам П. Калтраро</td>\n",
       "      <td>Адриан Холмс, Даррен Шалави, Джерри Вассерман,...</td>\n",
       "      <td>Профессиональный рестлер Стив Остин («Все или ...</td>\n",
       "      <td>Тактическая, сила, 2011, Канада, бандиты, ганг...</td>\n",
       "    </tr>\n",
       "  </tbody>\n",
       "</table>\n",
       "</div>"
      ],
      "text/plain": [
       "   item_id content_type             title      title_orig  release_year  \\\n",
       "0    10711         film    Поговори с ней  Hable con ella      2002.000   \n",
       "1     2508         film       Голые перцы    Search Party      2014.000   \n",
       "2    10716         film  Тактическая сила  Tactical Force      2011.000   \n",
       "\n",
       "                                             genres countries  for_kids  \\\n",
       "0           драмы, зарубежные, детективы, мелодрамы   Испания       NaN   \n",
       "1                  зарубежные, приключения, комедии       США       NaN   \n",
       "2  криминал, зарубежные, триллеры, боевики, комедии    Канада       NaN   \n",
       "\n",
       "   age_rating studios         directors  \\\n",
       "0      16.000    None  Педро Альмодовар   \n",
       "1      16.000    None    Скот Армстронг   \n",
       "2      16.000    None  Адам П. Калтраро   \n",
       "\n",
       "                                              actors  \\\n",
       "0  Адольфо Фернандес, Ана Фернандес, Дарио Гранди...   \n",
       "1  Адам Палли, Брайан Хаски, Дж.Б. Смув, Джейсон ...   \n",
       "2  Адриан Холмс, Даррен Шалави, Джерри Вассерман,...   \n",
       "\n",
       "                                         description  \\\n",
       "0  Мелодрама легендарного Педро Альмодовара «Пого...   \n",
       "1  Уморительная современная комедия на популярную...   \n",
       "2  Профессиональный рестлер Стив Остин («Все или ...   \n",
       "\n",
       "                                            keywords  \n",
       "0  Поговори, ней, 2002, Испания, друзья, любовь, ...  \n",
       "1  Голые, перцы, 2014, США, друзья, свадьбы, прео...  \n",
       "2  Тактическая, сила, 2011, Канада, бандиты, ганг...  "
      ]
     },
     "execution_count": 5,
     "metadata": {},
     "output_type": "execute_result"
    }
   ],
   "source": [
    "# information about films etc\n",
    "movies_metadata = read_parquet_from_gdrive(ITEMS_METADATA_PATH)\n",
    "movies_metadata.head(3)"
   ]
  },
  {
   "cell_type": "markdown",
   "id": "b7af31b4",
   "metadata": {},
   "source": [
    "`users_data` contains basic info like gender, age group, income group and kids flag"
   ]
  },
  {
   "cell_type": "code",
   "execution_count": 6,
   "id": "3d09d8e1",
   "metadata": {},
   "outputs": [
    {
     "data": {
      "text/html": [
       "<div>\n",
       "<style scoped>\n",
       "    .dataframe tbody tr th:only-of-type {\n",
       "        vertical-align: middle;\n",
       "    }\n",
       "\n",
       "    .dataframe tbody tr th {\n",
       "        vertical-align: top;\n",
       "    }\n",
       "\n",
       "    .dataframe thead th {\n",
       "        text-align: right;\n",
       "    }\n",
       "</style>\n",
       "<table border=\"1\" class=\"dataframe\">\n",
       "  <thead>\n",
       "    <tr style=\"text-align: right;\">\n",
       "      <th></th>\n",
       "      <th>user_id</th>\n",
       "      <th>age</th>\n",
       "      <th>income</th>\n",
       "      <th>sex</th>\n",
       "      <th>kids_flg</th>\n",
       "    </tr>\n",
       "  </thead>\n",
       "  <tbody>\n",
       "    <tr>\n",
       "      <th>0</th>\n",
       "      <td>973171</td>\n",
       "      <td>age_25_34</td>\n",
       "      <td>income_60_90</td>\n",
       "      <td>М</td>\n",
       "      <td>1</td>\n",
       "    </tr>\n",
       "    <tr>\n",
       "      <th>1</th>\n",
       "      <td>962099</td>\n",
       "      <td>age_18_24</td>\n",
       "      <td>income_20_40</td>\n",
       "      <td>М</td>\n",
       "      <td>0</td>\n",
       "    </tr>\n",
       "    <tr>\n",
       "      <th>2</th>\n",
       "      <td>1047345</td>\n",
       "      <td>age_45_54</td>\n",
       "      <td>income_40_60</td>\n",
       "      <td>Ж</td>\n",
       "      <td>0</td>\n",
       "    </tr>\n",
       "    <tr>\n",
       "      <th>3</th>\n",
       "      <td>721985</td>\n",
       "      <td>age_45_54</td>\n",
       "      <td>income_20_40</td>\n",
       "      <td>Ж</td>\n",
       "      <td>0</td>\n",
       "    </tr>\n",
       "    <tr>\n",
       "      <th>4</th>\n",
       "      <td>704055</td>\n",
       "      <td>age_35_44</td>\n",
       "      <td>income_60_90</td>\n",
       "      <td>Ж</td>\n",
       "      <td>0</td>\n",
       "    </tr>\n",
       "  </tbody>\n",
       "</table>\n",
       "</div>"
      ],
      "text/plain": [
       "   user_id        age        income sex  kids_flg\n",
       "0   973171  age_25_34  income_60_90   М         1\n",
       "1   962099  age_18_24  income_20_40   М         0\n",
       "2  1047345  age_45_54  income_40_60   Ж         0\n",
       "3   721985  age_45_54  income_20_40   Ж         0\n",
       "4   704055  age_35_44  income_60_90   Ж         0"
      ]
     },
     "execution_count": 6,
     "metadata": {},
     "output_type": "execute_result"
    }
   ],
   "source": [
    "users_data = read_parquet_from_gdrive(USERS_DATA_PATH)\n",
    "users_data.head()"
   ]
  },
  {
   "cell_type": "markdown",
   "id": "7e738368",
   "metadata": {},
   "source": [
    "Now, a bit of preprocessing to avoid noisy data."
   ]
  },
  {
   "cell_type": "code",
   "execution_count": 7,
   "id": "20c6fdd0",
   "metadata": {},
   "outputs": [
    {
     "name": "stdout",
     "output_type": "stream",
     "text": [
      "(5476251, 5) (4195689, 5)\n"
     ]
    }
   ],
   "source": [
    "# remove redundant data points\n",
    "interactions_filtered = interactions.loc[interactions['total_dur'] > 300].reset_index(drop = True)\n",
    "print(interactions.shape, interactions_filtered.shape)"
   ]
  },
  {
   "cell_type": "code",
   "execution_count": 8,
   "id": "4935a196",
   "metadata": {},
   "outputs": [],
   "source": [
    "# convert to datetime\n",
    "interactions_filtered['last_watch_dt'] = pd.to_datetime(interactions_filtered['last_watch_dt'])"
   ]
  },
  {
   "cell_type": "markdown",
   "id": "6d2ae71a",
   "metadata": {},
   "source": [
    "### 2.1.2. Train / Test split\n",
    "\n",
    "As we dicussed in Validation and metrics [chapter], we need time based split for candidates generation\n",
    "to avoid look-ahead bias. Therefor, let's set date thresholds"
   ]
  },
  {
   "cell_type": "code",
   "execution_count": 9,
   "id": "f1114ca4",
   "metadata": {},
   "outputs": [
    {
     "name": "stdout",
     "output_type": "stream",
     "text": [
      "min date in filtered interactions: 2021-08-22 00:00:00\n",
      "max date in filtered interactions:: 2021-03-13 00:00:00\n",
      "test max date to split:: 2021-08-08 00:00:00\n"
     ]
    }
   ],
   "source": [
    "# set dates params for filter\n",
    "MAX_DATE = interactions_filtered['last_watch_dt'].max()\n",
    "MIN_DATE = interactions_filtered['last_watch_dt'].min()\n",
    "TEST_INTERVAL_DAYS = 14\n",
    "TEST_MAX_DATE = MAX_DATE - dt.timedelta(days = TEST_INTERVAL_DAYS)\n",
    "\n",
    "print(f\"min date in filtered interactions: {MAX_DATE}\")\n",
    "print(f\"max date in filtered interactions:: {MIN_DATE}\")\n",
    "print(f\"test max date to split:: {TEST_MAX_DATE}\")"
   ]
  },
  {
   "cell_type": "code",
   "execution_count": 10,
   "id": "d64a6d9f",
   "metadata": {},
   "outputs": [
    {
     "name": "stdout",
     "output_type": "stream",
     "text": [
      "(3530223, 5) (665015, 5)\n"
     ]
    }
   ],
   "source": [
    "# define global train and test\n",
    "global_train = interactions_filtered.loc[interactions_filtered['last_watch_dt'] < TEST_MAX_DATE]\n",
    "global_test = interactions_filtered.loc[interactions_filtered['last_watch_dt'] >= TEST_MAX_DATE]\n",
    "\n",
    "global_train = global_train.dropna().reset_index(drop = True)\n",
    "print(global_train.shape, global_test.shape)"
   ]
  },
  {
   "cell_type": "markdown",
   "id": "26129f91",
   "metadata": {},
   "source": [
    "Here, we define \"local\" train and test to use some part of the global train for ranker"
   ]
  },
  {
   "cell_type": "code",
   "execution_count": 11,
   "id": "2baf1800",
   "metadata": {},
   "outputs": [
    {
     "name": "stdout",
     "output_type": "stream",
     "text": [
      "2021-07-11 00:00:00\n"
     ]
    }
   ],
   "source": [
    "local_train_thresh = global_train['last_watch_dt'].quantile(q = .7, interpolation = 'nearest')\n",
    "\n",
    "print(local_train_thresh)"
   ]
  },
  {
   "cell_type": "code",
   "execution_count": 12,
   "id": "1582962a",
   "metadata": {},
   "outputs": [
    {
     "name": "stdout",
     "output_type": "stream",
     "text": [
      "(2451040, 5) (1079183, 5)\n"
     ]
    }
   ],
   "source": [
    "local_train = global_train.loc[global_train['last_watch_dt'] < local_train_thresh]\n",
    "local_test = global_train.loc[global_train['last_watch_dt'] >= local_train_thresh]\n",
    "\n",
    "print(local_train.shape, local_test.shape)"
   ]
  },
  {
   "cell_type": "markdown",
   "id": "13bd62c1",
   "metadata": {},
   "source": [
    "Final filter, we will focus on warm start -- remove cold start users"
   ]
  },
  {
   "cell_type": "code",
   "execution_count": 13,
   "id": "e9db668c",
   "metadata": {},
   "outputs": [
    {
     "name": "stdout",
     "output_type": "stream",
     "text": [
      "(579382, 5)\n"
     ]
    }
   ],
   "source": [
    "local_test = local_test.loc[local_test['user_id'].isin(local_train['user_id'].unique())]\n",
    "print(local_test.shape)"
   ]
  },
  {
   "cell_type": "markdown",
   "id": "47465cff",
   "metadata": {},
   "source": [
    "### 2.1.2 LightFM Dataset setup\n",
    "LightFM provides built-in Dataset class to work with and use in fitting the model."
   ]
  },
  {
   "cell_type": "code",
   "execution_count": 14,
   "id": "8449d0ca",
   "metadata": {},
   "outputs": [],
   "source": [
    "# init class\n",
    "dataset = Dataset()\n",
    "\n",
    "# fit tuple of user and movie interactions\n",
    "dataset.fit(local_train['user_id'].unique(), local_train['item_id'].unique())"
   ]
  },
  {
   "cell_type": "markdown",
   "id": "5d7fb6f9",
   "metadata": {},
   "source": [
    "Next, we will need mappers as usual, but with lightfm everything is easier and can be\n",
    "extracted from initiated data class `dataset`"
   ]
  },
  {
   "cell_type": "code",
   "execution_count": 15,
   "id": "cc512d66",
   "metadata": {},
   "outputs": [
    {
     "name": "stdout",
     "output_type": "stream",
     "text": [
      "user mapper length -  539173\n",
      "user features mapper length -  539173\n",
      "movies mapper length -  13006\n",
      "Users movie features mapper length -  13006\n"
     ]
    }
   ],
   "source": [
    "# now, we define lightfm mapper to use it later for checks\n",
    "lightfm_mapping = dataset.mapping()\n",
    "lightfm_mapping = {\n",
    "    'users_mapping': lightfm_mapping[0],\n",
    "    'user_features_mapping': lightfm_mapping[1],\n",
    "    'items_mapping': lightfm_mapping[2],\n",
    "    'item_features_mapping': lightfm_mapping[3],\n",
    "}\n",
    "print('user mapper length - ', len(lightfm_mapping['users_mapping']))\n",
    "print('user features mapper length - ', len(lightfm_mapping['user_features_mapping']))\n",
    "print('movies mapper length - ', len(lightfm_mapping['items_mapping']))\n",
    "print('Users movie features mapper length - ', len(lightfm_mapping['item_features_mapping']))"
   ]
  },
  {
   "cell_type": "code",
   "execution_count": 16,
   "id": "0ed25cd1",
   "metadata": {},
   "outputs": [],
   "source": [
    "# inverted mappers to check recommendations\n",
    "lightfm_mapping['users_inv_mapping'] = {v: k for k, v in lightfm_mapping['users_mapping'].items()}\n",
    "lightfm_mapping['items_inv_mapping'] = {v: k for k, v in lightfm_mapping['items_mapping'].items()}"
   ]
  },
  {
   "cell_type": "code",
   "execution_count": 17,
   "id": "6a402731",
   "metadata": {},
   "outputs": [],
   "source": [
    "# crate mapper for movie_id and title names\n",
    "item_name_mapper = dict(zip(movies_metadata['item_id'], movies_metadata['title']))"
   ]
  },
  {
   "cell_type": "code",
   "execution_count": 18,
   "id": "0e56dfe2",
   "metadata": {},
   "outputs": [],
   "source": [
    "# special iterator to use with lightfm\n",
    "def df_to_tuple_iterator(df: pd.DataFrame):\n",
    "    '''\n",
    "    :df: pd.DataFrame, interactions dataframe\n",
    "    returs iterator\n",
    "    '''\n",
    "    return zip(*df.values.T)\n"
   ]
  },
  {
   "cell_type": "markdown",
   "id": "258fec03",
   "metadata": {},
   "source": [
    "Finally, built dataset using `user_id` & `item_id`"
   ]
  },
  {
   "cell_type": "code",
   "execution_count": 19,
   "id": "d6143561",
   "metadata": {},
   "outputs": [],
   "source": [
    "# defining train set on the whole interactions dataset (as HW you will have to split into test and train for evaluation)\n",
    "train_mat, train_mat_weights = dataset.build_interactions(df_to_tuple_iterator(local_train[['user_id', 'item_id']]))"
   ]
  },
  {
   "cell_type": "code",
   "execution_count": 20,
   "id": "736c8d0f",
   "metadata": {},
   "outputs": [
    {
     "data": {
      "text/plain": [
       "<539173x13006 sparse matrix of type '<class 'numpy.int32'>'\n",
       "\twith 2451040 stored elements in COOrdinate format>"
      ]
     },
     "execution_count": 20,
     "metadata": {},
     "output_type": "execute_result"
    }
   ],
   "source": [
    "train_mat"
   ]
  },
  {
   "cell_type": "code",
   "execution_count": 21,
   "id": "e15e35f8",
   "metadata": {},
   "outputs": [
    {
     "data": {
      "text/plain": [
       "<539173x13006 sparse matrix of type '<class 'numpy.float32'>'\n",
       "\twith 2451040 stored elements in COOrdinate format>"
      ]
     },
     "execution_count": 21,
     "metadata": {},
     "output_type": "execute_result"
    }
   ],
   "source": [
    "train_mat_weights"
   ]
  },
  {
   "cell_type": "markdown",
   "id": "dc9ee12f",
   "metadata": {},
   "source": [
    "## 2.2. Fit the model\n",
    "\n",
    "Set some default parameters for the model"
   ]
  },
  {
   "cell_type": "code",
   "execution_count": 22,
   "id": "b3a50cc7",
   "metadata": {},
   "outputs": [],
   "source": [
    "# set params\n",
    "NO_COMPONENTS = 64\n",
    "LEARNING_RATE = .03\n",
    "LOSS = 'warp'\n",
    "MAX_SAMPLED = 5\n",
    "RANDOM_STATE = 42\n",
    "EPOCHS = 20"
   ]
  },
  {
   "cell_type": "code",
   "execution_count": 23,
   "id": "4c1654e4",
   "metadata": {},
   "outputs": [],
   "source": [
    "# init model\n",
    "lfm_model = LightFM(\n",
    "    no_components = NO_COMPONENTS,\n",
    "    learning_rate = LEARNING_RATE,\n",
    "    loss = LOSS,\n",
    "    max_sampled = MAX_SAMPLED,\n",
    "    random_state = RANDOM_STATE\n",
    "    )"
   ]
  },
  {
   "cell_type": "markdown",
   "id": "4bfc1e98",
   "metadata": {},
   "source": [
    "Run training pipeline"
   ]
  },
  {
   "cell_type": "code",
   "execution_count": 24,
   "id": "1ddd8e07",
   "metadata": {},
   "outputs": [
    {
     "name": "stderr",
     "output_type": "stream",
     "text": [
      "\r",
      "  0%|          | 0/20 [00:00<?, ?it/s]"
     ]
    },
    {
     "name": "stderr",
     "output_type": "stream",
     "text": [
      "\r",
      "  5%|▌         | 1/20 [00:05<01:42,  5.39s/it]"
     ]
    },
    {
     "name": "stderr",
     "output_type": "stream",
     "text": [
      "\r",
      " 10%|█         | 2/20 [00:08<01:17,  4.28s/it]"
     ]
    },
    {
     "name": "stderr",
     "output_type": "stream",
     "text": [
      "\r",
      " 15%|█▌        | 3/20 [00:12<01:05,  3.84s/it]"
     ]
    },
    {
     "name": "stderr",
     "output_type": "stream",
     "text": [
      "\r",
      " 20%|██        | 4/20 [00:15<00:57,  3.57s/it]"
     ]
    },
    {
     "name": "stderr",
     "output_type": "stream",
     "text": [
      "\r",
      " 25%|██▌       | 5/20 [00:18<00:50,  3.39s/it]"
     ]
    },
    {
     "name": "stderr",
     "output_type": "stream",
     "text": [
      "\r",
      " 30%|███       | 6/20 [00:21<00:45,  3.28s/it]"
     ]
    },
    {
     "name": "stderr",
     "output_type": "stream",
     "text": [
      "\r",
      " 35%|███▌      | 7/20 [00:24<00:41,  3.16s/it]"
     ]
    },
    {
     "name": "stderr",
     "output_type": "stream",
     "text": [
      "\r",
      " 40%|████      | 8/20 [00:27<00:37,  3.11s/it]"
     ]
    },
    {
     "name": "stderr",
     "output_type": "stream",
     "text": [
      "\r",
      " 45%|████▌     | 9/20 [00:30<00:33,  3.05s/it]"
     ]
    },
    {
     "name": "stderr",
     "output_type": "stream",
     "text": [
      "\r",
      " 50%|█████     | 10/20 [00:33<00:29,  3.00s/it]"
     ]
    },
    {
     "name": "stderr",
     "output_type": "stream",
     "text": [
      "\r",
      " 55%|█████▌    | 11/20 [00:36<00:26,  2.95s/it]"
     ]
    },
    {
     "name": "stderr",
     "output_type": "stream",
     "text": [
      "\r",
      " 60%|██████    | 12/20 [00:38<00:23,  2.95s/it]"
     ]
    },
    {
     "name": "stderr",
     "output_type": "stream",
     "text": [
      "\r",
      " 65%|██████▌   | 13/20 [00:41<00:20,  2.94s/it]"
     ]
    },
    {
     "name": "stderr",
     "output_type": "stream",
     "text": [
      "\r",
      " 70%|███████   | 14/20 [00:44<00:17,  2.94s/it]"
     ]
    },
    {
     "name": "stderr",
     "output_type": "stream",
     "text": [
      "\r",
      " 75%|███████▌  | 15/20 [00:47<00:14,  2.92s/it]"
     ]
    },
    {
     "name": "stderr",
     "output_type": "stream",
     "text": [
      "\r",
      " 80%|████████  | 16/20 [00:50<00:11,  2.92s/it]"
     ]
    },
    {
     "name": "stderr",
     "output_type": "stream",
     "text": [
      "\r",
      " 85%|████████▌ | 17/20 [00:53<00:08,  2.91s/it]"
     ]
    },
    {
     "name": "stderr",
     "output_type": "stream",
     "text": [
      "\r",
      " 90%|█████████ | 18/20 [00:56<00:05,  2.87s/it]"
     ]
    },
    {
     "name": "stderr",
     "output_type": "stream",
     "text": [
      "\r",
      " 95%|█████████▌| 19/20 [00:59<00:02,  2.86s/it]"
     ]
    },
    {
     "name": "stderr",
     "output_type": "stream",
     "text": [
      "\r",
      "100%|██████████| 20/20 [01:02<00:00,  2.86s/it]"
     ]
    },
    {
     "name": "stderr",
     "output_type": "stream",
     "text": [
      "\r",
      "100%|██████████| 20/20 [01:02<00:00,  3.10s/it]"
     ]
    },
    {
     "name": "stderr",
     "output_type": "stream",
     "text": [
      "\n"
     ]
    }
   ],
   "source": [
    "# execute training\n",
    "for _ in tqdm(range(EPOCHS), total = EPOCHS):\n",
    "    lfm_model.fit_partial(\n",
    "        train_mat,\n",
    "        num_threads = 4\n",
    "    )"
   ]
  },
  {
   "cell_type": "markdown",
   "id": "c6cc1c8f",
   "metadata": {},
   "source": [
    "Let's make sense-check on the output model"
   ]
  },
  {
   "cell_type": "code",
   "execution_count": 25,
   "id": "b531f8a0",
   "metadata": {},
   "outputs": [
    {
     "name": "stdout",
     "output_type": "stream",
     "text": [
      "Rekko for user 713676, row number in matrix - 62\n"
     ]
    }
   ],
   "source": [
    "top_N = 10\n",
    "user_id = local_train['user_id'][100]\n",
    "row_id = lightfm_mapping['users_mapping'][user_id]\n",
    "print(f'Rekko for user {user_id}, row number in matrix - {row_id}')"
   ]
  },
  {
   "cell_type": "code",
   "execution_count": 26,
   "id": "4690e4c0",
   "metadata": {},
   "outputs": [
    {
     "data": {
      "text/plain": [
       "array([  20,    5,  410,  225,  298,  435,  302,   61,   67, 1103])"
      ]
     },
     "execution_count": 26,
     "metadata": {},
     "output_type": "execute_result"
    }
   ],
   "source": [
    "# item indices\n",
    "all_cols = list(lightfm_mapping['items_mapping'].values())\n",
    "len(all_cols)\n",
    "\n",
    "# predictions\n",
    "pred = lfm_model.predict(\n",
    "    row_id,\n",
    "    all_cols,\n",
    "    num_threads = 4)\n",
    "pred, pred.shape\n",
    "\n",
    "# sort and final postprocessing\n",
    "top_cols = np.argpartition(pred, -np.arange(top_N))[-top_N:][::-1]\n",
    "top_cols"
   ]
  },
  {
   "cell_type": "code",
   "execution_count": 27,
   "id": "4a100e32",
   "metadata": {},
   "outputs": [
    {
     "data": {
      "text/html": [
       "<div>\n",
       "<style scoped>\n",
       "    .dataframe tbody tr th:only-of-type {\n",
       "        vertical-align: middle;\n",
       "    }\n",
       "\n",
       "    .dataframe tbody tr th {\n",
       "        vertical-align: top;\n",
       "    }\n",
       "\n",
       "    .dataframe thead th {\n",
       "        text-align: right;\n",
       "    }\n",
       "</style>\n",
       "<table border=\"1\" class=\"dataframe\">\n",
       "  <thead>\n",
       "    <tr style=\"text-align: right;\">\n",
       "      <th></th>\n",
       "      <th>col_id</th>\n",
       "      <th>item_id</th>\n",
       "      <th>title</th>\n",
       "    </tr>\n",
       "  </thead>\n",
       "  <tbody>\n",
       "    <tr>\n",
       "      <th>0</th>\n",
       "      <td>20</td>\n",
       "      <td>7626</td>\n",
       "      <td>Мстители: Война бесконечности</td>\n",
       "    </tr>\n",
       "    <tr>\n",
       "      <th>1</th>\n",
       "      <td>5</td>\n",
       "      <td>7571</td>\n",
       "      <td>100% волк</td>\n",
       "    </tr>\n",
       "    <tr>\n",
       "      <th>2</th>\n",
       "      <td>410</td>\n",
       "      <td>7210</td>\n",
       "      <td>Тор: Рагнарёк</td>\n",
       "    </tr>\n",
       "    <tr>\n",
       "      <th>3</th>\n",
       "      <td>225</td>\n",
       "      <td>10942</td>\n",
       "      <td>Мстители</td>\n",
       "    </tr>\n",
       "    <tr>\n",
       "      <th>4</th>\n",
       "      <td>298</td>\n",
       "      <td>13915</td>\n",
       "      <td>Вперёд</td>\n",
       "    </tr>\n",
       "    <tr>\n",
       "      <th>5</th>\n",
       "      <td>435</td>\n",
       "      <td>13018</td>\n",
       "      <td>Король лев (2019)</td>\n",
       "    </tr>\n",
       "    <tr>\n",
       "      <th>6</th>\n",
       "      <td>302</td>\n",
       "      <td>12173</td>\n",
       "      <td>Мстители: Финал</td>\n",
       "    </tr>\n",
       "    <tr>\n",
       "      <th>7</th>\n",
       "      <td>61</td>\n",
       "      <td>4436</td>\n",
       "      <td>Ford против Ferrari</td>\n",
       "    </tr>\n",
       "    <tr>\n",
       "      <th>8</th>\n",
       "      <td>67</td>\n",
       "      <td>8636</td>\n",
       "      <td>Белый снег</td>\n",
       "    </tr>\n",
       "    <tr>\n",
       "      <th>9</th>\n",
       "      <td>1103</td>\n",
       "      <td>3587</td>\n",
       "      <td>Железный человек</td>\n",
       "    </tr>\n",
       "  </tbody>\n",
       "</table>\n",
       "</div>"
      ],
      "text/plain": [
       "   col_id  item_id                          title\n",
       "0      20     7626  Мстители: Война бесконечности\n",
       "1       5     7571                      100% волк\n",
       "2     410     7210                  Тор: Рагнарёк\n",
       "3     225    10942                       Мстители\n",
       "4     298    13915                         Вперёд\n",
       "5     435    13018              Король лев (2019)\n",
       "6     302    12173                Мстители: Финал\n",
       "7      61     4436            Ford против Ferrari\n",
       "8      67     8636                     Белый снег\n",
       "9    1103     3587               Железный человек"
      ]
     },
     "execution_count": 27,
     "metadata": {},
     "output_type": "execute_result"
    }
   ],
   "source": [
    "# pandas dataframe for convenience\n",
    "recs = pd.DataFrame({'col_id': top_cols})\n",
    "recs['item_id'] = recs['col_id'].map(lightfm_mapping['items_inv_mapping'].get)\n",
    "recs['title'] = recs['item_id'].map(item_name_mapper)\n",
    "recs"
   ]
  },
  {
   "cell_type": "markdown",
   "id": "0823e69f",
   "metadata": {},
   "source": [
    "In the end, we need to make predictions on all `local_test` users to use this sample to train reranker model.\n",
    "As I have mentioned earlier, in reranker we split randomly by users."
   ]
  },
  {
   "cell_type": "code",
   "execution_count": 28,
   "id": "fcc5dfac",
   "metadata": {},
   "outputs": [
    {
     "data": {
      "text/plain": [
       "144739"
      ]
     },
     "execution_count": 28,
     "metadata": {},
     "output_type": "execute_result"
    }
   ],
   "source": [
    "# make predictions for all users in test\n",
    "local_test_preds = pd.DataFrame({\n",
    "    'user_id': local_test['user_id'].unique()\n",
    "})\n",
    "len(local_test_preds)"
   ]
  },
  {
   "cell_type": "code",
   "execution_count": 29,
   "id": "aa17c43b",
   "metadata": {},
   "outputs": [],
   "source": [
    "def generate_lightfm_recs_mapper(\n",
    "        model: object,\n",
    "        item_ids: list,\n",
    "        known_items: dict,\n",
    "        user_features: list,\n",
    "        item_features: list,\n",
    "        N: int,\n",
    "        user_mapping: dict,\n",
    "        item_inv_mapping: dict,\n",
    "        num_threads: int = 4\n",
    "        ):\n",
    "    def _recs_mapper(user):\n",
    "        user_id = user_mapping[user]\n",
    "        recs = model.predict(\n",
    "            user_id,\n",
    "            item_ids,\n",
    "            user_features = user_features,\n",
    "            item_features = item_features,\n",
    "            num_threads = num_threads)\n",
    "        \n",
    "        additional_N = len(known_items[user_id]) if user_id in known_items else 0\n",
    "        total_N = N + additional_N\n",
    "        top_cols = np.argpartition(recs, -np.arange(total_N))[-total_N:][::-1]\n",
    "        \n",
    "        final_recs = [item_inv_mapping[item] for item in top_cols]\n",
    "        if additional_N > 0:\n",
    "            filter_items = known_items[user_id]\n",
    "            final_recs = [item for item in final_recs if item not in filter_items]\n",
    "        return final_recs[:N]\n",
    "    return _recs_mapper"
   ]
  },
  {
   "cell_type": "code",
   "execution_count": 30,
   "id": "46a160dc",
   "metadata": {},
   "outputs": [],
   "source": [
    "# init mapper to get predictions\n",
    "mapper = generate_lightfm_recs_mapper(\n",
    "    lfm_model, \n",
    "    item_ids = all_cols, \n",
    "    known_items = dict(),\n",
    "    N = top_N,\n",
    "    user_features = None, \n",
    "    item_features = None, \n",
    "    user_mapping = lightfm_mapping['users_mapping'],\n",
    "    item_inv_mapping = lightfm_mapping['items_inv_mapping'],\n",
    "    num_threads = 20\n",
    ")"
   ]
  },
  {
   "cell_type": "code",
   "execution_count": 31,
   "id": "aab09935",
   "metadata": {},
   "outputs": [],
   "source": [
    "# get predictions\n",
    "local_test_preds['item_id'] = local_test_preds['user_id'].map(mapper)"
   ]
  },
  {
   "cell_type": "markdown",
   "id": "67e33d63",
   "metadata": {},
   "source": [
    "Prettify predictions to use in catboost - make list to rows and add rank"
   ]
  },
  {
   "cell_type": "code",
   "execution_count": 32,
   "id": "c2f1f242",
   "metadata": {},
   "outputs": [
    {
     "name": "stdout",
     "output_type": "stream",
     "text": [
      "Data shape(1447390, 4)\n"
     ]
    },
    {
     "data": {
      "text/html": [
       "<div>\n",
       "<style scoped>\n",
       "    .dataframe tbody tr th:only-of-type {\n",
       "        vertical-align: middle;\n",
       "    }\n",
       "\n",
       "    .dataframe tbody tr th {\n",
       "        vertical-align: top;\n",
       "    }\n",
       "\n",
       "    .dataframe thead th {\n",
       "        text-align: right;\n",
       "    }\n",
       "</style>\n",
       "<table border=\"1\" class=\"dataframe\">\n",
       "  <thead>\n",
       "    <tr style=\"text-align: right;\">\n",
       "      <th></th>\n",
       "      <th>user_id</th>\n",
       "      <th>item_id</th>\n",
       "      <th>rank</th>\n",
       "      <th>item_name</th>\n",
       "    </tr>\n",
       "  </thead>\n",
       "  <tbody>\n",
       "    <tr>\n",
       "      <th>0</th>\n",
       "      <td>646903</td>\n",
       "      <td>12173</td>\n",
       "      <td>1</td>\n",
       "      <td>Мстители: Финал</td>\n",
       "    </tr>\n",
       "    <tr>\n",
       "      <th>0</th>\n",
       "      <td>646903</td>\n",
       "      <td>7626</td>\n",
       "      <td>2</td>\n",
       "      <td>Мстители: Война бесконечности</td>\n",
       "    </tr>\n",
       "    <tr>\n",
       "      <th>0</th>\n",
       "      <td>646903</td>\n",
       "      <td>10440</td>\n",
       "      <td>3</td>\n",
       "      <td>Хрустальный</td>\n",
       "    </tr>\n",
       "    <tr>\n",
       "      <th>0</th>\n",
       "      <td>646903</td>\n",
       "      <td>10680</td>\n",
       "      <td>4</td>\n",
       "      <td>Дэдпул 2</td>\n",
       "    </tr>\n",
       "    <tr>\n",
       "      <th>0</th>\n",
       "      <td>646903</td>\n",
       "      <td>3095</td>\n",
       "      <td>5</td>\n",
       "      <td>Тор: Царство тьмы</td>\n",
       "    </tr>\n",
       "  </tbody>\n",
       "</table>\n",
       "</div>"
      ],
      "text/plain": [
       "   user_id item_id  rank                      item_name\n",
       "0   646903   12173     1                Мстители: Финал\n",
       "0   646903    7626     2  Мстители: Война бесконечности\n",
       "0   646903   10440     3                    Хрустальный\n",
       "0   646903   10680     4                       Дэдпул 2\n",
       "0   646903    3095     5              Тор: Царство тьмы"
      ]
     },
     "execution_count": 32,
     "metadata": {},
     "output_type": "execute_result"
    }
   ],
   "source": [
    "local_test_preds = local_test_preds.explode('item_id')\n",
    "local_test_preds['rank'] = local_test_preds.groupby('user_id').cumcount() + 1 \n",
    "local_test_preds['item_name'] = local_test_preds['item_id'].map(item_name_mapper)\n",
    "print(f'Data shape{local_test_preds.shape}')\n",
    "local_test_preds.head()"
   ]
  },
  {
   "cell_type": "code",
   "execution_count": 33,
   "id": "d6e1a98a",
   "metadata": {},
   "outputs": [
    {
     "data": {
      "text/plain": [
       "1735"
      ]
     },
     "execution_count": 33,
     "metadata": {},
     "output_type": "execute_result"
    }
   ],
   "source": [
    "# sense check for diversity of recommendations\n",
    "local_test_preds.item_id.nunique()"
   ]
  },
  {
   "cell_type": "markdown",
   "id": "2ecb9a7e",
   "metadata": {},
   "source": [
    "## 2.3. CatBoostClassifier (ReRanker)\n",
    "### 2.3.1. Data preparation\n",
    "\n",
    "We need to creat 0/1 as indication of interaction:\n",
    "\n",
    "- positive event -- 1, if watch_pct is not null;\n",
    "- negative venet -- 0 otherwise"
   ]
  },
  {
   "cell_type": "code",
   "execution_count": 34,
   "id": "e6a0f200",
   "metadata": {},
   "outputs": [
    {
     "data": {
      "text/plain": [
       "(77491, 8)"
      ]
     },
     "execution_count": 34,
     "metadata": {},
     "output_type": "execute_result"
    }
   ],
   "source": [
    "positive_preds = pd.merge(local_test_preds, local_test, how = 'inner', on = ['user_id', 'item_id'])\n",
    "positive_preds['target'] = 1\n",
    "positive_preds.shape"
   ]
  },
  {
   "cell_type": "code",
   "execution_count": 35,
   "id": "ab87a3b4",
   "metadata": {},
   "outputs": [
    {
     "data": {
      "text/plain": [
       "(273980, 8)"
      ]
     },
     "execution_count": 35,
     "metadata": {},
     "output_type": "execute_result"
    }
   ],
   "source": [
    "negative_preds = pd.merge(local_test_preds, local_test, how = 'left', on = ['user_id', 'item_id'])\n",
    "negative_preds = negative_preds.loc[negative_preds['watched_pct'].isnull()].sample(frac = .2)\n",
    "negative_preds['target'] = 0\n",
    "negative_preds.shape"
   ]
  },
  {
   "cell_type": "markdown",
   "id": "732e0778",
   "metadata": {},
   "source": [
    "Random split by users to train reranker"
   ]
  },
  {
   "cell_type": "code",
   "execution_count": 36,
   "id": "d1139a19",
   "metadata": {},
   "outputs": [],
   "source": [
    "train_users, test_users = train_test_split(\n",
    "    local_test['user_id'].unique(),\n",
    "    test_size = .2,\n",
    "    random_state = 13\n",
    "    )"
   ]
  },
  {
   "cell_type": "markdown",
   "id": "ccec1e5b",
   "metadata": {},
   "source": [
    "Set up train/test set and shuffle samples"
   ]
  },
  {
   "cell_type": "code",
   "execution_count": 37,
   "id": "d3e0aa60",
   "metadata": {},
   "outputs": [],
   "source": [
    "cbm_train_set = shuffle(\n",
    "    pd.concat(\n",
    "    [positive_preds.loc[positive_preds['user_id'].isin(train_users)],\n",
    "    negative_preds.loc[negative_preds['user_id'].isin(train_users)]]\n",
    "    )\n",
    ")"
   ]
  },
  {
   "cell_type": "code",
   "execution_count": 38,
   "id": "d57a4734",
   "metadata": {},
   "outputs": [],
   "source": [
    "cbm_test_set = shuffle(\n",
    "    pd.concat(\n",
    "    [positive_preds.loc[positive_preds['user_id'].isin(test_users)],\n",
    "    negative_preds.loc[negative_preds['user_id'].isin(test_users)]]\n",
    "    )\n",
    ")"
   ]
  },
  {
   "cell_type": "code",
   "execution_count": 39,
   "id": "a1b8ec06",
   "metadata": {},
   "outputs": [
    {
     "name": "stdout",
     "output_type": "stream",
     "text": [
      "TRAIN:           user_id       rank   total_dur  watched_pct     target\n",
      "count  280845.000 280845.000   61814.000    61814.000 280845.000\n",
      "mean   548921.571      5.298   18622.252       65.276      0.220\n",
      "std    316561.905      2.887   35416.013       36.873      0.414\n",
      "min        11.000      1.000     301.000        0.000      0.000\n",
      "25%    273952.000      3.000    3976.250       25.000      0.000\n",
      "50%    549102.000      5.000    7814.000       80.000      0.000\n",
      "75%    822223.000      8.000   22667.750      100.000      0.000\n",
      "max   1097521.000     10.000 2414017.000      100.000      1.000 \n",
      ", TEST:           user_id      rank   total_dur  watched_pct    target\n",
      "count   70626.000 70626.000   15677.000    15677.000 70626.000\n",
      "mean   549560.885     5.321   19113.188       65.127     0.222\n",
      "std    316626.772     2.892   37567.542       36.911     0.416\n",
      "min       106.000     1.000     302.000        0.000     0.000\n",
      "25%    275010.000     3.000    3918.000       25.000     0.000\n",
      "50%    550374.000     5.000    7754.000       80.000     0.000\n",
      "75%    824127.000     8.000   22779.000      100.000     0.000\n",
      "max   1097486.000    10.000 1106620.000      100.000     1.000\n"
     ]
    }
   ],
   "source": [
    "print(f'TRAIN: {cbm_train_set.describe()} \\n, TEST: {cbm_test_set.describe()}')"
   ]
  },
  {
   "cell_type": "code",
   "execution_count": 40,
   "id": "f4d88c5c",
   "metadata": {},
   "outputs": [],
   "source": [
    "# in this tutorial, I will not do any feature aggregation - use default ones from data\n",
    "USER_FEATURES = ['age', 'income', 'sex', 'kids_flg']\n",
    "ITEM_FEATURES = ['content_type', 'release_year', 'for_kids', 'age_rating']"
   ]
  },
  {
   "cell_type": "markdown",
   "id": "fa54b9b9",
   "metadata": {},
   "source": [
    "Prepare final datasets - joins user and item features"
   ]
  },
  {
   "cell_type": "code",
   "execution_count": 41,
   "id": "ed0e7edc",
   "metadata": {},
   "outputs": [],
   "source": [
    "cbm_train_set = pd.merge(cbm_train_set, users_data[['user_id'] + USER_FEATURES],\n",
    "                         how = 'left', on = ['user_id'])\n",
    "cbm_test_set = pd.merge(cbm_test_set, users_data[['user_id'] + USER_FEATURES],\n",
    "                        how = 'left', on = ['user_id'])\n"
   ]
  },
  {
   "cell_type": "code",
   "execution_count": 42,
   "id": "11db1388",
   "metadata": {},
   "outputs": [
    {
     "name": "stdout",
     "output_type": "stream",
     "text": [
      "(280845, 16) (70626, 16)\n"
     ]
    }
   ],
   "source": [
    "# joins item features\n",
    "cbm_train_set = pd.merge(cbm_train_set, movies_metadata[['item_id'] + ITEM_FEATURES],\n",
    "                         how = 'left', on = ['item_id'])\n",
    "cbm_test_set = pd.merge(cbm_test_set, movies_metadata[['item_id'] + ITEM_FEATURES],\n",
    "                        how = 'left', on = ['item_id'])\n",
    "\n",
    "print(cbm_train_set.shape, cbm_test_set.shape)"
   ]
  },
  {
   "cell_type": "code",
   "execution_count": 43,
   "id": "39be5e35",
   "metadata": {},
   "outputs": [
    {
     "data": {
      "text/html": [
       "<div>\n",
       "<style scoped>\n",
       "    .dataframe tbody tr th:only-of-type {\n",
       "        vertical-align: middle;\n",
       "    }\n",
       "\n",
       "    .dataframe tbody tr th {\n",
       "        vertical-align: top;\n",
       "    }\n",
       "\n",
       "    .dataframe thead th {\n",
       "        text-align: right;\n",
       "    }\n",
       "</style>\n",
       "<table border=\"1\" class=\"dataframe\">\n",
       "  <thead>\n",
       "    <tr style=\"text-align: right;\">\n",
       "      <th></th>\n",
       "      <th>user_id</th>\n",
       "      <th>item_id</th>\n",
       "      <th>rank</th>\n",
       "      <th>item_name</th>\n",
       "      <th>last_watch_dt</th>\n",
       "      <th>total_dur</th>\n",
       "      <th>watched_pct</th>\n",
       "      <th>target</th>\n",
       "      <th>age</th>\n",
       "      <th>income</th>\n",
       "      <th>sex</th>\n",
       "      <th>kids_flg</th>\n",
       "      <th>content_type</th>\n",
       "      <th>release_year</th>\n",
       "      <th>for_kids</th>\n",
       "      <th>age_rating</th>\n",
       "    </tr>\n",
       "  </thead>\n",
       "  <tbody>\n",
       "    <tr>\n",
       "      <th>0</th>\n",
       "      <td>132994</td>\n",
       "      <td>4151</td>\n",
       "      <td>4</td>\n",
       "      <td>Секреты семейной жизни</td>\n",
       "      <td>NaT</td>\n",
       "      <td>NaN</td>\n",
       "      <td>NaN</td>\n",
       "      <td>0</td>\n",
       "      <td>age_45_54</td>\n",
       "      <td>income_20_40</td>\n",
       "      <td>М</td>\n",
       "      <td>0.000</td>\n",
       "      <td>series</td>\n",
       "      <td>2021.000</td>\n",
       "      <td>NaN</td>\n",
       "      <td>18.000</td>\n",
       "    </tr>\n",
       "    <tr>\n",
       "      <th>1</th>\n",
       "      <td>100083</td>\n",
       "      <td>9728</td>\n",
       "      <td>4</td>\n",
       "      <td>Гнев человеческий</td>\n",
       "      <td>2021-07-17</td>\n",
       "      <td>6433.000</td>\n",
       "      <td>94.000</td>\n",
       "      <td>1</td>\n",
       "      <td>age_18_24</td>\n",
       "      <td>income_20_40</td>\n",
       "      <td>Ж</td>\n",
       "      <td>0.000</td>\n",
       "      <td>film</td>\n",
       "      <td>2021.000</td>\n",
       "      <td>NaN</td>\n",
       "      <td>18.000</td>\n",
       "    </tr>\n",
       "    <tr>\n",
       "      <th>2</th>\n",
       "      <td>563857</td>\n",
       "      <td>11345</td>\n",
       "      <td>6</td>\n",
       "      <td>Взрослые игры</td>\n",
       "      <td>NaT</td>\n",
       "      <td>NaN</td>\n",
       "      <td>NaN</td>\n",
       "      <td>0</td>\n",
       "      <td>age_35_44</td>\n",
       "      <td>income_20_40</td>\n",
       "      <td>Ж</td>\n",
       "      <td>1.000</td>\n",
       "      <td>film</td>\n",
       "      <td>2017.000</td>\n",
       "      <td>NaN</td>\n",
       "      <td>18.000</td>\n",
       "    </tr>\n",
       "    <tr>\n",
       "      <th>3</th>\n",
       "      <td>890569</td>\n",
       "      <td>6976</td>\n",
       "      <td>7</td>\n",
       "      <td>Искусство ограбления</td>\n",
       "      <td>NaT</td>\n",
       "      <td>NaN</td>\n",
       "      <td>NaN</td>\n",
       "      <td>0</td>\n",
       "      <td>NaN</td>\n",
       "      <td>NaN</td>\n",
       "      <td>NaN</td>\n",
       "      <td>NaN</td>\n",
       "      <td>film</td>\n",
       "      <td>2019.000</td>\n",
       "      <td>NaN</td>\n",
       "      <td>18.000</td>\n",
       "    </tr>\n",
       "    <tr>\n",
       "      <th>4</th>\n",
       "      <td>215160</td>\n",
       "      <td>10440</td>\n",
       "      <td>3</td>\n",
       "      <td>Хрустальный</td>\n",
       "      <td>NaT</td>\n",
       "      <td>NaN</td>\n",
       "      <td>NaN</td>\n",
       "      <td>0</td>\n",
       "      <td>age_25_34</td>\n",
       "      <td>income_40_60</td>\n",
       "      <td>Ж</td>\n",
       "      <td>1.000</td>\n",
       "      <td>series</td>\n",
       "      <td>2021.000</td>\n",
       "      <td>NaN</td>\n",
       "      <td>18.000</td>\n",
       "    </tr>\n",
       "  </tbody>\n",
       "</table>\n",
       "</div>"
      ],
      "text/plain": [
       "   user_id item_id  rank               item_name last_watch_dt  total_dur  \\\n",
       "0   132994    4151     4  Секреты семейной жизни           NaT        NaN   \n",
       "1   100083    9728     4       Гнев человеческий    2021-07-17   6433.000   \n",
       "2   563857   11345     6           Взрослые игры           NaT        NaN   \n",
       "3   890569    6976     7    Искусство ограбления           NaT        NaN   \n",
       "4   215160   10440     3             Хрустальный           NaT        NaN   \n",
       "\n",
       "   watched_pct  target        age        income  sex  kids_flg content_type  \\\n",
       "0          NaN       0  age_45_54  income_20_40    М     0.000       series   \n",
       "1       94.000       1  age_18_24  income_20_40    Ж     0.000         film   \n",
       "2          NaN       0  age_35_44  income_20_40    Ж     1.000         film   \n",
       "3          NaN       0        NaN           NaN  NaN       NaN         film   \n",
       "4          NaN       0  age_25_34  income_40_60    Ж     1.000       series   \n",
       "\n",
       "   release_year  for_kids  age_rating  \n",
       "0      2021.000       NaN      18.000  \n",
       "1      2021.000       NaN      18.000  \n",
       "2      2017.000       NaN      18.000  \n",
       "3      2019.000       NaN      18.000  \n",
       "4      2021.000       NaN      18.000  "
      ]
     },
     "execution_count": 43,
     "metadata": {},
     "output_type": "execute_result"
    }
   ],
   "source": [
    "cbm_train_set.head()"
   ]
  },
  {
   "cell_type": "markdown",
   "id": "34113c67",
   "metadata": {},
   "source": [
    "Set necessary cols to filter out sample"
   ]
  },
  {
   "cell_type": "code",
   "execution_count": 44,
   "id": "d3941307",
   "metadata": {},
   "outputs": [],
   "source": [
    "ID_COLS = ['user_id', 'item_id']\n",
    "TARGET = ['target']\n",
    "CATEGORICAL_COLS = ['age', 'income', 'sex', 'content_type']\n",
    "DROP_COLS = ['item_name', 'last_watch_dt', 'watched_pct', 'total_dur']"
   ]
  },
  {
   "cell_type": "code",
   "execution_count": 45,
   "id": "a82741a9",
   "metadata": {},
   "outputs": [
    {
     "name": "stdout",
     "output_type": "stream",
     "text": [
      "(280845, 9) (70626, 9)\n"
     ]
    }
   ],
   "source": [
    "X_train, y_train = cbm_train_set.drop(ID_COLS + DROP_COLS + TARGET, axis = 1), cbm_train_set[TARGET]\n",
    "X_test, y_test = cbm_test_set.drop(ID_COLS + DROP_COLS + TARGET, axis = 1), cbm_test_set[TARGET]\n",
    "print(X_train.shape, X_test.shape)"
   ]
  },
  {
   "cell_type": "markdown",
   "id": "001e3a6d",
   "metadata": {},
   "source": [
    "Fill missing values with mode - just in case by default"
   ]
  },
  {
   "cell_type": "code",
   "execution_count": 46,
   "id": "1c9d1340",
   "metadata": {},
   "outputs": [],
   "source": [
    "X_train = X_train.fillna(X_train.mode().iloc[0])\n",
    "X_test = X_test.fillna(X_test.mode().iloc[0])"
   ]
  },
  {
   "cell_type": "markdown",
   "id": "a38800c8",
   "metadata": {},
   "source": [
    "### 2.3.2 Train the model"
   ]
  },
  {
   "cell_type": "code",
   "execution_count": 47,
   "id": "a06f2148",
   "metadata": {},
   "outputs": [],
   "source": [
    "cbm_classifier = CatBoostClassifier(\n",
    "    loss_function = 'CrossEntropy',\n",
    "    iterations = 5000,\n",
    "    learning_rate = .1,\n",
    "    depth = 6,\n",
    "    random_state = 1234,\n",
    "    verbose = True\n",
    ")"
   ]
  },
  {
   "cell_type": "code",
   "execution_count": 48,
   "id": "2d5720cc",
   "metadata": {},
   "outputs": [
    {
     "data": {
      "text/plain": [
       "<catboost.core.CatBoostClassifier at 0x7fa62aaf7910>"
      ]
     },
     "execution_count": 48,
     "metadata": {},
     "output_type": "execute_result"
    }
   ],
   "source": [
    "cbm_classifier.fit(\n",
    "    X_train, y_train,\n",
    "    eval_set=(X_test, y_test),\n",
    "    early_stopping_rounds = 100, # to avoid overfitting,\n",
    "    cat_features = CATEGORICAL_COLS,\n",
    "    verbose = False\n",
    ")"
   ]
  },
  {
   "cell_type": "markdown",
   "id": "1bc6f054",
   "metadata": {},
   "source": [
    "### 2.3.3. Model Evaluation\n",
    "Let's make basic shapley plot to investigate feature importance. We expect that `rank` - predicted\n",
    "order from LightFM - must be on top"
   ]
  },
  {
   "cell_type": "code",
   "execution_count": 49,
   "id": "692dd760",
   "metadata": {},
   "outputs": [],
   "source": [
    "explainer = shap.TreeExplainer(cbm_classifier)\n",
    "shap_values = explainer.shap_values(X_train)"
   ]
  },
  {
   "cell_type": "code",
   "execution_count": 50,
   "id": "0c3fdf9c",
   "metadata": {},
   "outputs": [
    {
     "data": {
      "image/png": "[encoded data removed]",
      "text/plain": [
       "<Figure size 800x510 with 1 Axes>"
      ]
     },
     "metadata": {},
     "output_type": "display_data"
    }
   ],
   "source": [
    "shap.summary_plot(shap_values, X_train, show = False, color_bar = False)"
   ]
  },
  {
   "cell_type": "markdown",
   "id": "2cd23b90",
   "metadata": {},
   "source": [
    "Let's see performance of the classifier"
   ]
  },
  {
   "cell_type": "code",
   "execution_count": 51,
   "id": "c0c217d6",
   "metadata": {},
   "outputs": [
    {
     "name": "stdout",
     "output_type": "stream",
     "text": [
      "ROC AUC score = 0.68\n"
     ]
    }
   ],
   "source": [
    "# predictions on test\n",
    "from sklearn.metrics import roc_auc_score\n",
    "y_test_pred = cbm_classifier.predict_proba(X_test)\n",
    "\n",
    "print(f\"ROC AUC score = {roc_auc_score(y_test, y_test_pred[:, 1]):.2f}\")"
   ]
  },
  {
   "cell_type": "markdown",
   "id": "5b4214d2",
   "metadata": {},
   "source": [
    "### 2.4. Evaluation on global test\n",
    "Here, we compare predictions of two models - LightFM vs LightFM + CatBoost.\n",
    "First, let's calculate predictions from both models - here we generate candidates via LightFM."
   ]
  },
  {
   "cell_type": "code",
   "execution_count": 52,
   "id": "42908e31",
   "metadata": {},
   "outputs": [],
   "source": [
    "global_test_predictions = pd.DataFrame({\n",
    "    'user_id': global_test['user_id'].unique()\n",
    "        }\n",
    "    )\n",
    "\n",
    "# filter out cold start users\n",
    "global_test_predictions = global_test_predictions.loc[global_test_predictions['user_id'].isin(local_train.user_id.unique())]"
   ]
  },
  {
   "cell_type": "code",
   "execution_count": 53,
   "id": "e515f6d5",
   "metadata": {},
   "outputs": [],
   "source": [
    "# set param for number of candidates\n",
    "top_k = 100\n",
    "\n",
    "# generate list of watched titles to filter\n",
    "watched_movies = local_train.groupby('user_id')['item_id'].apply(list).to_dict()\n",
    "\n",
    "mapper = generate_lightfm_recs_mapper(\n",
    "    lfm_model, \n",
    "    item_ids = all_cols, \n",
    "    known_items = watched_movies,\n",
    "    N = top_k,\n",
    "    user_features = None, \n",
    "    item_features = None, \n",
    "    user_mapping = lightfm_mapping['users_mapping'],\n",
    "    item_inv_mapping = lightfm_mapping['items_inv_mapping'],\n",
    "    num_threads = 10\n",
    ")\n",
    "\n",
    "global_test_predictions['item_id'] = global_test_predictions['user_id'].map(mapper)\n",
    "global_test_predictions = global_test_predictions.explode('item_id').reset_index(drop=True)\n",
    "global_test_predictions['rank'] = global_test_predictions.groupby('user_id').cumcount() + 1 "
   ]
  },
  {
   "cell_type": "markdown",
   "id": "f1ed6e97",
   "metadata": {},
   "source": [
    "Now, we can move to reranker to make predictions and make new order.\n",
    "Beforehand, we need to prepare data for reranker"
   ]
  },
  {
   "cell_type": "code",
   "execution_count": 54,
   "id": "fda4345e",
   "metadata": {},
   "outputs": [
    {
     "data": {
      "text/html": [
       "<div>\n",
       "<style scoped>\n",
       "    .dataframe tbody tr th:only-of-type {\n",
       "        vertical-align: middle;\n",
       "    }\n",
       "\n",
       "    .dataframe tbody tr th {\n",
       "        vertical-align: top;\n",
       "    }\n",
       "\n",
       "    .dataframe thead th {\n",
       "        text-align: right;\n",
       "    }\n",
       "</style>\n",
       "<table border=\"1\" class=\"dataframe\">\n",
       "  <thead>\n",
       "    <tr style=\"text-align: right;\">\n",
       "      <th></th>\n",
       "      <th>user_id</th>\n",
       "      <th>item_id</th>\n",
       "      <th>rank</th>\n",
       "      <th>age</th>\n",
       "      <th>income</th>\n",
       "      <th>sex</th>\n",
       "      <th>kids_flg</th>\n",
       "      <th>content_type</th>\n",
       "      <th>release_year</th>\n",
       "      <th>for_kids</th>\n",
       "      <th>age_rating</th>\n",
       "    </tr>\n",
       "  </thead>\n",
       "  <tbody>\n",
       "    <tr>\n",
       "      <th>0</th>\n",
       "      <td>203219</td>\n",
       "      <td>10440</td>\n",
       "      <td>1</td>\n",
       "      <td>NaN</td>\n",
       "      <td>NaN</td>\n",
       "      <td>NaN</td>\n",
       "      <td>NaN</td>\n",
       "      <td>series</td>\n",
       "      <td>2021.000</td>\n",
       "      <td>NaN</td>\n",
       "      <td>18.000</td>\n",
       "    </tr>\n",
       "    <tr>\n",
       "      <th>1</th>\n",
       "      <td>203219</td>\n",
       "      <td>15297</td>\n",
       "      <td>2</td>\n",
       "      <td>NaN</td>\n",
       "      <td>NaN</td>\n",
       "      <td>NaN</td>\n",
       "      <td>NaN</td>\n",
       "      <td>series</td>\n",
       "      <td>2021.000</td>\n",
       "      <td>NaN</td>\n",
       "      <td>18.000</td>\n",
       "    </tr>\n",
       "    <tr>\n",
       "      <th>2</th>\n",
       "      <td>203219</td>\n",
       "      <td>13865</td>\n",
       "      <td>3</td>\n",
       "      <td>NaN</td>\n",
       "      <td>NaN</td>\n",
       "      <td>NaN</td>\n",
       "      <td>NaN</td>\n",
       "      <td>film</td>\n",
       "      <td>2021.000</td>\n",
       "      <td>NaN</td>\n",
       "      <td>12.000</td>\n",
       "    </tr>\n",
       "    <tr>\n",
       "      <th>3</th>\n",
       "      <td>203219</td>\n",
       "      <td>4151</td>\n",
       "      <td>4</td>\n",
       "      <td>NaN</td>\n",
       "      <td>NaN</td>\n",
       "      <td>NaN</td>\n",
       "      <td>NaN</td>\n",
       "      <td>series</td>\n",
       "      <td>2021.000</td>\n",
       "      <td>NaN</td>\n",
       "      <td>18.000</td>\n",
       "    </tr>\n",
       "    <tr>\n",
       "      <th>4</th>\n",
       "      <td>203219</td>\n",
       "      <td>9728</td>\n",
       "      <td>5</td>\n",
       "      <td>NaN</td>\n",
       "      <td>NaN</td>\n",
       "      <td>NaN</td>\n",
       "      <td>NaN</td>\n",
       "      <td>film</td>\n",
       "      <td>2021.000</td>\n",
       "      <td>NaN</td>\n",
       "      <td>18.000</td>\n",
       "    </tr>\n",
       "  </tbody>\n",
       "</table>\n",
       "</div>"
      ],
      "text/plain": [
       "   user_id item_id  rank  age income  sex  kids_flg content_type  \\\n",
       "0   203219   10440     1  NaN    NaN  NaN       NaN       series   \n",
       "1   203219   15297     2  NaN    NaN  NaN       NaN       series   \n",
       "2   203219   13865     3  NaN    NaN  NaN       NaN         film   \n",
       "3   203219    4151     4  NaN    NaN  NaN       NaN       series   \n",
       "4   203219    9728     5  NaN    NaN  NaN       NaN         film   \n",
       "\n",
       "   release_year  for_kids  age_rating  \n",
       "0      2021.000       NaN      18.000  \n",
       "1      2021.000       NaN      18.000  \n",
       "2      2021.000       NaN      12.000  \n",
       "3      2021.000       NaN      18.000  \n",
       "4      2021.000       NaN      18.000  "
      ]
     },
     "execution_count": 54,
     "metadata": {},
     "output_type": "execute_result"
    }
   ],
   "source": [
    "cbm_global_test = pd.merge(global_test_predictions, users_data[['user_id'] + USER_FEATURES],\n",
    "                         how = 'left', on = ['user_id'])\n",
    "\n",
    "cbm_global_test = pd.merge(cbm_global_test, movies_metadata[['item_id'] + ITEM_FEATURES],\n",
    "                         how = 'left', on = ['item_id'])\n",
    "cbm_global_test.head()"
   ]
  },
  {
   "cell_type": "markdown",
   "id": "5335a032",
   "metadata": {},
   "source": [
    "Fill missing values with the most frequent values"
   ]
  },
  {
   "cell_type": "code",
   "execution_count": 55,
   "id": "2a653f8d",
   "metadata": {},
   "outputs": [],
   "source": [
    "cbm_global_test = cbm_global_test.fillna(cbm_global_test.mode().iloc[0])"
   ]
  },
  {
   "cell_type": "markdown",
   "id": "c1d3f2eb",
   "metadata": {},
   "source": [
    "Predict scores to get ranks"
   ]
  },
  {
   "cell_type": "code",
   "execution_count": 56,
   "id": "7d12ee69",
   "metadata": {},
   "outputs": [
    {
     "data": {
      "text/html": [
       "<div>\n",
       "<style scoped>\n",
       "    .dataframe tbody tr th:only-of-type {\n",
       "        vertical-align: middle;\n",
       "    }\n",
       "\n",
       "    .dataframe tbody tr th {\n",
       "        vertical-align: top;\n",
       "    }\n",
       "\n",
       "    .dataframe thead th {\n",
       "        text-align: right;\n",
       "    }\n",
       "</style>\n",
       "<table border=\"1\" class=\"dataframe\">\n",
       "  <thead>\n",
       "    <tr style=\"text-align: right;\">\n",
       "      <th></th>\n",
       "      <th>user_id</th>\n",
       "      <th>item_id</th>\n",
       "      <th>rank</th>\n",
       "      <th>age</th>\n",
       "      <th>income</th>\n",
       "      <th>sex</th>\n",
       "      <th>kids_flg</th>\n",
       "      <th>content_type</th>\n",
       "      <th>release_year</th>\n",
       "      <th>for_kids</th>\n",
       "      <th>age_rating</th>\n",
       "      <th>cbm_preds</th>\n",
       "    </tr>\n",
       "  </thead>\n",
       "  <tbody>\n",
       "    <tr>\n",
       "      <th>0</th>\n",
       "      <td>203219</td>\n",
       "      <td>10440</td>\n",
       "      <td>1</td>\n",
       "      <td>age_35_44</td>\n",
       "      <td>income_20_40</td>\n",
       "      <td>М</td>\n",
       "      <td>0.000</td>\n",
       "      <td>series</td>\n",
       "      <td>2021.000</td>\n",
       "      <td>0.000</td>\n",
       "      <td>18.000</td>\n",
       "      <td>0.348</td>\n",
       "    </tr>\n",
       "    <tr>\n",
       "      <th>1</th>\n",
       "      <td>203219</td>\n",
       "      <td>15297</td>\n",
       "      <td>2</td>\n",
       "      <td>age_35_44</td>\n",
       "      <td>income_20_40</td>\n",
       "      <td>М</td>\n",
       "      <td>0.000</td>\n",
       "      <td>series</td>\n",
       "      <td>2021.000</td>\n",
       "      <td>0.000</td>\n",
       "      <td>18.000</td>\n",
       "      <td>0.327</td>\n",
       "    </tr>\n",
       "    <tr>\n",
       "      <th>2</th>\n",
       "      <td>203219</td>\n",
       "      <td>13865</td>\n",
       "      <td>3</td>\n",
       "      <td>age_35_44</td>\n",
       "      <td>income_20_40</td>\n",
       "      <td>М</td>\n",
       "      <td>0.000</td>\n",
       "      <td>film</td>\n",
       "      <td>2021.000</td>\n",
       "      <td>0.000</td>\n",
       "      <td>12.000</td>\n",
       "      <td>0.320</td>\n",
       "    </tr>\n",
       "    <tr>\n",
       "      <th>3</th>\n",
       "      <td>203219</td>\n",
       "      <td>4151</td>\n",
       "      <td>4</td>\n",
       "      <td>age_35_44</td>\n",
       "      <td>income_20_40</td>\n",
       "      <td>М</td>\n",
       "      <td>0.000</td>\n",
       "      <td>series</td>\n",
       "      <td>2021.000</td>\n",
       "      <td>0.000</td>\n",
       "      <td>18.000</td>\n",
       "      <td>0.256</td>\n",
       "    </tr>\n",
       "    <tr>\n",
       "      <th>4</th>\n",
       "      <td>203219</td>\n",
       "      <td>9728</td>\n",
       "      <td>5</td>\n",
       "      <td>age_35_44</td>\n",
       "      <td>income_20_40</td>\n",
       "      <td>М</td>\n",
       "      <td>0.000</td>\n",
       "      <td>film</td>\n",
       "      <td>2021.000</td>\n",
       "      <td>0.000</td>\n",
       "      <td>18.000</td>\n",
       "      <td>0.368</td>\n",
       "    </tr>\n",
       "  </tbody>\n",
       "</table>\n",
       "</div>"
      ],
      "text/plain": [
       "   user_id  item_id  rank        age        income sex  kids_flg content_type  \\\n",
       "0   203219    10440     1  age_35_44  income_20_40   М     0.000       series   \n",
       "1   203219    15297     2  age_35_44  income_20_40   М     0.000       series   \n",
       "2   203219    13865     3  age_35_44  income_20_40   М     0.000         film   \n",
       "3   203219     4151     4  age_35_44  income_20_40   М     0.000       series   \n",
       "4   203219     9728     5  age_35_44  income_20_40   М     0.000         film   \n",
       "\n",
       "   release_year  for_kids  age_rating  cbm_preds  \n",
       "0      2021.000     0.000      18.000      0.348  \n",
       "1      2021.000     0.000      18.000      0.327  \n",
       "2      2021.000     0.000      12.000      0.320  \n",
       "3      2021.000     0.000      18.000      0.256  \n",
       "4      2021.000     0.000      18.000      0.368  "
      ]
     },
     "execution_count": 56,
     "metadata": {},
     "output_type": "execute_result"
    }
   ],
   "source": [
    "cbm_global_test['cbm_preds'] = cbm_classifier.predict_proba(cbm_global_test[X_train.columns])[:, 1]\n",
    "cbm_global_test.head()"
   ]
  },
  {
   "cell_type": "code",
   "execution_count": 57,
   "id": "1fc0754b",
   "metadata": {},
   "outputs": [
    {
     "data": {
      "text/html": [
       "<div>\n",
       "<style scoped>\n",
       "    .dataframe tbody tr th:only-of-type {\n",
       "        vertical-align: middle;\n",
       "    }\n",
       "\n",
       "    .dataframe tbody tr th {\n",
       "        vertical-align: top;\n",
       "    }\n",
       "\n",
       "    .dataframe thead th {\n",
       "        text-align: right;\n",
       "    }\n",
       "</style>\n",
       "<table border=\"1\" class=\"dataframe\">\n",
       "  <thead>\n",
       "    <tr style=\"text-align: right;\">\n",
       "      <th></th>\n",
       "      <th>user_id</th>\n",
       "      <th>item_id</th>\n",
       "      <th>rank</th>\n",
       "      <th>age</th>\n",
       "      <th>income</th>\n",
       "      <th>sex</th>\n",
       "      <th>kids_flg</th>\n",
       "      <th>content_type</th>\n",
       "      <th>release_year</th>\n",
       "      <th>for_kids</th>\n",
       "      <th>age_rating</th>\n",
       "      <th>cbm_preds</th>\n",
       "      <th>cbm_rank</th>\n",
       "    </tr>\n",
       "  </thead>\n",
       "  <tbody>\n",
       "    <tr>\n",
       "      <th>5673204</th>\n",
       "      <td>14</td>\n",
       "      <td>9728</td>\n",
       "      <td>5</td>\n",
       "      <td>age_35_44</td>\n",
       "      <td>income_20_40</td>\n",
       "      <td>М</td>\n",
       "      <td>0.000</td>\n",
       "      <td>film</td>\n",
       "      <td>2021.000</td>\n",
       "      <td>0.000</td>\n",
       "      <td>18.000</td>\n",
       "      <td>0.368</td>\n",
       "      <td>1</td>\n",
       "    </tr>\n",
       "    <tr>\n",
       "      <th>5673200</th>\n",
       "      <td>14</td>\n",
       "      <td>10440</td>\n",
       "      <td>1</td>\n",
       "      <td>age_35_44</td>\n",
       "      <td>income_20_40</td>\n",
       "      <td>М</td>\n",
       "      <td>0.000</td>\n",
       "      <td>series</td>\n",
       "      <td>2021.000</td>\n",
       "      <td>0.000</td>\n",
       "      <td>18.000</td>\n",
       "      <td>0.348</td>\n",
       "      <td>2</td>\n",
       "    </tr>\n",
       "    <tr>\n",
       "      <th>5673201</th>\n",
       "      <td>14</td>\n",
       "      <td>15297</td>\n",
       "      <td>2</td>\n",
       "      <td>age_35_44</td>\n",
       "      <td>income_20_40</td>\n",
       "      <td>М</td>\n",
       "      <td>0.000</td>\n",
       "      <td>series</td>\n",
       "      <td>2021.000</td>\n",
       "      <td>0.000</td>\n",
       "      <td>18.000</td>\n",
       "      <td>0.327</td>\n",
       "      <td>3</td>\n",
       "    </tr>\n",
       "    <tr>\n",
       "      <th>5673202</th>\n",
       "      <td>14</td>\n",
       "      <td>13865</td>\n",
       "      <td>3</td>\n",
       "      <td>age_35_44</td>\n",
       "      <td>income_20_40</td>\n",
       "      <td>М</td>\n",
       "      <td>0.000</td>\n",
       "      <td>film</td>\n",
       "      <td>2021.000</td>\n",
       "      <td>0.000</td>\n",
       "      <td>12.000</td>\n",
       "      <td>0.320</td>\n",
       "      <td>4</td>\n",
       "    </tr>\n",
       "    <tr>\n",
       "      <th>5673224</th>\n",
       "      <td>14</td>\n",
       "      <td>14703</td>\n",
       "      <td>25</td>\n",
       "      <td>age_35_44</td>\n",
       "      <td>income_20_40</td>\n",
       "      <td>М</td>\n",
       "      <td>0.000</td>\n",
       "      <td>film</td>\n",
       "      <td>2021.000</td>\n",
       "      <td>0.000</td>\n",
       "      <td>18.000</td>\n",
       "      <td>0.278</td>\n",
       "      <td>5</td>\n",
       "    </tr>\n",
       "  </tbody>\n",
       "</table>\n",
       "</div>"
      ],
      "text/plain": [
       "         user_id  item_id  rank        age        income sex  kids_flg  \\\n",
       "5673204       14     9728     5  age_35_44  income_20_40   М     0.000   \n",
       "5673200       14    10440     1  age_35_44  income_20_40   М     0.000   \n",
       "5673201       14    15297     2  age_35_44  income_20_40   М     0.000   \n",
       "5673202       14    13865     3  age_35_44  income_20_40   М     0.000   \n",
       "5673224       14    14703    25  age_35_44  income_20_40   М     0.000   \n",
       "\n",
       "        content_type  release_year  for_kids  age_rating  cbm_preds  cbm_rank  \n",
       "5673204         film      2021.000     0.000      18.000      0.368         1  \n",
       "5673200       series      2021.000     0.000      18.000      0.348         2  \n",
       "5673201       series      2021.000     0.000      18.000      0.327         3  \n",
       "5673202         film      2021.000     0.000      12.000      0.320         4  \n",
       "5673224         film      2021.000     0.000      18.000      0.278         5  "
      ]
     },
     "execution_count": 57,
     "metadata": {},
     "output_type": "execute_result"
    }
   ],
   "source": [
    "# define cbm rank\n",
    "cbm_global_test = cbm_global_test.sort_values(by = ['user_id', 'cbm_preds'], ascending = [True, False])\n",
    "cbm_global_test['cbm_rank'] = cbm_global_test.groupby('user_id').cumcount() + 1\n",
    "cbm_global_test.head()"
   ]
  },
  {
   "cell_type": "markdown",
   "id": "d9174924",
   "metadata": {},
   "source": [
    "Finally, let's move on to comparison\n",
    "- define function to calculate matrix-based metrics;\n",
    "- create table of metrics for both models"
   ]
  },
  {
   "cell_type": "code",
   "execution_count": 58,
   "id": "9c57d445",
   "metadata": {},
   "outputs": [],
   "source": [
    "def calc_metrics(df_true, df_pred, k: int = 10, target_col = 'rank'):\n",
    "    \"\"\"\n",
    "    calculates confusion matrix based metrics\n",
    "    :df_true: pd.DataFrame\n",
    "    :df_pred: pd.DataFrame\n",
    "    :k: int, \n",
    "    \"\"\"\n",
    "    # prepare dataset\n",
    "    df = df_true.set_index(['user_id', 'item_id']).join(df_pred.set_index(['user_id', 'item_id']))\n",
    "    df = df.sort_values(by = ['user_id', target_col])\n",
    "    df['users_watch_count'] = df.groupby(level = 'user_id')[target_col].transform(np.size)\n",
    "    df['cumulative_rank'] = df.groupby(level = 'user_id').cumcount() + 1\n",
    "    df['cumulative_rank'] = df['cumulative_rank'] / df[target_col]\n",
    "    \n",
    "    # params to calculate metrics\n",
    "    output = {}\n",
    "    num_of_users = df.index.get_level_values('user_id').nunique()\n",
    "\n",
    "    # calc metrics\n",
    "    df[f'hit@{k}'] = df[target_col] <= k\n",
    "    output[f'Precision@{k}'] = (df[f'hit@{k}'] / k).sum() / num_of_users\n",
    "    output[f'Recall@{k}'] = (df[f'hit@{k}'] / df['users_watch_count']).sum() / num_of_users\n",
    "    output[f'MAP@{k}'] = (df[\"cumulative_rank\"] / df[\"users_watch_count\"]).sum() / num_of_users\n",
    "    print(f'Calculated metrics for top {k}')\n",
    "    return output"
   ]
  },
  {
   "cell_type": "code",
   "execution_count": 59,
   "id": "cfd6dcba",
   "metadata": {},
   "outputs": [
    {
     "name": "stdout",
     "output_type": "stream",
     "text": [
      "Calculated metrics for top 10\n"
     ]
    },
    {
     "data": {
      "text/plain": [
       "{'Precision@10': 0.009816680357992129,\n",
       " 'Recall@10': 0.04736486562336921,\n",
       " 'MAP@10': 0.023562297159460847}"
      ]
     },
     "execution_count": 59,
     "metadata": {},
     "output_type": "execute_result"
    }
   ],
   "source": [
    "# first-level only - LightFM\n",
    "lfm_metrics = calc_metrics(global_test, global_test_predictions)\n",
    "lfm_metrics"
   ]
  },
  {
   "cell_type": "code",
   "execution_count": 60,
   "id": "1ba28474",
   "metadata": {},
   "outputs": [
    {
     "name": "stdout",
     "output_type": "stream",
     "text": [
      "Calculated metrics for top 10\n"
     ]
    },
    {
     "data": {
      "text/plain": [
       "{'Precision@10': 0.00979852133684984,\n",
       " 'Recall@10': 0.04809699448688636,\n",
       " 'MAP@10': 0.024927993805209065}"
      ]
     },
     "execution_count": 60,
     "metadata": {},
     "output_type": "execute_result"
    }
   ],
   "source": [
    "# LightFM + ReRanker\n",
    "full_pipeline_metrics = calc_metrics(global_test, cbm_global_test, target_col = 'cbm_rank')\n",
    "full_pipeline_metrics"
   ]
  },
  {
   "cell_type": "markdown",
   "id": "6e75d377",
   "metadata": {},
   "source": [
    "Prettify both metrics calculation results for convenience"
   ]
  },
  {
   "cell_type": "code",
   "execution_count": 61,
   "id": "eb0ada27",
   "metadata": {},
   "outputs": [
    {
     "data": {
      "text/html": [
       "<div>\n",
       "<style scoped>\n",
       "    .dataframe tbody tr th:only-of-type {\n",
       "        vertical-align: middle;\n",
       "    }\n",
       "\n",
       "    .dataframe tbody tr th {\n",
       "        vertical-align: top;\n",
       "    }\n",
       "\n",
       "    .dataframe thead th {\n",
       "        text-align: right;\n",
       "    }\n",
       "</style>\n",
       "<table border=\"1\" class=\"dataframe\">\n",
       "  <thead>\n",
       "    <tr style=\"text-align: right;\">\n",
       "      <th></th>\n",
       "      <th>Precision@10</th>\n",
       "      <th>Recall@10</th>\n",
       "      <th>MAP@10</th>\n",
       "    </tr>\n",
       "  </thead>\n",
       "  <tbody>\n",
       "    <tr>\n",
       "      <th>LightFM</th>\n",
       "      <td>0.010</td>\n",
       "      <td>0.047</td>\n",
       "      <td>0.024</td>\n",
       "    </tr>\n",
       "    <tr>\n",
       "      <th>FullPipeline</th>\n",
       "      <td>0.010</td>\n",
       "      <td>0.048</td>\n",
       "      <td>0.025</td>\n",
       "    </tr>\n",
       "    <tr>\n",
       "      <th>lift_by_ranker, %</th>\n",
       "      <td>-0.185</td>\n",
       "      <td>1.546</td>\n",
       "      <td>5.796</td>\n",
       "    </tr>\n",
       "  </tbody>\n",
       "</table>\n",
       "</div>"
      ],
      "text/plain": [
       "                   Precision@10  Recall@10  MAP@10\n",
       "LightFM                   0.010      0.047   0.024\n",
       "FullPipeline              0.010      0.048   0.025\n",
       "lift_by_ranker, %        -0.185      1.546   5.796"
      ]
     },
     "execution_count": 61,
     "metadata": {},
     "output_type": "execute_result"
    }
   ],
   "source": [
    "metrics_table = pd.concat(\n",
    "    [pd.DataFrame([lfm_metrics]),\n",
    "    pd.DataFrame([full_pipeline_metrics])],\n",
    "    ignore_index = True\n",
    ")\n",
    "metrics_table.index = ['LightFM', 'FullPipeline']\n",
    "\n",
    "# calc relative diff\n",
    "metrics_table = metrics_table.append(metrics_table.pct_change().iloc[-1].mul(100).rename('lift_by_ranker, %'))\n",
    "\n",
    "metrics_table"
   ]
  },
  {
   "cell_type": "markdown",
   "id": "52b71eea",
   "metadata": {},
   "source": [
    "Thus, with a few number of features we could improve our metrics using reranker.\n",
    "Further, imagine how it can be improved if we add more features and fine tune the reranker\n",
    "\n",
    "# Source & further recommendations\n",
    "- [Kaggle Notebook for LightFM](https://www.kaggle.com/code/sharthz23/implicit-lightfm/notebook);\n",
    "- [Recommended course from MTS RecSys team on ods.ai](https://ods.ai/tracks/mts-recsys-df2020)"
   ]
  }
 ],
 "metadata": {
  "jupytext": {
   "formats": "md:myst",
   "text_representation": {
    "extension": ".md",
    "format_name": "myst"
   }
  },
  "kernelspec": {
   "display_name": "Python 3",
   "language": "python",
   "name": "python3"
  },
  "language_info": {
   "codemirror_mode": {
    "name": "ipython",
    "version": 3
   },
   "file_extension": ".py",
   "mimetype": "text/x-python",
   "name": "python",
   "nbconvert_exporter": "python",
   "pygments_lexer": "ipython3",
   "version": "3.9.17"
  },
  "source_map": [
   11,
   28,
   33,
   36,
   59,
   62,
   73,
   79,
   83,
   86,
   90,
   93,
   96,
   99,
   105,
   108,
   115,
   127,
   134,
   137,
   143,
   148,
   151,
   154,
   159,
   165,
   169,
   184,
   190,
   195,
   204,
   207,
   212,
   216,
   218,
   223,
   233,
   242,
   245,
   252,
   255,
   262,
   279,
   285,
   289,
   297,
   331,
   346,
   349,
   352,
   360,
   363,
   373,
   379,
   384,
   387,
   393,
   396,
   405,
   414,
   418,
   422,
   425,
   433,
   443,
   445,
   448,
   455,
   459,
   462,
   465,
   469,
   480,
   488,
   493,
   498,
   500,
   503,
   509,
   514,
   525,
   547,
   551,
   558,
   561,
   563,
   566,
   571,
   576,
   582,
   610,
   617,
   621,
   624,
   636
  ]
 },
 "nbformat": 4,
 "nbformat_minor": 5
}