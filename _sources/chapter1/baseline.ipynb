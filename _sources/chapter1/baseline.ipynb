{
 "cells": [
  {
   "cell_type": "markdown",
   "id": "65985f6c",
   "metadata": {},
   "source": [
    "(chapter1_part2)=\n",
    "\n",
    "# Baseline\n",
    "\n",
    "Before we dive into some models, let's define the heuristic that must be beaten. It is not just the case for RecSys\n",
    "the problem, but in all ML projects you better start with a definition of baseline to understand the efficiency of your model.\n",
    "Sometimes it is the case that some heuristics-based algorithm will do the work and it is ok -- the goal is your\n",
    "users and business value and having an exceptional ML model is not the goal at all.\n",
    "\n",
    "There are various ways to generate baseline recommendations. One of them is to recommend popular items\n",
    "based on some metrics like rating, and counters (watch times, number of purchases, clicks, etc.). Also,\n",
    "we can use grouping based on user segments to make more accurate and relevant recommendations (to some extent, of course :)).\n",
    "Here, we will use mean rating as a proxy for popularity and recommendations\n",
    "\n",
    "In this chapter, I will walk through baseline recommender using [MovieLens Data](https://www.kaggle.com/code/quangnhatbui/movie-recommender/data)\n",
    "For convenience, I uploaded it to Google Drive for centralized access for anyone. Below, there are the URLs of the main datasets that will be used\n",
    "for the baseline recommender.\n",
    "\n",
    "## 0. Configuration"
   ]
  },
  {
   "cell_type": "code",
   "execution_count": 1,
   "id": "117cfbab",
   "metadata": {},
   "outputs": [],
   "source": [
    "# links to shared data MovieLens\n",
    "RATINGS_SMALL_URL = 'http://drive.google.com/file/d/1BlZfCLLs5A13tbNSJZ1GPkHLWQOnPlE4/view?usp=share_link'\n",
    "MOVIES_METADATA_URL = 'http://drive.google.com/file/d/19g6-apYbZb5D-wRj4L7aYKhxS-fDM4Fb/view?usp=share_link'"
   ]
  },
  {
   "cell_type": "markdown",
   "id": "3e15391d",
   "metadata": {},
   "source": [
    "## 1. Modules and functions\n",
    "Now, let's import some libraries"
   ]
  },
  {
   "cell_type": "code",
   "execution_count": 2,
   "id": "29eae715",
   "metadata": {},
   "outputs": [],
   "source": [
    "# just to make it available to download w/o SSL verification\n",
    "import ssl\n",
    "ssl._create_default_https_context = ssl._create_unverified_context\n",
    "\n",
    "import numpy as np\n",
    "import pandas as pd\n",
    "import matplotlib.pyplot as plt\n",
    "\n",
    "from itertools import islice, cycle, product\n",
    "\n",
    "import warnings\n",
    "warnings.filterwarnings('ignore')\n",
    "pd.set_option('display.float_format', lambda x: '%.2f' % x)\n"
   ]
  },
  {
   "cell_type": "markdown",
   "id": "9d4dfa51",
   "metadata": {},
   "source": [
    " and define 2 useful functinons 1) read_csv_from_gdrive() to get data from provided url of a file"
   ]
  },
  {
   "cell_type": "code",
   "execution_count": 3,
   "id": "75119343",
   "metadata": {},
   "outputs": [],
   "source": [
    "def read_csv_from_gdrive(url):\n",
    "    \"\"\"\n",
    "    gets csv data from a given url (taken from file -> share -> copy link)\n",
    "    :url: example https://drive.google.com/file/d/1BlZfCLLs5A13tbNSJZ1GPkHLWQOnPlE4/view?usp=share_link\n",
    "    \"\"\"\n",
    "    file_id = url.split('/')[-2]\n",
    "    file_path = 'https://drive.google.com/uc?export=download&id=' + file_id\n",
    "    data = pd.read_csv(file_path)\n",
    "\n",
    "    return data"
   ]
  },
  {
   "cell_type": "markdown",
   "id": "9d4e87a9",
   "metadata": {},
   "source": [
    "2nd one is compute_popularity() which calculates mean rating, sorts and returns top *K* required items"
   ]
  },
  {
   "cell_type": "code",
   "execution_count": 4,
   "id": "b6f60440",
   "metadata": {},
   "outputs": [],
   "source": [
    "def compute_popularity(df: pd.DataFrame, item_id: str, max_candidates: int):\n",
    "    \"\"\"\n",
    "    calculates mean rating to define popular titles\n",
    "    \"\"\"\n",
    "    popular_titles = df.groupby(item_id).agg({'rating': np.mean})\\\n",
    "                     .sort_values(['rating'], ascending=False).head(max_candidates).index.values\n",
    "\n",
    "    return popular_titles"
   ]
  },
  {
   "cell_type": "markdown",
   "id": "2e0d45d8",
   "metadata": {},
   "source": [
    "## 2. Data\n",
    "### 2.1 Load and Describe\n",
    "\n",
    "Here, we will use two datasets:\n",
    "- interactions -- refers to `RATINGS_SMALL_URL` where we have userId, movieId, timestamp and rating (our so-called target)\n",
    "- movies_metadata -- refers to `MOVIES_METADATA_URL` where we have data all about movies - overview, genres etc."
   ]
  },
  {
   "cell_type": "code",
   "execution_count": 5,
   "id": "05d1e3c3",
   "metadata": {},
   "outputs": [
    {
     "data": {
      "text/html": [
       "<div>\n",
       "<style scoped>\n",
       "    .dataframe tbody tr th:only-of-type {\n",
       "        vertical-align: middle;\n",
       "    }\n",
       "\n",
       "    .dataframe tbody tr th {\n",
       "        vertical-align: top;\n",
       "    }\n",
       "\n",
       "    .dataframe thead th {\n",
       "        text-align: right;\n",
       "    }\n",
       "</style>\n",
       "<table border=\"1\" class=\"dataframe\">\n",
       "  <thead>\n",
       "    <tr style=\"text-align: right;\">\n",
       "      <th></th>\n",
       "      <th>userId</th>\n",
       "      <th>movieId</th>\n",
       "      <th>rating</th>\n",
       "      <th>timestamp</th>\n",
       "    </tr>\n",
       "  </thead>\n",
       "  <tbody>\n",
       "    <tr>\n",
       "      <th>0</th>\n",
       "      <td>1</td>\n",
       "      <td>31</td>\n",
       "      <td>2.50</td>\n",
       "      <td>1260759144</td>\n",
       "    </tr>\n",
       "    <tr>\n",
       "      <th>1</th>\n",
       "      <td>1</td>\n",
       "      <td>1029</td>\n",
       "      <td>3.00</td>\n",
       "      <td>1260759179</td>\n",
       "    </tr>\n",
       "    <tr>\n",
       "      <th>2</th>\n",
       "      <td>1</td>\n",
       "      <td>1061</td>\n",
       "      <td>3.00</td>\n",
       "      <td>1260759182</td>\n",
       "    </tr>\n",
       "    <tr>\n",
       "      <th>3</th>\n",
       "      <td>1</td>\n",
       "      <td>1129</td>\n",
       "      <td>2.00</td>\n",
       "      <td>1260759185</td>\n",
       "    </tr>\n",
       "    <tr>\n",
       "      <th>4</th>\n",
       "      <td>1</td>\n",
       "      <td>1172</td>\n",
       "      <td>4.00</td>\n",
       "      <td>1260759205</td>\n",
       "    </tr>\n",
       "  </tbody>\n",
       "</table>\n",
       "</div>"
      ],
      "text/plain": [
       "   userId  movieId  rating   timestamp\n",
       "0       1       31    2.50  1260759144\n",
       "1       1     1029    3.00  1260759179\n",
       "2       1     1061    3.00  1260759182\n",
       "3       1     1129    2.00  1260759185\n",
       "4       1     1172    4.00  1260759205"
      ]
     },
     "execution_count": 5,
     "metadata": {},
     "output_type": "execute_result"
    }
   ],
   "source": [
    "# interactions data\n",
    "interactions = read_csv_from_gdrive(RATINGS_SMALL_URL)\n",
    "interactions.head()"
   ]
  },
  {
   "cell_type": "markdown",
   "id": "d27403b3",
   "metadata": {},
   "source": [
    "Let's get some statistics and look at ratings' distribution"
   ]
  },
  {
   "cell_type": "code",
   "execution_count": 6,
   "id": "781e01bf",
   "metadata": {},
   "outputs": [
    {
     "data": {
      "text/html": [
       "<div>\n",
       "<style scoped>\n",
       "    .dataframe tbody tr th:only-of-type {\n",
       "        vertical-align: middle;\n",
       "    }\n",
       "\n",
       "    .dataframe tbody tr th {\n",
       "        vertical-align: top;\n",
       "    }\n",
       "\n",
       "    .dataframe thead th {\n",
       "        text-align: right;\n",
       "    }\n",
       "</style>\n",
       "<table border=\"1\" class=\"dataframe\">\n",
       "  <thead>\n",
       "    <tr style=\"text-align: right;\">\n",
       "      <th></th>\n",
       "      <th>userId</th>\n",
       "      <th>movieId</th>\n",
       "      <th>rating</th>\n",
       "      <th>timestamp</th>\n",
       "    </tr>\n",
       "  </thead>\n",
       "  <tbody>\n",
       "    <tr>\n",
       "      <th>count</th>\n",
       "      <td>100004.00</td>\n",
       "      <td>100004.00</td>\n",
       "      <td>100004.00</td>\n",
       "      <td>100004.00</td>\n",
       "    </tr>\n",
       "    <tr>\n",
       "      <th>mean</th>\n",
       "      <td>347.01</td>\n",
       "      <td>12548.66</td>\n",
       "      <td>3.54</td>\n",
       "      <td>1129639086.94</td>\n",
       "    </tr>\n",
       "    <tr>\n",
       "      <th>std</th>\n",
       "      <td>195.16</td>\n",
       "      <td>26369.20</td>\n",
       "      <td>1.06</td>\n",
       "      <td>191685826.03</td>\n",
       "    </tr>\n",
       "    <tr>\n",
       "      <th>min</th>\n",
       "      <td>1.00</td>\n",
       "      <td>1.00</td>\n",
       "      <td>0.50</td>\n",
       "      <td>789652009.00</td>\n",
       "    </tr>\n",
       "    <tr>\n",
       "      <th>25%</th>\n",
       "      <td>182.00</td>\n",
       "      <td>1028.00</td>\n",
       "      <td>3.00</td>\n",
       "      <td>965847824.00</td>\n",
       "    </tr>\n",
       "    <tr>\n",
       "      <th>50%</th>\n",
       "      <td>367.00</td>\n",
       "      <td>2406.50</td>\n",
       "      <td>4.00</td>\n",
       "      <td>1110421822.00</td>\n",
       "    </tr>\n",
       "    <tr>\n",
       "      <th>75%</th>\n",
       "      <td>520.00</td>\n",
       "      <td>5418.00</td>\n",
       "      <td>4.00</td>\n",
       "      <td>1296192495.50</td>\n",
       "    </tr>\n",
       "    <tr>\n",
       "      <th>max</th>\n",
       "      <td>671.00</td>\n",
       "      <td>163949.00</td>\n",
       "      <td>5.00</td>\n",
       "      <td>1476640644.00</td>\n",
       "    </tr>\n",
       "  </tbody>\n",
       "</table>\n",
       "</div>"
      ],
      "text/plain": [
       "         userId   movieId    rating     timestamp\n",
       "count 100004.00 100004.00 100004.00     100004.00\n",
       "mean     347.01  12548.66      3.54 1129639086.94\n",
       "std      195.16  26369.20      1.06  191685826.03\n",
       "min        1.00      1.00      0.50  789652009.00\n",
       "25%      182.00   1028.00      3.00  965847824.00\n",
       "50%      367.00   2406.50      4.00 1110421822.00\n",
       "75%      520.00   5418.00      4.00 1296192495.50\n",
       "max      671.00 163949.00      5.00 1476640644.00"
      ]
     },
     "execution_count": 6,
     "metadata": {},
     "output_type": "execute_result"
    }
   ],
   "source": [
    "interactions.describe()"
   ]
  },
  {
   "cell_type": "code",
   "execution_count": 7,
   "id": "5138c1df",
   "metadata": {},
   "outputs": [
    {
     "data": {
      "image/png": "[encoded data removed]",
      "text/plain": [
       "<Figure size 640x480 with 1 Axes>"
      ]
     },
     "metadata": {},
     "output_type": "display_data"
    }
   ],
   "source": [
    "plt.style.use('ggplot')\n",
    "interactions['rating'].hist();\n",
    "plt.title('Ratings Distribtion');\n"
   ]
  },
  {
   "cell_type": "markdown",
   "id": "f46e0b14",
   "metadata": {},
   "source": [
    "We see that in most cases we have a 4 or 5 rating - the right tail is fatter.\n",
    "Now, let's move on to movies metadata"
   ]
  },
  {
   "cell_type": "code",
   "execution_count": 8,
   "id": "7617733d",
   "metadata": {},
   "outputs": [],
   "source": [
    "# information about films etc\n",
    "movies_metadata = read_csv_from_gdrive(MOVIES_METADATA_URL)"
   ]
  },
  {
   "cell_type": "markdown",
   "id": "12cb353b",
   "metadata": {},
   "source": [
    "Which columns / info we have and their types - namings are pretty straightforward"
   ]
  },
  {
   "cell_type": "code",
   "execution_count": 9,
   "id": "c8a1e603",
   "metadata": {},
   "outputs": [
    {
     "name": "stdout",
     "output_type": "stream",
     "text": [
      "<class 'pandas.core.frame.DataFrame'>\n",
      "RangeIndex: 45466 entries, 0 to 45465\n",
      "Data columns (total 24 columns):\n",
      " #   Column                 Non-Null Count  Dtype  \n",
      "---  ------                 --------------  -----  \n",
      " 0   adult                  45466 non-null  object \n",
      " 1   belongs_to_collection  4494 non-null   object \n",
      " 2   budget                 45466 non-null  object \n",
      " 3   genres                 45466 non-null  object \n",
      " 4   homepage               7782 non-null   object \n",
      " 5   id                     45466 non-null  object \n",
      " 6   imdb_id                45449 non-null  object \n",
      " 7   original_language      45455 non-null  object \n",
      " 8   original_title         45466 non-null  object \n",
      " 9   overview               44512 non-null  object \n",
      " 10  popularity             45461 non-null  object \n",
      " 11  poster_path            45080 non-null  object \n",
      " 12  production_companies   45463 non-null  object \n",
      " 13  production_countries   45463 non-null  object \n",
      " 14  release_date           45379 non-null  object \n",
      " 15  revenue                45460 non-null  float64\n",
      " 16  runtime                45203 non-null  float64\n",
      " 17  spoken_languages       45460 non-null  object \n",
      " 18  status                 45379 non-null  object \n",
      " 19  tagline                20412 non-null  object \n",
      " 20  title                  45460 non-null  object \n",
      " 21  video                  45460 non-null  object \n",
      " 22  vote_average           45460 non-null  float64\n",
      " 23  vote_count             45460 non-null  float64\n",
      "dtypes: float64(4), object(20)\n",
      "memory usage: 8.3+ MB\n"
     ]
    }
   ],
   "source": [
    "movies_metadata.info()"
   ]
  },
  {
   "cell_type": "markdown",
   "id": "576c8734",
   "metadata": {},
   "source": [
    "### 2.2. Data Preparation\n",
    "Here, we will\n",
    "- preprocess column names;\n",
    "- set similar typing;\n",
    "- leave movies in `interactions` that are present in `movies_metadata`;\n",
    "- create users dataset for recommendatinos;\n",
    "- movies name and movie mapper for convenience\n",
    "\n",
    "First, we need to merge two dataframes and for that, it is necessary to make appropriate typing and column names for convenience.\n",
    "The relationship between both datasets is set by movie id."
   ]
  },
  {
   "cell_type": "code",
   "execution_count": 10,
   "id": "a1305b06",
   "metadata": {},
   "outputs": [],
   "source": [
    "# align data in both dataframes to merge\n",
    "interactions['movieId'] = interactions['movieId'].astype(str)\n",
    "movies_metadata.rename(columns = {'id': 'movieId'}, inplace = True)"
   ]
  },
  {
   "cell_type": "code",
   "execution_count": 11,
   "id": "b767b9ad",
   "metadata": {},
   "outputs": [
    {
     "name": "stdout",
     "output_type": "stream",
     "text": [
      "(100004, 4) (44989, 4)\n"
     ]
    }
   ],
   "source": [
    "# leave only those films that intersect with each other\n",
    "interactions_filtered = interactions.loc[interactions['movieId'].isin(movies_metadata['movieId'])]\n",
    "print(interactions.shape, interactions_filtered.shape)"
   ]
  },
  {
   "cell_type": "code",
   "execution_count": 12,
   "id": "f37526d1",
   "metadata": {},
   "outputs": [],
   "source": [
    "# create users input\n",
    "users = interactions[['userId']].drop_duplicates().reset_index(drop = True)"
   ]
  },
  {
   "cell_type": "code",
   "execution_count": 13,
   "id": "4b07a759",
   "metadata": {},
   "outputs": [],
   "source": [
    "# create mapper for movieId and title names\n",
    "item_name_mapper = dict(zip(movies_metadata['movieId'], movies_metadata['original_title']))"
   ]
  },
  {
   "cell_type": "markdown",
   "id": "703ad530",
   "metadata": {},
   "source": [
    "## 3. Model\n",
    "Let's define our baseline popularity recommender BaselineRecommender - top-rated titles based on average rating with a possibility to get by any group(s)\n",
    "\n",
    "The pipeline will be similar to most python ML modules -- it will have two methods in the end: fit() and recommend()\n",
    "\n",
    "The logic of `fit()` as follow:\n",
    "- Initiate recommendation based on a median rating from all observations recomm_common;\n",
    "- Prepare a list of interacted items by users\n",
    "- If we set groups - we get recommendations i.e. calculate movie ratings by groups:\n",
    "    - If we get NaN, we fill it with base recommendations \n",
    "    - If we get less than the required number of candidates, we populate from base recommendations\n",
    "\n",
    "The logic of `recommend()`:\n",
    "- Return base recommendations if users data is not set;\n",
    "- In the case of category wise requirements -- we get results of our fit\n",
    "\n",
    "### 3.1. Fit\n",
    "First, we define how many candidates we want to get"
   ]
  },
  {
   "cell_type": "code",
   "execution_count": 14,
   "id": "6f3cd2bd",
   "metadata": {},
   "outputs": [],
   "source": [
    "MAX_CANDIDATES = 20\n",
    "ITEM_COLUMN = 'movieId'\n",
    "USER_COLUMN = 'userId'"
   ]
  },
  {
   "cell_type": "markdown",
   "id": "bdd2441b",
   "metadata": {},
   "source": [
    "Then, we extract top 20 movies by aggregating movies and averaging rating column across all users"
   ]
  },
  {
   "cell_type": "code",
   "execution_count": 15,
   "id": "75ec29b7",
   "metadata": {},
   "outputs": [
    {
     "data": {
      "text/plain": [
       "array(['74727', '128846', '702', '127728', '65216', '43267', '8675',\n",
       "       '80717', '86817', '8699', '872', '27724', '26791', '876', '64278',\n",
       "       '301', '59392', '3021', '3112', '1933'], dtype=object)"
      ]
     },
     "execution_count": 15,
     "metadata": {},
     "output_type": "execute_result"
    }
   ],
   "source": [
    "base_recommendations = compute_popularity(interactions_filtered, ITEM_COLUMN, MAX_CANDIDATES)\n",
    "base_recommendations"
   ]
  },
  {
   "cell_type": "markdown",
   "id": "1d77d8db",
   "metadata": {},
   "source": [
    "Thus, we got 20 films with the highest average rating\n",
    "Now, as we discussed earlier, in movie recommendations there is no need to recommend the same film which the user has already watched. Let's implement it as well\n",
    "We get all interacted items for each user and save them in dictionary {'userId': [items list]}"
   ]
  },
  {
   "cell_type": "code",
   "execution_count": 16,
   "id": "969ed55a",
   "metadata": {},
   "outputs": [
    {
     "name": "stdout",
     "output_type": "stream",
     "text": [
      "Number of users with known items: 671 \n",
      "\n",
      "Example of known item ids for particaular user: ['1371', '1405', '2105', '2193', '2294', '2455']\n"
     ]
    }
   ],
   "source": [
    "known_items = interactions_filtered.groupby(USER_COLUMN)[ITEM_COLUMN].apply(list).to_dict()\n",
    "print(f\"Number of users with known items: {len(known_items)} \\n\")\n",
    "\n",
    "# let's check it for one userId = 1\n",
    "print(f\"Example of known item ids for particaular user: {known_items[1]}\")"
   ]
  },
  {
   "cell_type": "markdown",
   "id": "5e868894",
   "metadata": {},
   "source": [
    "Now we have all the necessary components: base recommendations without groups with the possibility to filter already watched items\n",
    "Also, if we want to get recommendations based on some user groups we can easily do the same with groupby() method and the same approach"
   ]
  },
  {
   "cell_type": "code",
   "execution_count": 17,
   "id": "28fc0812",
   "metadata": {},
   "outputs": [],
   "source": [
    "# lets add artifical binary group to check BaselineRecommender\n",
    "group = [np.random.random_integers(2) for x in range(len(users))]\n",
    "users['group'] = group"
   ]
  },
  {
   "cell_type": "markdown",
   "id": "629df414",
   "metadata": {},
   "source": [
    "Here we merge it to get groupwise recommendations"
   ]
  },
  {
   "cell_type": "code",
   "execution_count": 18,
   "id": "dbb35bcc",
   "metadata": {},
   "outputs": [
    {
     "data": {
      "text/plain": [
       "group\n",
       "1    [309, 54256, 845, 114464, 107412, 107978, 2659...\n",
       "2    [1819, 9010, 1648, 1649, 26578, 3010, 5056, 86...\n",
       "dtype: object"
      ]
     },
     "execution_count": 18,
     "metadata": {},
     "output_type": "execute_result"
    }
   ],
   "source": [
    "data = pd.merge(interactions_filtered, users, how='left', on = USER_COLUMN)\n",
    "group_recommendations = data.groupby('group').apply(compute_popularity, ITEM_COLUMN, MAX_CANDIDATES)\n",
    "group_recommendations.head()"
   ]
  },
  {
   "cell_type": "markdown",
   "id": "029af993",
   "metadata": {},
   "source": [
    "In the output, we have two rows with a list of film ids for each binary group \n",
    "Next, we have to implement `recommend()` method which will use \n",
    "\n",
    "\n",
    "### 3.2. Recommend\n",
    "Earlier, we discussed that we can take just the average/median, etc. of rating and use it as a popularity metric to use as recommendations.\n",
    "Thus, if we do not have groups to consider (a.k.a more granular estimation), then it means we give the same recommendations\n",
    "for all users i.e. *base_recommendations*"
   ]
  },
  {
   "cell_type": "code",
   "execution_count": 19,
   "id": "af75653c",
   "metadata": {},
   "outputs": [
    {
     "data": {
      "text/html": [
       "<div>\n",
       "<style scoped>\n",
       "    .dataframe tbody tr th:only-of-type {\n",
       "        vertical-align: middle;\n",
       "    }\n",
       "\n",
       "    .dataframe tbody tr th {\n",
       "        vertical-align: top;\n",
       "    }\n",
       "\n",
       "    .dataframe thead th {\n",
       "        text-align: right;\n",
       "    }\n",
       "</style>\n",
       "<table border=\"1\" class=\"dataframe\">\n",
       "  <thead>\n",
       "    <tr style=\"text-align: right;\">\n",
       "      <th></th>\n",
       "      <th>userId</th>\n",
       "      <th>group</th>\n",
       "      <th>rekkos</th>\n",
       "    </tr>\n",
       "  </thead>\n",
       "  <tbody>\n",
       "    <tr>\n",
       "      <th>0</th>\n",
       "      <td>1</td>\n",
       "      <td>2</td>\n",
       "      <td>[74727, 128846, 702, 127728, 65216, 43267, 867...</td>\n",
       "    </tr>\n",
       "    <tr>\n",
       "      <th>1</th>\n",
       "      <td>2</td>\n",
       "      <td>2</td>\n",
       "      <td>[74727, 128846, 702, 127728, 65216, 43267, 867...</td>\n",
       "    </tr>\n",
       "    <tr>\n",
       "      <th>2</th>\n",
       "      <td>3</td>\n",
       "      <td>1</td>\n",
       "      <td>[74727, 128846, 702, 127728, 65216, 43267, 867...</td>\n",
       "    </tr>\n",
       "    <tr>\n",
       "      <th>3</th>\n",
       "      <td>4</td>\n",
       "      <td>2</td>\n",
       "      <td>[74727, 128846, 702, 127728, 65216, 43267, 867...</td>\n",
       "    </tr>\n",
       "    <tr>\n",
       "      <th>4</th>\n",
       "      <td>5</td>\n",
       "      <td>1</td>\n",
       "      <td>[74727, 128846, 702, 127728, 65216, 43267, 867...</td>\n",
       "    </tr>\n",
       "  </tbody>\n",
       "</table>\n",
       "</div>"
      ],
      "text/plain": [
       "   userId  group                                             rekkos\n",
       "0       1      2  [74727, 128846, 702, 127728, 65216, 43267, 867...\n",
       "1       2      2  [74727, 128846, 702, 127728, 65216, 43267, 867...\n",
       "2       3      1  [74727, 128846, 702, 127728, 65216, 43267, 867...\n",
       "3       4      2  [74727, 128846, 702, 127728, 65216, 43267, 867...\n",
       "4       5      1  [74727, 128846, 702, 127728, 65216, 43267, 867..."
      ]
     },
     "execution_count": 19,
     "metadata": {},
     "output_type": "execute_result"
    }
   ],
   "source": [
    "recs = list(islice(cycle([base_recommendations]), len(users['userId'])))\n",
    "users['rekkos'] = recs\n",
    "users.head()"
   ]
  },
  {
   "cell_type": "markdown",
   "id": "2b8bd257",
   "metadata": {},
   "source": [
    "And let's have an example with groups we created earlier"
   ]
  },
  {
   "cell_type": "code",
   "execution_count": 20,
   "id": "54963da9",
   "metadata": {},
   "outputs": [
    {
     "data": {
      "text/html": [
       "<div>\n",
       "<style scoped>\n",
       "    .dataframe tbody tr th:only-of-type {\n",
       "        vertical-align: middle;\n",
       "    }\n",
       "\n",
       "    .dataframe tbody tr th {\n",
       "        vertical-align: top;\n",
       "    }\n",
       "\n",
       "    .dataframe thead th {\n",
       "        text-align: right;\n",
       "    }\n",
       "</style>\n",
       "<table border=\"1\" class=\"dataframe\">\n",
       "  <thead>\n",
       "    <tr style=\"text-align: right;\">\n",
       "      <th></th>\n",
       "      <th>userId</th>\n",
       "      <th>group</th>\n",
       "      <th>rekkos</th>\n",
       "      <th>group_wise_rekkos</th>\n",
       "    </tr>\n",
       "  </thead>\n",
       "  <tbody>\n",
       "    <tr>\n",
       "      <th>0</th>\n",
       "      <td>1</td>\n",
       "      <td>2</td>\n",
       "      <td>[74727, 128846, 702, 127728, 65216, 43267, 867...</td>\n",
       "      <td>[1819, 9010, 1648, 1649, 26578, 3010, 5056, 86...</td>\n",
       "    </tr>\n",
       "    <tr>\n",
       "      <th>1</th>\n",
       "      <td>2</td>\n",
       "      <td>2</td>\n",
       "      <td>[74727, 128846, 702, 127728, 65216, 43267, 867...</td>\n",
       "      <td>[1819, 9010, 1648, 1649, 26578, 3010, 5056, 86...</td>\n",
       "    </tr>\n",
       "    <tr>\n",
       "      <th>2</th>\n",
       "      <td>3</td>\n",
       "      <td>1</td>\n",
       "      <td>[74727, 128846, 702, 127728, 65216, 43267, 867...</td>\n",
       "      <td>[309, 54256, 845, 114464, 107412, 107978, 2659...</td>\n",
       "    </tr>\n",
       "    <tr>\n",
       "      <th>3</th>\n",
       "      <td>4</td>\n",
       "      <td>2</td>\n",
       "      <td>[74727, 128846, 702, 127728, 65216, 43267, 867...</td>\n",
       "      <td>[1819, 9010, 1648, 1649, 26578, 3010, 5056, 86...</td>\n",
       "    </tr>\n",
       "    <tr>\n",
       "      <th>4</th>\n",
       "      <td>5</td>\n",
       "      <td>1</td>\n",
       "      <td>[74727, 128846, 702, 127728, 65216, 43267, 867...</td>\n",
       "      <td>[309, 54256, 845, 114464, 107412, 107978, 2659...</td>\n",
       "    </tr>\n",
       "  </tbody>\n",
       "</table>\n",
       "</div>"
      ],
      "text/plain": [
       "   userId  group                                             rekkos  \\\n",
       "0       1      2  [74727, 128846, 702, 127728, 65216, 43267, 867...   \n",
       "1       2      2  [74727, 128846, 702, 127728, 65216, 43267, 867...   \n",
       "2       3      1  [74727, 128846, 702, 127728, 65216, 43267, 867...   \n",
       "3       4      2  [74727, 128846, 702, 127728, 65216, 43267, 867...   \n",
       "4       5      1  [74727, 128846, 702, 127728, 65216, 43267, 867...   \n",
       "\n",
       "                                   group_wise_rekkos  \n",
       "0  [1819, 9010, 1648, 1649, 26578, 3010, 5056, 86...  \n",
       "1  [1819, 9010, 1648, 1649, 26578, 3010, 5056, 86...  \n",
       "2  [309, 54256, 845, 114464, 107412, 107978, 2659...  \n",
       "3  [1819, 9010, 1648, 1649, 26578, 3010, 5056, 86...  \n",
       "4  [309, 54256, 845, 114464, 107412, 107978, 2659...  "
      ]
     },
     "execution_count": 20,
     "metadata": {},
     "output_type": "execute_result"
    }
   ],
   "source": [
    "group_recommendations = group_recommendations.reset_index()\n",
    "group_rekkos = pd.merge(users, group_recommendations, how = 'left', on = 'group')\n",
    "group_rekkos.rename(columns = {0: 'group_wise_rekkos'}, inplace = True)\n",
    "group_rekkos.head()"
   ]
  },
  {
   "cell_type": "markdown",
   "id": "c5213adf",
   "metadata": {},
   "source": [
    "We got our groupwise recommendations from 3.1. part and just joined them by a group of users assigned to\n",
    "Further, we will prettify our code and wrap it into functions\n",
    "\n",
    "### 3.3. Wrap everything into pretty functions\n",
    "#### 3.3.1. Fit Part\n",
    "\n",
    "In this function, we need to support 4 main parameters\n",
    "- data -- it is going to be pandas classic DataFrame;\n",
    "- item_col -- the name of the item id column so we can apply it on any dataset;\n",
    "- groups -- if we need groupwise recommendations;\n",
    "- max_candidates -- the number of recommendations to return\n",
    "\n",
    "Thus, our function will get a pandas data frame with necessary data, calculate popularity for a given type -\n",
    "groupwise or not and return ids"
   ]
  },
  {
   "cell_type": "code",
   "execution_count": 21,
   "id": "b3e18e84",
   "metadata": {},
   "outputs": [],
   "source": [
    "def fit(\n",
    "    data: pd.DataFrame,\n",
    "    item_col: str,\n",
    "    groups: list = None,\n",
    "    max_candidates: int = 20\n",
    "    ):\n",
    "    \"\"\"\n",
    "    function runs all pipeline to generate recommendations based on given group\n",
    "    :data: dataframe of interactions\n",
    "    :item_col: item column name\n",
    "    :groups: optional, list of groups column names to get recommendations\n",
    "    :max_candidates: number of recommendations to return\n",
    "    \"\"\"\n",
    "    \n",
    "    if groups is not None:\n",
    "        recommendations = data.groupby(groups).apply(compute_popularity, item_col, max_candidates)\n",
    "    else:\n",
    "        recommendations = compute_popularity(data, item_col, max_candidates)\n",
    "\n",
    "    return recommendations"
   ]
  },
  {
   "cell_type": "code",
   "execution_count": 22,
   "id": "091fb497",
   "metadata": {},
   "outputs": [
    {
     "data": {
      "text/plain": [
       "array(['74727', '128846', '702', '127728', '65216', '43267', '8675',\n",
       "       '80717', '86817', '8699', '872', '27724', '26791', '876', '64278',\n",
       "       '301', '59392', '3021', '3112', '1933'], dtype=object)"
      ]
     },
     "execution_count": 22,
     "metadata": {},
     "output_type": "execute_result"
    }
   ],
   "source": [
    "# check base recommendations\n",
    "fit(data, item_col=ITEM_COLUMN)"
   ]
  },
  {
   "cell_type": "code",
   "execution_count": 23,
   "id": "dd3ddae0",
   "metadata": {},
   "outputs": [
    {
     "data": {
      "text/plain": [
       "group\n",
       "1    [309, 54256, 845, 114464, 107412, 107978, 2659...\n",
       "2    [1819, 9010, 1648, 1649, 26578, 3010, 5056, 86...\n",
       "dtype: object"
      ]
     },
     "execution_count": 23,
     "metadata": {},
     "output_type": "execute_result"
    }
   ],
   "source": [
    "# check group-wise\n",
    "fit(data, item_col=ITEM_COLUMN, groups=['group'])"
   ]
  },
  {
   "cell_type": "markdown",
   "id": "0be3830d",
   "metadata": {},
   "source": [
    "#### 3.3.2. Recommend Part\n",
    "Here, we just use calculated recommendations from the above method `fit()`"
   ]
  },
  {
   "cell_type": "code",
   "execution_count": 24,
   "id": "cfdb352d",
   "metadata": {},
   "outputs": [],
   "source": [
    "def recommend(\n",
    "    users: pd.DataFrame,\n",
    "    recommendations: pd.DataFrame,\n",
    "    groups: list = None,\n",
    "    K: int = 10\n",
    "    ):\n",
    "    \"\"\"\n",
    "    recommends items for a given list of users\n",
    "    :users: series / list of users to recommend\n",
    "    :recommendations: output of fit() function\n",
    "    :groups: optional, list of groups column names to get recommendations\n",
    "    :K: number of items to recommend (not always we want to show dozens of items instantly)\n",
    "    \"\"\"\n",
    "    if groups is not None:\n",
    "        output = pd.merge(users, recommendations.reset_index(), how = 'left', on = 'group')\n",
    "\n",
    "    else:\n",
    "        output = users.copy(deep = True)\n",
    "        recs = list(islice(cycle([recommendations]), len(users['userId'])))\n",
    "        output['rekkos'] = recs\n",
    "\n",
    "    return output"
   ]
  },
  {
   "cell_type": "code",
   "execution_count": 25,
   "id": "81fa6d65",
   "metadata": {},
   "outputs": [
    {
     "data": {
      "text/html": [
       "<div>\n",
       "<style scoped>\n",
       "    .dataframe tbody tr th:only-of-type {\n",
       "        vertical-align: middle;\n",
       "    }\n",
       "\n",
       "    .dataframe tbody tr th {\n",
       "        vertical-align: top;\n",
       "    }\n",
       "\n",
       "    .dataframe thead th {\n",
       "        text-align: right;\n",
       "    }\n",
       "</style>\n",
       "<table border=\"1\" class=\"dataframe\">\n",
       "  <thead>\n",
       "    <tr style=\"text-align: right;\">\n",
       "      <th></th>\n",
       "      <th>userId</th>\n",
       "      <th>group</th>\n",
       "      <th>rekkos</th>\n",
       "    </tr>\n",
       "  </thead>\n",
       "  <tbody>\n",
       "    <tr>\n",
       "      <th>0</th>\n",
       "      <td>1</td>\n",
       "      <td>2</td>\n",
       "      <td>[74727, 128846, 702, 127728, 65216, 43267, 867...</td>\n",
       "    </tr>\n",
       "    <tr>\n",
       "      <th>1</th>\n",
       "      <td>2</td>\n",
       "      <td>2</td>\n",
       "      <td>[74727, 128846, 702, 127728, 65216, 43267, 867...</td>\n",
       "    </tr>\n",
       "    <tr>\n",
       "      <th>2</th>\n",
       "      <td>3</td>\n",
       "      <td>1</td>\n",
       "      <td>[74727, 128846, 702, 127728, 65216, 43267, 867...</td>\n",
       "    </tr>\n",
       "    <tr>\n",
       "      <th>3</th>\n",
       "      <td>4</td>\n",
       "      <td>2</td>\n",
       "      <td>[74727, 128846, 702, 127728, 65216, 43267, 867...</td>\n",
       "    </tr>\n",
       "    <tr>\n",
       "      <th>4</th>\n",
       "      <td>5</td>\n",
       "      <td>1</td>\n",
       "      <td>[74727, 128846, 702, 127728, 65216, 43267, 867...</td>\n",
       "    </tr>\n",
       "  </tbody>\n",
       "</table>\n",
       "</div>"
      ],
      "text/plain": [
       "   userId  group                                             rekkos\n",
       "0       1      2  [74727, 128846, 702, 127728, 65216, 43267, 867...\n",
       "1       2      2  [74727, 128846, 702, 127728, 65216, 43267, 867...\n",
       "2       3      1  [74727, 128846, 702, 127728, 65216, 43267, 867...\n",
       "3       4      2  [74727, 128846, 702, 127728, 65216, 43267, 867...\n",
       "4       5      1  [74727, 128846, 702, 127728, 65216, 43267, 867..."
      ]
     },
     "execution_count": 25,
     "metadata": {},
     "output_type": "execute_result"
    }
   ],
   "source": [
    "# check base recommendations\n",
    "recs = fit(data, item_col=ITEM_COLUMN)\n",
    "check_recs = recommend(users[['userId', 'group']], recs)\n",
    "check_recs.head()"
   ]
  },
  {
   "cell_type": "code",
   "execution_count": 26,
   "id": "ea78a9b9",
   "metadata": {},
   "outputs": [
    {
     "data": {
      "text/html": [
       "<div>\n",
       "<style scoped>\n",
       "    .dataframe tbody tr th:only-of-type {\n",
       "        vertical-align: middle;\n",
       "    }\n",
       "\n",
       "    .dataframe tbody tr th {\n",
       "        vertical-align: top;\n",
       "    }\n",
       "\n",
       "    .dataframe thead th {\n",
       "        text-align: right;\n",
       "    }\n",
       "</style>\n",
       "<table border=\"1\" class=\"dataframe\">\n",
       "  <thead>\n",
       "    <tr style=\"text-align: right;\">\n",
       "      <th></th>\n",
       "      <th>userId</th>\n",
       "      <th>group</th>\n",
       "      <th>0</th>\n",
       "    </tr>\n",
       "  </thead>\n",
       "  <tbody>\n",
       "    <tr>\n",
       "      <th>0</th>\n",
       "      <td>1</td>\n",
       "      <td>2</td>\n",
       "      <td>[1819, 9010, 1648, 1649, 26578, 3010, 5056, 86...</td>\n",
       "    </tr>\n",
       "    <tr>\n",
       "      <th>1</th>\n",
       "      <td>2</td>\n",
       "      <td>2</td>\n",
       "      <td>[1819, 9010, 1648, 1649, 26578, 3010, 5056, 86...</td>\n",
       "    </tr>\n",
       "    <tr>\n",
       "      <th>2</th>\n",
       "      <td>3</td>\n",
       "      <td>1</td>\n",
       "      <td>[309, 54256, 845, 114464, 107412, 107978, 2659...</td>\n",
       "    </tr>\n",
       "    <tr>\n",
       "      <th>3</th>\n",
       "      <td>4</td>\n",
       "      <td>2</td>\n",
       "      <td>[1819, 9010, 1648, 1649, 26578, 3010, 5056, 86...</td>\n",
       "    </tr>\n",
       "    <tr>\n",
       "      <th>4</th>\n",
       "      <td>5</td>\n",
       "      <td>1</td>\n",
       "      <td>[309, 54256, 845, 114464, 107412, 107978, 2659...</td>\n",
       "    </tr>\n",
       "  </tbody>\n",
       "</table>\n",
       "</div>"
      ],
      "text/plain": [
       "   userId  group                                                  0\n",
       "0       1      2  [1819, 9010, 1648, 1649, 26578, 3010, 5056, 86...\n",
       "1       2      2  [1819, 9010, 1648, 1649, 26578, 3010, 5056, 86...\n",
       "2       3      1  [309, 54256, 845, 114464, 107412, 107978, 2659...\n",
       "3       4      2  [1819, 9010, 1648, 1649, 26578, 3010, 5056, 86...\n",
       "4       5      1  [309, 54256, 845, 114464, 107412, 107978, 2659..."
      ]
     },
     "execution_count": 26,
     "metadata": {},
     "output_type": "execute_result"
    }
   ],
   "source": [
    "# check group-wise\n",
    "recs = fit(data, item_col=ITEM_COLUMN, groups = ['group'])\n",
    "check_recs = recommend(users[['userId', 'group']], recs, ['group'])\n",
    "check_recs.head()"
   ]
  },
  {
   "cell_type": "markdown",
   "id": "5022617c",
   "metadata": {},
   "source": [
    "Congrats! Your first basic recommender system is ready!! In the next section, we will\n",
    "dive into how to evaluate our model"
   ]
  }
 ],
 "metadata": {
  "jupytext": {
   "formats": "md:myst",
   "text_representation": {
    "extension": ".md",
    "format_name": "myst"
   }
  },
  "kernelspec": {
   "display_name": "Python 3",
   "language": "python",
   "name": "python3"
  },
  "language_info": {
   "codemirror_mode": {
    "name": "ipython",
    "version": 3
   },
   "file_extension": ".py",
   "mimetype": "text/x-python",
   "name": "python",
   "nbconvert_exporter": "python",
   "pygments_lexer": "ipython3",
   "version": "3.9.20"
  },
  "source_map": [
   11,
   32,
   36,
   40,
   55,
   59,
   70,
   74,
   83,
   92,
   96,
   99,
   103,
   108,
   113,
   116,
   120,
   122,
   135,
   141,
   147,
   152,
   155,
   175,
   179,
   181,
   184,
   189,
   195,
   199,
   203,
   205,
   209,
   220,
   224,
   227,
   232,
   248,
   271,
   276,
   279,
   285,
   311,
   318,
   323
  ]
 },
 "nbformat": 4,
 "nbformat_minor": 5
}