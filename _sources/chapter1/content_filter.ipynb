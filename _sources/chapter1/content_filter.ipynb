{
 "cells": [
  {
   "cell_type": "markdown",
   "id": "d13cecb5",
   "metadata": {},
   "source": [
    "(chapter1_part3)=\n",
    "\n",
    "# Content-based Filtering in a Nutshell\n",
    "In this section, we will go through a straightforward way to generate candidates for recommendations.\n",
    "As we mentioned before, one of the methods is *content-based* filtering. We will go through an explanation of\n",
    "this method with an example and finally discuss a particular library to implement it.\n",
    "Before that, we have to define and understand embeddings. As you might have noticed, we mentioned a lot\n",
    "\"similar items\", \"similar users\" etc and the question arises -- how do we define that similarity?\n",
    "Speaking of the calculation of similarity it is pretty straightforward -- we calculate cosine between two arrays.\n",
    "The intriguing part is how we get these arrays from our data.\n",
    "\n",
    "## Embeddings Explained\n",
    "The evolution of text processing started from one-hot encoding. When there was text data, Data Scientists\n",
    "would preprocess them (lower case, remove symbols, etc.) and then create one-hot representations of words or\n",
    "n-grams (when we split words/text into 2-3-...-n parts by characters). Finally, use some ML model on top of it.\n",
    "Notwithstanding the fact of easiness and interpretability of this approach, human language is sophisticated\n",
    "and various words can mean different meanings depending on the context and such a technique fails in most cases.\n",
    "\n",
    "Therefore, embeddings have become the next stage in the text processing pipeline. It is the type of word representation\n",
    "that allows words with similar meanings to have a similar representation. Unlike methods such as one-hot encoding,\n",
    "word embeddings provide a way to represent words in a more meaningful way, by mapping them to a vector of real\n",
    "numbers in a continuous vector space. The idea behind word embedding is to use a neural network to learn\n",
    "relationships between words in a dataset. The neural network is trained to assign a numeric vector to each word\n",
    "in the dataset. Typically, the vector is of fixed length and the goal is to find a vector that accurately\n",
    "represents the meaning of the word, in the context of the dataset. This allows for words in similar contexts\n",
    "to have similar vector representations. \n",
    "\n",
    "For example, imagine a dataset of movie reviews. Let’s say that the neural network has been trained to assign\n",
    "a vector to each word in the dataset. If the word “amazing” is used in a movie review, then the vector assigned\n",
    "to “amazing” will be similar to the vector assigned to “incredible”. This is because the meanings of these two\n",
    "words are similar and they are often used in similar contexts. Word embeddings can also be used to identify\n",
    "relationships between words. For example, consider the words “man” and “woman”. If the neural network assigned\n",
    "similar vectors to these two words, this would indicate that the two words are related.  In addition to\n",
    "identifying relationships between words, word embeddings can also be used to classify documents. For example,\n",
    "if a document contains the words “amazing” and “incredible”, then the neural network can assign an appropriate\n",
    "vector to each of these words. If a second document contains similar words, then the neural network can assign\n",
    "similar vectors to these words. This allows the neural network to accurately classify the documents as being similar. \n",
    "\n",
    "Finally, word embeddings can be used for data visualization. By plotting the vectors assigned to words in\n",
    "a two-dimensional space, it is possible to see how words are related. This can be a useful tool for understanding\n",
    "the relationships between words in a given dataset. In summary, word embeddings are a powerful tool\n",
    "for representing words in a meaningful way. They can be used to identify relationships between words,\n",
    "classify documents, and visualize data. \n",
    "\n",
    "Now, let's consider *content-based filtering* and use simple Word2Vec/Doc2Vec\n",
    "model to get such recommendations.\n",
    "\n",
    "## Content-based Filtering\n",
    "Content-based filtering can be used in a variety of applications, from recommending films and music to suggesting\n",
    "restaurants and travel destinations. In this part, we'll discuss how content-based filtering works and provide\n",
    "some examples.\n",
    "\n",
    "Content-based filtering is a type of recommender system that recommends items to users based on their past\n",
    "preferences and behaviors. It works by analyzing a user's preferences, in terms of attributes such as genre,\n",
    "director, actor, or even a combination of these, and then recommending other items that have similar attributes.\n",
    "For example, if a user has previously watched romantic comedies with Julia Roberts, content-based filtering\n",
    "would recommend other romantic comedies with Julia Roberts, or other films featuring similar actors or directors.\n",
    "\n",
    "Content-based filtering is based on the assumption that users who liked one item will likely like similar items.\n",
    "To generate recommendations, the system first identifies the attributes of the items that the user has previously\n",
    "interacted with. It then identifies other items that have similar attributes and recommends them to the user.\n",
    "For example, if a user has previously listened to Taylor Swift songs, the system will identify other Taylor Swift\n",
    "songs as well as songs with similar attributes, such as a similar genre or artist. In industry, this type of\n",
    "recommendation is shown with \"Similar to ...\". It is an additional nudge to increase the interest of a user\n",
    "as recommendations with explanations seem to be personalized from the user's point of view.\n",
    "\n",
    "In conclusion, content-based filtering is a type of recommender system that recommends items to users based on their\n",
    "past preferences and behaviors. Next, we jump to the coding part and create a simple Word2Vec model via [`gensim`](https://pypi.org/project/gensim/) library.\n",
    "Well-explained the logic of the Word2Vec model you can find [here](https://jalammar.github.io/illustrated-word2vec/).\n",
    "Here, we will not discuss the details of implementation.\n",
    "\n",
    "### gensim: example of content-based recommendations based on Doc2Vec approach\n",
    "Now, we move on to the implementation of a content-based recommender using `gensim` library and Doc2Vec. It is almost\n",
    "the same as Word2Vec with slight modifications, but the idea remains the same.\n",
    "\n",
    "#### 0. Configuration"
   ]
  },
  {
   "cell_type": "code",
   "execution_count": 1,
   "id": "7f78cae4",
   "metadata": {},
   "outputs": [],
   "source": [
    "# links to shared data MovieLens\n",
    "# source on kaggle: https://www.kaggle.com/code/quangnhatbui/movie-recommender/data\n",
    "MOVIES_METADATA_URL = 'https://drive.google.com/file/d/19g6-apYbZb5D-wRj4L7aYKhxS-fDM4Fb/view?usp=share_link'"
   ]
  },
  {
   "cell_type": "markdown",
   "id": "6992a0d8",
   "metadata": {},
   "source": [
    "#### 1. Modules and functions"
   ]
  },
  {
   "cell_type": "code",
   "execution_count": 2,
   "id": "e3fd6514",
   "metadata": {},
   "outputs": [
    {
     "name": "stderr",
     "output_type": "stream",
     "text": [
      "[nltk_data] Downloading package stopwords to /home/runner/nltk_data...\n",
      "[nltk_data]   Unzipping corpora/stopwords.zip.\n"
     ]
    },
    {
     "data": {
      "text/plain": [
       "True"
      ]
     },
     "execution_count": 2,
     "metadata": {},
     "output_type": "execute_result"
    }
   ],
   "source": [
    "# just to make it available to download w/o SSL verification\n",
    "import ssl\n",
    "ssl._create_default_https_context = ssl._create_unverified_context\n",
    "\n",
    "import re\n",
    "import nltk\n",
    "import numpy as np\n",
    "import pandas as pd\n",
    "from tqdm import tqdm_notebook\n",
    "from ast import literal_eval\n",
    "from pymystem3 import Mystem\n",
    "from string import punctuation\n",
    "from nltk.corpus import stopwords\n",
    "from nltk.tokenize import word_tokenize\n",
    "from gensim.models.doc2vec import Doc2Vec, TaggedDocument\n",
    "\n",
    "import warnings\n",
    "warnings.filterwarnings('ignore')\n",
    "\n",
    "# download stop words beforehand\n",
    "nltk.download('stopwords')"
   ]
  },
  {
   "cell_type": "markdown",
   "id": "9a940c55",
   "metadata": {},
   "source": [
    "##### 1.1. Helper functions to avoid copypaste"
   ]
  },
  {
   "cell_type": "code",
   "execution_count": 3,
   "id": "21541668",
   "metadata": {},
   "outputs": [],
   "source": [
    "def read_csv_from_gdrive(url):\n",
    "    \"\"\"\n",
    "    gets csv data from a given url (taken from file -> share -> copy link)\n",
    "    :url: example https://drive.google.com/file/d/1BlZfCLLs5A13tbNSJZ1GPkHLWQOnPlE4/view?usp=share_link\n",
    "    \"\"\"\n",
    "    file_id = url.split('/')[-2]\n",
    "    file_path = 'https://drive.google.com/uc?export=download&id=' + file_id\n",
    "    data = pd.read_csv(file_path)\n",
    "\n",
    "    return data"
   ]
  },
  {
   "cell_type": "code",
   "execution_count": 4,
   "id": "b4b89497",
   "metadata": {},
   "outputs": [
    {
     "name": "stderr",
     "output_type": "stream",
     "text": [
      "Installing mystem to /home/runner/.local/bin/mystem from http://download.cdn.yandex.net/mystem/mystem-3.1-linux-64bit.tar.gz\n"
     ]
    }
   ],
   "source": [
    "# init lemmatizer to avoid slow performance\n",
    "mystem = Mystem() \n",
    "\n",
    "def word_tokenize_clean(doc: str, stop_words: list):\n",
    "    '''\n",
    "    tokenize from string to list of words\n",
    "    '''\n",
    "\n",
    "    # split into lower case word tokens \\w lemmatization\n",
    "    tokens = list(set(mystem.lemmatize(doc.lower())))\n",
    "  \n",
    "    # remove tokens that are not alphabetic (including punctuation) and not a stop word\n",
    "    tokens = [word for word in tokens if word.isalpha() and not word in stop_words \\\n",
    "              not in list(punctuation)]\n",
    "    return tokens"
   ]
  },
  {
   "cell_type": "markdown",
   "id": "f53a878a",
   "metadata": {},
   "source": [
    "#### 2. Main\n",
    "##### 2.1. Data Preparation"
   ]
  },
  {
   "cell_type": "code",
   "execution_count": 5,
   "id": "798c78ad",
   "metadata": {},
   "outputs": [
    {
     "data": {
      "text/plain": [
       "adult                     object\n",
       "belongs_to_collection     object\n",
       "budget                    object\n",
       "genres                    object\n",
       "homepage                  object\n",
       "id                        object\n",
       "imdb_id                   object\n",
       "original_language         object\n",
       "original_title            object\n",
       "overview                  object\n",
       "popularity                object\n",
       "poster_path               object\n",
       "production_companies      object\n",
       "production_countries      object\n",
       "release_date              object\n",
       "revenue                  float64\n",
       "runtime                  float64\n",
       "spoken_languages          object\n",
       "status                    object\n",
       "tagline                   object\n",
       "title                     object\n",
       "video                     object\n",
       "vote_average             float64\n",
       "vote_count               float64\n",
       "dtype: object"
      ]
     },
     "execution_count": 5,
     "metadata": {},
     "output_type": "execute_result"
    }
   ],
   "source": [
    "# read csv information about films etc\n",
    "movies_metadata = read_csv_from_gdrive(MOVIES_METADATA_URL)\n",
    "movies_metadata.dtypes"
   ]
  },
  {
   "cell_type": "markdown",
   "id": "23b3192c",
   "metadata": {},
   "source": [
    "To get accurate results we need to preprocess the text a bit. The pipeline will be as follows:\n",
    "- Filter only necessary columns from movies_metadada : id, original_title, overview;\n",
    "- Define `model_index` for the model to match back with `id` column;\n",
    "- Text cleaning: removing stopwords & punctuation, lemmatization for further tokenization, and tagged document creation required for gensim.Doc2Vec"
   ]
  },
  {
   "cell_type": "code",
   "execution_count": 6,
   "id": "b0c3a376",
   "metadata": {},
   "outputs": [
    {
     "name": "stdout",
     "output_type": "stream",
     "text": [
      "<class 'pandas.core.frame.DataFrame'>\n",
      "RangeIndex: 45466 entries, 0 to 45465\n",
      "Data columns (total 3 columns):\n",
      " #   Column          Non-Null Count  Dtype \n",
      "---  ------          --------------  ----- \n",
      " 0   id              45466 non-null  object\n",
      " 1   original_title  45466 non-null  object\n",
      " 2   overview        44512 non-null  object\n",
      "dtypes: object(3)\n",
      "memory usage: 1.0+ MB\n"
     ]
    }
   ],
   "source": [
    "# filter cols\n",
    "sample = movies_metadata[['id', 'original_title', 'overview']].copy()\n",
    "sample.info()"
   ]
  },
  {
   "cell_type": "code",
   "execution_count": 7,
   "id": "93c0809b",
   "metadata": {},
   "outputs": [
    {
     "data": {
      "text/plain": [
       "id                0\n",
       "original_title    0\n",
       "overview          0\n",
       "dtype: int64"
      ]
     },
     "execution_count": 7,
     "metadata": {},
     "output_type": "execute_result"
    }
   ],
   "source": [
    "# as you see from above, we have missing overview in some cases -- let's fill it with the original title\n",
    "sample.loc[sample['overview'].isnull(), 'overview'] = sample.loc[sample['overview'].isnull(), 'original_title']\n",
    "sample.isnull().sum()"
   ]
  },
  {
   "cell_type": "code",
   "execution_count": 8,
   "id": "60f5243e",
   "metadata": {},
   "outputs": [],
   "source": [
    "# define model_index and make it as string\n",
    "sample = sample.reset_index().rename(columns = {'index': 'model_index'})\n",
    "sample['model_index'] = sample['model_index'].astype(str)"
   ]
  },
  {
   "cell_type": "code",
   "execution_count": 9,
   "id": "2d401e75",
   "metadata": {},
   "outputs": [],
   "source": [
    "# create mapper with title and model_idnex to use it further in evaluation\n",
    "movies_inv_mapper = dict(zip(sample['original_title'].str.lower(), sample['model_index'].astype(int)))"
   ]
  },
  {
   "cell_type": "code",
   "execution_count": 10,
   "id": "4a8689d1",
   "metadata": {},
   "outputs": [
    {
     "data": {
      "text/plain": [
       "[\"Led by Woody, Andy's toys live happily in his room until Andy's birthday brings Buzz Lightyear onto the scene. Afraid of losing his place in Andy's heart, Woody plots against Buzz. But when circumstances separate Buzz and Woody from their owner, the duo eventually learns to put aside their differences.\"]"
      ]
     },
     "execution_count": 10,
     "metadata": {},
     "output_type": "execute_result"
    }
   ],
   "source": [
    "# preprocess by removing non-character data, stopwords\n",
    "tags_corpus = sample['overview'].values\n",
    "tags_corpus = [re.sub('-[!/()0-9]', '', x) for x in tags_corpus]\n",
    "stop_words = stopwords.words('english')\n",
    "\n",
    "tags_doc = [word_tokenize_clean(description, stop_words) for description in tags_corpus]\n",
    "tags_corpus[:1]"
   ]
  },
  {
   "cell_type": "code",
   "execution_count": 11,
   "id": "2f746b1b",
   "metadata": {},
   "outputs": [],
   "source": [
    "# prepare data as model input for Word2Vec\n",
    "## it takes some time to execute\n",
    "tags_doc = [TaggedDocument(words = word_tokenize_clean(D, stop_words), tags = [str(i)]) for i, D in enumerate(tags_corpus)]"
   ]
  },
  {
   "cell_type": "code",
   "execution_count": 12,
   "id": "0f95e02e",
   "metadata": {},
   "outputs": [
    {
     "data": {
      "text/plain": [
       "TaggedDocument(words=['three', 'risky', 'freedom', 'board', 'hope', 'find', 'unwittingly', 'monkeys', 'magical', 'judy', 'years', 'room', 'creatures', 'proves', 'giant', 'discover', 'game', 'living', 'evil', 'alan', 'world', 'rhinoceroses', 'terrifying', 'inside', 'trapped', 'siblings', 'enchanted', 'adult', 'running', 'invite', 'finish', 'opens', 'door', 'peter'], tags=['1'])"
      ]
     },
     "execution_count": 12,
     "metadata": {},
     "output_type": "execute_result"
    }
   ],
   "source": [
    "# let's check what do we have\n",
    "## tag = movie index\n",
    "tags_doc[1]"
   ]
  },
  {
   "cell_type": "markdown",
   "id": "918c54ae",
   "metadata": {},
   "source": [
    "#### 2.2. Model Training and Evaluation\n",
    "\n",
    "First, let's define some paramters for Doc2Vec model"
   ]
  },
  {
   "cell_type": "code",
   "execution_count": 13,
   "id": "3ea10f52",
   "metadata": {},
   "outputs": [],
   "source": [
    "VEC_SIZE = 50 # length of the vector for each movie\n",
    "ALPHA = .02 # model learning param\n",
    "MIN_ALPHA = .00025 # model learning param\n",
    "MIN_COUNT = 5 # min occurrence of a word in dictionary\n",
    "EPOCHS = 20 # number of trainings"
   ]
  },
  {
   "cell_type": "code",
   "execution_count": 14,
   "id": "a6bdb760",
   "metadata": {},
   "outputs": [],
   "source": [
    "# initialize the model\n",
    "model = Doc2Vec(vector_size = VEC_SIZE,\n",
    "                alpha = ALPHA, \n",
    "                min_alpha = MIN_ALPHA,\n",
    "                min_count = MIN_COUNT,\n",
    "                dm = 0)"
   ]
  },
  {
   "cell_type": "code",
   "execution_count": 15,
   "id": "e94ebb33",
   "metadata": {},
   "outputs": [],
   "source": [
    "# generate vocab from all tag docs\n",
    "model.build_vocab(tags_doc)"
   ]
  },
  {
   "cell_type": "code",
   "execution_count": 16,
   "id": "735425b6",
   "metadata": {},
   "outputs": [],
   "source": [
    "# train model\n",
    "model.train(tags_doc,\n",
    "            total_examples = model.corpus_count,\n",
    "            epochs = EPOCHS)"
   ]
  },
  {
   "cell_type": "markdown",
   "id": "ea584588",
   "metadata": {},
   "source": [
    "Now, let's make some checks by defining parameters for the model ourselves.\n",
    "Assume that we watched the movie `batman` and based on that generate recommendations similar to its description.\n",
    "To do that we need:\n",
    "- To extract movie id from `movies_inv_mapper` we created to map back titles from the model output\n",
    "- Load embeddings from the trained model\n",
    "- Use the built-in most_similar() method to get the most relevant recommendations based on film embedding\n",
    "- Finally, map title names for sense-check"
   ]
  },
  {
   "cell_type": "code",
   "execution_count": 17,
   "id": "76924c7b",
   "metadata": {},
   "outputs": [
    {
     "data": {
      "text/plain": [
       "8603"
      ]
     },
     "execution_count": 17,
     "metadata": {},
     "output_type": "execute_result"
    }
   ],
   "source": [
    "# get id\n",
    "movie_id = movies_inv_mapper['batman']\n",
    "movie_id"
   ]
  },
  {
   "cell_type": "code",
   "execution_count": 18,
   "id": "b0acc0b3",
   "metadata": {},
   "outputs": [],
   "source": [
    "# load trained embeddings \n",
    "movies_vectors = model.dv.vectors"
   ]
  },
  {
   "cell_type": "code",
   "execution_count": 19,
   "id": "55f6f768",
   "metadata": {},
   "outputs": [],
   "source": [
    "movie_embeddings = movies_vectors[movie_id]"
   ]
  },
  {
   "cell_type": "code",
   "execution_count": 20,
   "id": "44fd513a",
   "metadata": {},
   "outputs": [
    {
     "data": {
      "text/html": [
       "<div>\n",
       "<style scoped>\n",
       "    .dataframe tbody tr th:only-of-type {\n",
       "        vertical-align: middle;\n",
       "    }\n",
       "\n",
       "    .dataframe tbody tr th {\n",
       "        vertical-align: top;\n",
       "    }\n",
       "\n",
       "    .dataframe thead th {\n",
       "        text-align: right;\n",
       "    }\n",
       "</style>\n",
       "<table border=\"1\" class=\"dataframe\">\n",
       "  <thead>\n",
       "    <tr style=\"text-align: right;\">\n",
       "      <th></th>\n",
       "      <th>model_index</th>\n",
       "      <th>model_score</th>\n",
       "    </tr>\n",
       "  </thead>\n",
       "  <tbody>\n",
       "    <tr>\n",
       "      <th>0</th>\n",
       "      <td>8603</td>\n",
       "      <td>1.000000</td>\n",
       "    </tr>\n",
       "    <tr>\n",
       "      <th>1</th>\n",
       "      <td>13835</td>\n",
       "      <td>0.961083</td>\n",
       "    </tr>\n",
       "    <tr>\n",
       "      <th>2</th>\n",
       "      <td>5713</td>\n",
       "      <td>0.959109</td>\n",
       "    </tr>\n",
       "    <tr>\n",
       "      <th>3</th>\n",
       "      <td>43165</td>\n",
       "      <td>0.953767</td>\n",
       "    </tr>\n",
       "    <tr>\n",
       "      <th>4</th>\n",
       "      <td>44339</td>\n",
       "      <td>0.950480</td>\n",
       "    </tr>\n",
       "  </tbody>\n",
       "</table>\n",
       "</div>"
      ],
      "text/plain": [
       "  model_index  model_score\n",
       "0        8603     1.000000\n",
       "1       13835     0.961083\n",
       "2        5713     0.959109\n",
       "3       43165     0.953767\n",
       "4       44339     0.950480"
      ]
     },
     "execution_count": 20,
     "metadata": {},
     "output_type": "execute_result"
    }
   ],
   "source": [
    "# get recommendations\n",
    "similars = model.docvecs.most_similar(positive = [movie_embeddings], topn = 20)\n",
    "output = pd.DataFrame(similars, columns = ['model_index', 'model_score'])\n",
    "output.head()"
   ]
  },
  {
   "cell_type": "code",
   "execution_count": 21,
   "id": "7f5c2410",
   "metadata": {},
   "outputs": [],
   "source": [
    "# reverse values and indices to map names in dataframe\n",
    "name_mapper = {v: k for k, v in movies_inv_mapper.items()}"
   ]
  },
  {
   "cell_type": "code",
   "execution_count": 22,
   "id": "4ac5646f",
   "metadata": {},
   "outputs": [
    {
     "data": {
      "text/html": [
       "<div>\n",
       "<style scoped>\n",
       "    .dataframe tbody tr th:only-of-type {\n",
       "        vertical-align: middle;\n",
       "    }\n",
       "\n",
       "    .dataframe tbody tr th {\n",
       "        vertical-align: top;\n",
       "    }\n",
       "\n",
       "    .dataframe thead th {\n",
       "        text-align: right;\n",
       "    }\n",
       "</style>\n",
       "<table border=\"1\" class=\"dataframe\">\n",
       "  <thead>\n",
       "    <tr style=\"text-align: right;\">\n",
       "      <th></th>\n",
       "      <th>model_index</th>\n",
       "      <th>model_score</th>\n",
       "      <th>title_name</th>\n",
       "    </tr>\n",
       "  </thead>\n",
       "  <tbody>\n",
       "    <tr>\n",
       "      <th>0</th>\n",
       "      <td>8603</td>\n",
       "      <td>1.000000</td>\n",
       "      <td>batman</td>\n",
       "    </tr>\n",
       "    <tr>\n",
       "      <th>1</th>\n",
       "      <td>13835</td>\n",
       "      <td>0.961083</td>\n",
       "      <td>k2</td>\n",
       "    </tr>\n",
       "    <tr>\n",
       "      <th>2</th>\n",
       "      <td>5713</td>\n",
       "      <td>0.959109</td>\n",
       "      <td>rollover</td>\n",
       "    </tr>\n",
       "    <tr>\n",
       "      <th>3</th>\n",
       "      <td>43165</td>\n",
       "      <td>0.953767</td>\n",
       "      <td>the zookeeper's wife</td>\n",
       "    </tr>\n",
       "    <tr>\n",
       "      <th>4</th>\n",
       "      <td>44339</td>\n",
       "      <td>0.950480</td>\n",
       "      <td>the underground world</td>\n",
       "    </tr>\n",
       "    <tr>\n",
       "      <th>5</th>\n",
       "      <td>43461</td>\n",
       "      <td>0.949387</td>\n",
       "      <td>megafault</td>\n",
       "    </tr>\n",
       "    <tr>\n",
       "      <th>6</th>\n",
       "      <td>29872</td>\n",
       "      <td>0.947541</td>\n",
       "      <td>angels die hard</td>\n",
       "    </tr>\n",
       "    <tr>\n",
       "      <th>7</th>\n",
       "      <td>25184</td>\n",
       "      <td>0.943308</td>\n",
       "      <td>penguins of madagascar</td>\n",
       "    </tr>\n",
       "    <tr>\n",
       "      <th>8</th>\n",
       "      <td>35181</td>\n",
       "      <td>0.942924</td>\n",
       "      <td>конек-горбунок</td>\n",
       "    </tr>\n",
       "    <tr>\n",
       "      <th>9</th>\n",
       "      <td>1045</td>\n",
       "      <td>0.942302</td>\n",
       "      <td>sleeper</td>\n",
       "    </tr>\n",
       "    <tr>\n",
       "      <th>10</th>\n",
       "      <td>30134</td>\n",
       "      <td>0.941913</td>\n",
       "      <td>spy</td>\n",
       "    </tr>\n",
       "    <tr>\n",
       "      <th>11</th>\n",
       "      <td>15627</td>\n",
       "      <td>0.941629</td>\n",
       "      <td>crossworlds</td>\n",
       "    </tr>\n",
       "    <tr>\n",
       "      <th>12</th>\n",
       "      <td>37877</td>\n",
       "      <td>0.941500</td>\n",
       "      <td>bowery battalion</td>\n",
       "    </tr>\n",
       "    <tr>\n",
       "      <th>13</th>\n",
       "      <td>27658</td>\n",
       "      <td>0.941404</td>\n",
       "      <td>giperboloid inzhenera garina</td>\n",
       "    </tr>\n",
       "    <tr>\n",
       "      <th>14</th>\n",
       "      <td>7772</td>\n",
       "      <td>0.939741</td>\n",
       "      <td>this island earth</td>\n",
       "    </tr>\n",
       "    <tr>\n",
       "      <th>15</th>\n",
       "      <td>26340</td>\n",
       "      <td>0.939389</td>\n",
       "      <td>the siege of firebase gloria</td>\n",
       "    </tr>\n",
       "    <tr>\n",
       "      <th>16</th>\n",
       "      <td>10492</td>\n",
       "      <td>0.939263</td>\n",
       "      <td>NaN</td>\n",
       "    </tr>\n",
       "    <tr>\n",
       "      <th>17</th>\n",
       "      <td>14144</td>\n",
       "      <td>0.938478</td>\n",
       "      <td>¡bienvenido, míster marshall!</td>\n",
       "    </tr>\n",
       "    <tr>\n",
       "      <th>18</th>\n",
       "      <td>37739</td>\n",
       "      <td>0.938457</td>\n",
       "      <td>google and the world brain</td>\n",
       "    </tr>\n",
       "    <tr>\n",
       "      <th>19</th>\n",
       "      <td>65</td>\n",
       "      <td>0.938384</td>\n",
       "      <td>lawnmower man 2: beyond cyberspace</td>\n",
       "    </tr>\n",
       "  </tbody>\n",
       "</table>\n",
       "</div>"
      ],
      "text/plain": [
       "   model_index  model_score                          title_name\n",
       "0         8603     1.000000                              batman\n",
       "1        13835     0.961083                                  k2\n",
       "2         5713     0.959109                            rollover\n",
       "3        43165     0.953767                the zookeeper's wife\n",
       "4        44339     0.950480               the underground world\n",
       "5        43461     0.949387                           megafault\n",
       "6        29872     0.947541                     angels die hard\n",
       "7        25184     0.943308              penguins of madagascar\n",
       "8        35181     0.942924                      конек-горбунок\n",
       "9         1045     0.942302                             sleeper\n",
       "10       30134     0.941913                                 spy\n",
       "11       15627     0.941629                         crossworlds\n",
       "12       37877     0.941500                    bowery battalion\n",
       "13       27658     0.941404        giperboloid inzhenera garina\n",
       "14        7772     0.939741                   this island earth\n",
       "15       26340     0.939389        the siege of firebase gloria\n",
       "16       10492     0.939263                                 NaN\n",
       "17       14144     0.938478       ¡bienvenido, míster marshall!\n",
       "18       37739     0.938457          google and the world brain\n",
       "19          65     0.938384  lawnmower man 2: beyond cyberspace"
      ]
     },
     "execution_count": 22,
     "metadata": {},
     "output_type": "execute_result"
    }
   ],
   "source": [
    "output['title_name'] = output['model_index'].astype(int).map(name_mapper)\n",
    "output"
   ]
  },
  {
   "cell_type": "markdown",
   "id": "8695cb3a",
   "metadata": {},
   "source": [
    "# Source & further recommendations\n",
    "- [Deep explanation of Word2Vec and embeddings](https://jalammar.github.io/illustrated-word2vec/)"
   ]
  }
 ],
 "metadata": {
  "jupytext": {
   "formats": "md:myst",
   "text_representation": {
    "extension": ".md",
    "format_name": "myst"
   }
  },
  "kernelspec": {
   "display_name": "Python 3",
   "language": "python",
   "name": "python3"
  },
  "language_info": {
   "codemirror_mode": {
    "name": "ipython",
    "version": 3
   },
   "file_extension": ".py",
   "mimetype": "text/x-python",
   "name": "python",
   "nbconvert_exporter": "python",
   "pygments_lexer": "ipython3",
   "version": "3.9.17"
  },
  "source_map": [
   11,
   89,
   93,
   96,
   118,
   120,
   133,
   149,
   154,
   158,
   165,
   170,
   176,
   182,
   187,
   197,
   203,
   207,
   212,
   220,
   229,
   234,
   239,
   249,
   255,
   260,
   264,
   271,
   276,
   279
  ]
 },
 "nbformat": 4,
 "nbformat_minor": 5
}